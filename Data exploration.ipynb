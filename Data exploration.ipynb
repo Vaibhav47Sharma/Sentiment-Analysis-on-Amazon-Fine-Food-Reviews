{
 "cells": [
  {
   "cell_type": "code",
   "execution_count": 1,
   "metadata": {},
   "outputs": [],
   "source": [
    "import pandas as pd\n",
    "import numpy as np"
   ]
  },
  {
   "cell_type": "code",
   "execution_count": 45,
   "metadata": {},
   "outputs": [],
   "source": [
    "food_reviews = pd.read_csv('food_reviews.csv', encoding=\"ISO-8859-1\")"
   ]
  },
  {
   "cell_type": "code",
   "execution_count": 46,
   "metadata": {},
   "outputs": [
    {
     "data": {
      "text/html": [
       "<div>\n",
       "<style scoped>\n",
       "    .dataframe tbody tr th:only-of-type {\n",
       "        vertical-align: middle;\n",
       "    }\n",
       "\n",
       "    .dataframe tbody tr th {\n",
       "        vertical-align: top;\n",
       "    }\n",
       "\n",
       "    .dataframe thead th {\n",
       "        text-align: right;\n",
       "    }\n",
       "</style>\n",
       "<table border=\"1\" class=\"dataframe\">\n",
       "  <thead>\n",
       "    <tr style=\"text-align: right;\">\n",
       "      <th></th>\n",
       "      <th>product/productId</th>\n",
       "      <th>review/userId</th>\n",
       "      <th>review/profileName</th>\n",
       "      <th>review/helpfulness</th>\n",
       "      <th>review/score</th>\n",
       "      <th>review/time</th>\n",
       "      <th>review/summary</th>\n",
       "      <th>review/text</th>\n",
       "    </tr>\n",
       "  </thead>\n",
       "  <tbody>\n",
       "    <tr>\n",
       "      <th>568457</th>\n",
       "      <td>B003S1WTCU</td>\n",
       "      <td>A3I8AFVPEE8KI5</td>\n",
       "      <td>R. Sawyer</td>\n",
       "      <td>0/0</td>\n",
       "      <td>2.0</td>\n",
       "      <td>1.331251e+09</td>\n",
       "      <td>disappointed</td>\n",
       "      <td>I'm disappointed with the flavor. The chocolat...</td>\n",
       "    </tr>\n",
       "    <tr>\n",
       "      <th>568458</th>\n",
       "      <td>B004I613EE</td>\n",
       "      <td>A121AA1GQV751Z</td>\n",
       "      <td>pksd \"pk_007\"</td>\n",
       "      <td>2/2</td>\n",
       "      <td>5.0</td>\n",
       "      <td>1.329782e+09</td>\n",
       "      <td>Perfect for our maltipoo</td>\n",
       "      <td>These stars are small, so you can give 10-15 o...</td>\n",
       "    </tr>\n",
       "    <tr>\n",
       "      <th>568459</th>\n",
       "      <td>B004I613EE</td>\n",
       "      <td>A3IBEVCTXKNOH</td>\n",
       "      <td>Kathy A. Welch \"katwel\"</td>\n",
       "      <td>1/1</td>\n",
       "      <td>5.0</td>\n",
       "      <td>1.331597e+09</td>\n",
       "      <td>Favorite Training and reward treat</td>\n",
       "      <td>These are the BEST treats for training and rew...</td>\n",
       "    </tr>\n",
       "    <tr>\n",
       "      <th>568460</th>\n",
       "      <td>B001LR2CU2</td>\n",
       "      <td>A3LGQPJCZVL9UC</td>\n",
       "      <td>srfell17</td>\n",
       "      <td>0/0</td>\n",
       "      <td>5.0</td>\n",
       "      <td>1.338422e+09</td>\n",
       "      <td>Great Honey</td>\n",
       "      <td>I am very satisfied ,product is as advertised,...</td>\n",
       "    </tr>\n",
       "    <tr>\n",
       "      <th>568461</th>\n",
       "      <td>NaN</td>\n",
       "      <td>NaN</td>\n",
       "      <td>NaN</td>\n",
       "      <td>NaN</td>\n",
       "      <td>NaN</td>\n",
       "      <td>NaN</td>\n",
       "      <td>NaN</td>\n",
       "      <td>NaN</td>\n",
       "    </tr>\n",
       "  </tbody>\n",
       "</table>\n",
       "</div>"
      ],
      "text/plain": [
       "       product/productId   review/userId       review/profileName  \\\n",
       "568457        B003S1WTCU  A3I8AFVPEE8KI5                R. Sawyer   \n",
       "568458        B004I613EE  A121AA1GQV751Z            pksd \"pk_007\"   \n",
       "568459        B004I613EE   A3IBEVCTXKNOH  Kathy A. Welch \"katwel\"   \n",
       "568460        B001LR2CU2  A3LGQPJCZVL9UC                 srfell17   \n",
       "568461               NaN             NaN                      NaN   \n",
       "\n",
       "       review/helpfulness  review/score   review/time  \\\n",
       "568457                0/0           2.0  1.331251e+09   \n",
       "568458                2/2           5.0  1.329782e+09   \n",
       "568459                1/1           5.0  1.331597e+09   \n",
       "568460                0/0           5.0  1.338422e+09   \n",
       "568461                NaN           NaN           NaN   \n",
       "\n",
       "                            review/summary  \\\n",
       "568457                        disappointed   \n",
       "568458            Perfect for our maltipoo   \n",
       "568459  Favorite Training and reward treat   \n",
       "568460                         Great Honey   \n",
       "568461                                 NaN   \n",
       "\n",
       "                                              review/text  \n",
       "568457  I'm disappointed with the flavor. The chocolat...  \n",
       "568458  These stars are small, so you can give 10-15 o...  \n",
       "568459  These are the BEST treats for training and rew...  \n",
       "568460  I am very satisfied ,product is as advertised,...  \n",
       "568461                                                NaN  "
      ]
     },
     "execution_count": 46,
     "metadata": {},
     "output_type": "execute_result"
    }
   ],
   "source": [
    "food_reviews.tail()"
   ]
  },
  {
   "cell_type": "markdown",
   "metadata": {},
   "source": [
    "As last row is empty, removing it"
   ]
  },
  {
   "cell_type": "code",
   "execution_count": 47,
   "metadata": {},
   "outputs": [],
   "source": [
    "food_reviews = food_reviews.iloc[0:len(food_reviews) - 1,]"
   ]
  },
  {
   "cell_type": "markdown",
   "metadata": {},
   "source": [
    "Checking if the dataframe has empty values"
   ]
  },
  {
   "cell_type": "code",
   "execution_count": 48,
   "metadata": {},
   "outputs": [
    {
     "data": {
      "text/plain": [
       "True"
      ]
     },
     "execution_count": 48,
     "metadata": {},
     "output_type": "execute_result"
    }
   ],
   "source": [
    "food_reviews.isnull().values.any()"
   ]
  },
  {
   "cell_type": "markdown",
   "metadata": {},
   "source": [
    "It has na values... Finding out which column has them"
   ]
  },
  {
   "cell_type": "code",
   "execution_count": 49,
   "metadata": {},
   "outputs": [
    {
     "name": "stdout",
     "output_type": "stream",
     "text": [
      "Column 0\n",
      "True\n",
      "Column 1\n",
      "True\n",
      "Column 2\n",
      "True\n",
      "Column 3\n",
      "True\n",
      "Column 4\n",
      "True\n",
      "Column 5\n",
      "True\n",
      "Column 6\n",
      "True\n",
      "Column 7\n",
      "True\n"
     ]
    }
   ],
   "source": [
    "for i in range(len(food_reviews.columns)):\n",
    "    print('Column ' + str(i))\n",
    "    print(food_reviews.iloc[:,i].isnull().values.any())"
   ]
  },
  {
   "cell_type": "markdown",
   "metadata": {},
   "source": [
    "Summary and text columns have missing values. Dropping those rows which have both of them missing."
   ]
  },
  {
   "cell_type": "code",
   "execution_count": 54,
   "metadata": {},
   "outputs": [
    {
     "data": {
      "text/html": [
       "<div>\n",
       "<style scoped>\n",
       "    .dataframe tbody tr th:only-of-type {\n",
       "        vertical-align: middle;\n",
       "    }\n",
       "\n",
       "    .dataframe tbody tr th {\n",
       "        vertical-align: top;\n",
       "    }\n",
       "\n",
       "    .dataframe thead th {\n",
       "        text-align: right;\n",
       "    }\n",
       "</style>\n",
       "<table border=\"1\" class=\"dataframe\">\n",
       "  <thead>\n",
       "    <tr style=\"text-align: right;\">\n",
       "      <th></th>\n",
       "      <th>product/productId</th>\n",
       "      <th>review/userId</th>\n",
       "      <th>review/profileName</th>\n",
       "      <th>review/helpfulness</th>\n",
       "      <th>review/score</th>\n",
       "      <th>review/time</th>\n",
       "      <th>review/summary</th>\n",
       "      <th>review/text</th>\n",
       "    </tr>\n",
       "  </thead>\n",
       "  <tbody>\n",
       "    <tr>\n",
       "      <th>568456</th>\n",
       "      <td>B001EO7N10</td>\n",
       "      <td>A28KG5XORO54AY</td>\n",
       "      <td>Lettie D. Carter</td>\n",
       "      <td>0/0</td>\n",
       "      <td>5.0</td>\n",
       "      <td>1.299629e+09</td>\n",
       "      <td>Will not do without</td>\n",
       "      <td>Great for sesame chicken..this is a good if no...</td>\n",
       "    </tr>\n",
       "    <tr>\n",
       "      <th>568457</th>\n",
       "      <td>B003S1WTCU</td>\n",
       "      <td>A3I8AFVPEE8KI5</td>\n",
       "      <td>R. Sawyer</td>\n",
       "      <td>0/0</td>\n",
       "      <td>2.0</td>\n",
       "      <td>1.331251e+09</td>\n",
       "      <td>disappointed</td>\n",
       "      <td>I'm disappointed with the flavor. The chocolat...</td>\n",
       "    </tr>\n",
       "    <tr>\n",
       "      <th>568458</th>\n",
       "      <td>B004I613EE</td>\n",
       "      <td>A121AA1GQV751Z</td>\n",
       "      <td>pksd \"pk_007\"</td>\n",
       "      <td>2/2</td>\n",
       "      <td>5.0</td>\n",
       "      <td>1.329782e+09</td>\n",
       "      <td>Perfect for our maltipoo</td>\n",
       "      <td>These stars are small, so you can give 10-15 o...</td>\n",
       "    </tr>\n",
       "    <tr>\n",
       "      <th>568459</th>\n",
       "      <td>B004I613EE</td>\n",
       "      <td>A3IBEVCTXKNOH</td>\n",
       "      <td>Kathy A. Welch \"katwel\"</td>\n",
       "      <td>1/1</td>\n",
       "      <td>5.0</td>\n",
       "      <td>1.331597e+09</td>\n",
       "      <td>Favorite Training and reward treat</td>\n",
       "      <td>These are the BEST treats for training and rew...</td>\n",
       "    </tr>\n",
       "    <tr>\n",
       "      <th>568460</th>\n",
       "      <td>B001LR2CU2</td>\n",
       "      <td>A3LGQPJCZVL9UC</td>\n",
       "      <td>srfell17</td>\n",
       "      <td>0/0</td>\n",
       "      <td>5.0</td>\n",
       "      <td>1.338422e+09</td>\n",
       "      <td>Great Honey</td>\n",
       "      <td>I am very satisfied ,product is as advertised,...</td>\n",
       "    </tr>\n",
       "  </tbody>\n",
       "</table>\n",
       "</div>"
      ],
      "text/plain": [
       "       product/productId   review/userId       review/profileName  \\\n",
       "568456        B001EO7N10  A28KG5XORO54AY         Lettie D. Carter   \n",
       "568457        B003S1WTCU  A3I8AFVPEE8KI5                R. Sawyer   \n",
       "568458        B004I613EE  A121AA1GQV751Z            pksd \"pk_007\"   \n",
       "568459        B004I613EE   A3IBEVCTXKNOH  Kathy A. Welch \"katwel\"   \n",
       "568460        B001LR2CU2  A3LGQPJCZVL9UC                 srfell17   \n",
       "\n",
       "       review/helpfulness  review/score   review/time  \\\n",
       "568456                0/0           5.0  1.299629e+09   \n",
       "568457                0/0           2.0  1.331251e+09   \n",
       "568458                2/2           5.0  1.329782e+09   \n",
       "568459                1/1           5.0  1.331597e+09   \n",
       "568460                0/0           5.0  1.338422e+09   \n",
       "\n",
       "                            review/summary  \\\n",
       "568456                 Will not do without   \n",
       "568457                        disappointed   \n",
       "568458            Perfect for our maltipoo   \n",
       "568459  Favorite Training and reward treat   \n",
       "568460                         Great Honey   \n",
       "\n",
       "                                              review/text  \n",
       "568456  Great for sesame chicken..this is a good if no...  \n",
       "568457  I'm disappointed with the flavor. The chocolat...  \n",
       "568458  These stars are small, so you can give 10-15 o...  \n",
       "568459  These are the BEST treats for training and rew...  \n",
       "568460  I am very satisfied ,product is as advertised,...  "
      ]
     },
     "execution_count": 54,
     "metadata": {},
     "output_type": "execute_result"
    }
   ],
   "source": [
    "food_reviews = food_reviews[food_reviews['review/summary'].notnull() | food_reviews['review/text'].notnull()]\n",
    "food_reviews.tail()"
   ]
  },
  {
   "cell_type": "markdown",
   "metadata": {},
   "source": [
    "Dataframe now has one row less"
   ]
  },
  {
   "cell_type": "code",
   "execution_count": 55,
   "metadata": {},
   "outputs": [
    {
     "data": {
      "text/plain": [
       "False"
      ]
     },
     "execution_count": 55,
     "metadata": {},
     "output_type": "execute_result"
    }
   ],
   "source": [
    "food_reviews['review/text'].isnull().values.any()"
   ]
  },
  {
   "cell_type": "code",
   "execution_count": 56,
   "metadata": {},
   "outputs": [
    {
     "data": {
      "text/plain": [
       "True"
      ]
     },
     "execution_count": 56,
     "metadata": {},
     "output_type": "execute_result"
    }
   ],
   "source": [
    "food_reviews['review/summary'].isnull().values.any()"
   ]
  },
  {
   "cell_type": "markdown",
   "metadata": {},
   "source": [
    "Now the text column doesn't seem to have any missing value"
   ]
  }
 ],
 "metadata": {
  "kernelspec": {
   "display_name": "Python 3",
   "language": "python",
   "name": "python3"
  },
  "language_info": {
   "codemirror_mode": {
    "name": "ipython",
    "version": 3
   },
   "file_extension": ".py",
   "mimetype": "text/x-python",
   "name": "python",
   "nbconvert_exporter": "python",
   "pygments_lexer": "ipython3",
   "version": "3.6.5"
  }
 },
 "nbformat": 4,
 "nbformat_minor": 2
}
