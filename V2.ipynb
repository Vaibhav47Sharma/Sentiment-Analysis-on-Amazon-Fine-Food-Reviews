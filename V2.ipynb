{
 "cells": [
  {
   "cell_type": "code",
   "execution_count": 1,
   "metadata": {
    "_uuid": "005dc76f4199cb8bc738c7694cc55848a590d526"
   },
   "outputs": [],
   "source": [
    "import pandas as pd\n",
    "import numpy as np\n",
    "import datetime as dt\n",
    "\n",
    "# set options\n",
    "pd.options.display.max_colwidth = 50\n",
    "pd.set_option('display.max_colwidth', -1) \n",
    "pd.options.mode.chained_assignment = None  # default='warn'"
   ]
  },
  {
   "cell_type": "markdown",
   "metadata": {
    "_uuid": "2887c9658342ae75b6fa3b2f15c215884becdb54"
   },
   "source": [
    "## Loading data"
   ]
  },
  {
   "cell_type": "code",
   "execution_count": 2,
   "metadata": {
    "_uuid": "8e3c3f3d48f75d21ede5b076d3c1e89eb688e631"
   },
   "outputs": [],
   "source": [
    "food_reviews = pd.read_csv('food_reviews.csv', encoding=\"ISO-8859-1\")"
   ]
  },
  {
   "cell_type": "code",
   "execution_count": 25,
   "metadata": {
    "_uuid": "f56de5994419bc5bed1d2409b7f785c84cb58ead"
   },
   "outputs": [
    {
     "data": {
      "text/html": [
       "<div>\n",
       "<style scoped>\n",
       "    .dataframe tbody tr th:only-of-type {\n",
       "        vertical-align: middle;\n",
       "    }\n",
       "\n",
       "    .dataframe tbody tr th {\n",
       "        vertical-align: top;\n",
       "    }\n",
       "\n",
       "    .dataframe thead th {\n",
       "        text-align: right;\n",
       "    }\n",
       "</style>\n",
       "<table border=\"1\" class=\"dataframe\">\n",
       "  <thead>\n",
       "    <tr style=\"text-align: right;\">\n",
       "      <th></th>\n",
       "      <th>product/productId</th>\n",
       "      <th>review/userId</th>\n",
       "      <th>review/profileName</th>\n",
       "      <th>review/helpfulness</th>\n",
       "      <th>review/score</th>\n",
       "      <th>review/time</th>\n",
       "      <th>review/summary</th>\n",
       "      <th>review/text</th>\n",
       "    </tr>\n",
       "  </thead>\n",
       "  <tbody>\n",
       "    <tr>\n",
       "      <th>568457</th>\n",
       "      <td>B003S1WTCU</td>\n",
       "      <td>A3I8AFVPEE8KI5</td>\n",
       "      <td>R. Sawyer</td>\n",
       "      <td>0/0</td>\n",
       "      <td>2.0</td>\n",
       "      <td>1.331251e+09</td>\n",
       "      <td>disappointed</td>\n",
       "      <td>I'm disappointed with the flavor. The chocolate notes are especially weak. Milk thickens it but the flavor still disappoints. This was worth a try but I'll never buy again. I will use what's left, which will be gone in no time thanks to the small cans.</td>\n",
       "    </tr>\n",
       "    <tr>\n",
       "      <th>568458</th>\n",
       "      <td>B004I613EE</td>\n",
       "      <td>A121AA1GQV751Z</td>\n",
       "      <td>pksd \"pk_007\"</td>\n",
       "      <td>2/2</td>\n",
       "      <td>5.0</td>\n",
       "      <td>1.329782e+09</td>\n",
       "      <td>Perfect for our maltipoo</td>\n",
       "      <td>These stars are small, so you can give 10-15 of those in one training session.  I tried to train our dog with \"Ceaser dog treats\",  it just made our puppy hyper.  If you compare the ingredients, you will know why.  Little stars has just basic food ingredients without any preservatives and food coloring.  Sweet potato flavor also did not make my hand smell like dog food.</td>\n",
       "    </tr>\n",
       "    <tr>\n",
       "      <th>568459</th>\n",
       "      <td>B004I613EE</td>\n",
       "      <td>A3IBEVCTXKNOH</td>\n",
       "      <td>Kathy A. Welch \"katwel\"</td>\n",
       "      <td>1/1</td>\n",
       "      <td>5.0</td>\n",
       "      <td>1.331597e+09</td>\n",
       "      <td>Favorite Training and reward treat</td>\n",
       "      <td>These are the BEST treats for training and rewarding your dog for being good while grooming.  Lower in calories and loved by all the doggies.  Sweet potatoes seem to be their favorite Wet Noses treat!</td>\n",
       "    </tr>\n",
       "    <tr>\n",
       "      <th>568460</th>\n",
       "      <td>B001LR2CU2</td>\n",
       "      <td>A3LGQPJCZVL9UC</td>\n",
       "      <td>srfell17</td>\n",
       "      <td>0/0</td>\n",
       "      <td>5.0</td>\n",
       "      <td>1.338422e+09</td>\n",
       "      <td>Great Honey</td>\n",
       "      <td>I am very satisfied ,product is as advertised, I use it on cereal, with raw vinegar, and as a general sweetner.</td>\n",
       "    </tr>\n",
       "    <tr>\n",
       "      <th>568461</th>\n",
       "      <td>NaN</td>\n",
       "      <td>NaN</td>\n",
       "      <td>NaN</td>\n",
       "      <td>NaN</td>\n",
       "      <td>NaN</td>\n",
       "      <td>NaN</td>\n",
       "      <td>NaN</td>\n",
       "      <td>NaN</td>\n",
       "    </tr>\n",
       "  </tbody>\n",
       "</table>\n",
       "</div>"
      ],
      "text/plain": [
       "       product/productId   review/userId       review/profileName  \\\n",
       "568457  B003S1WTCU        A3I8AFVPEE8KI5  R. Sawyer                 \n",
       "568458  B004I613EE        A121AA1GQV751Z  pksd \"pk_007\"             \n",
       "568459  B004I613EE        A3IBEVCTXKNOH   Kathy A. Welch \"katwel\"   \n",
       "568460  B001LR2CU2        A3LGQPJCZVL9UC  srfell17                  \n",
       "568461  NaN               NaN             NaN                       \n",
       "\n",
       "       review/helpfulness  review/score   review/time  \\\n",
       "568457  0/0                2.0           1.331251e+09   \n",
       "568458  2/2                5.0           1.329782e+09   \n",
       "568459  1/1                5.0           1.331597e+09   \n",
       "568460  0/0                5.0           1.338422e+09   \n",
       "568461  NaN               NaN           NaN             \n",
       "\n",
       "                            review/summary  \\\n",
       "568457  disappointed                         \n",
       "568458  Perfect for our maltipoo             \n",
       "568459  Favorite Training and reward treat   \n",
       "568460  Great Honey                          \n",
       "568461  NaN                                  \n",
       "\n",
       "                                                                                                                                                                                                                                                                                                                                                                                 review/text  \n",
       "568457  I'm disappointed with the flavor. The chocolate notes are especially weak. Milk thickens it but the flavor still disappoints. This was worth a try but I'll never buy again. I will use what's left, which will be gone in no time thanks to the small cans.                                                                                                                          \n",
       "568458  These stars are small, so you can give 10-15 of those in one training session.  I tried to train our dog with \"Ceaser dog treats\",  it just made our puppy hyper.  If you compare the ingredients, you will know why.  Little stars has just basic food ingredients without any preservatives and food coloring.  Sweet potato flavor also did not make my hand smell like dog food.  \n",
       "568459  These are the BEST treats for training and rewarding your dog for being good while grooming.  Lower in calories and loved by all the doggies.  Sweet potatoes seem to be their favorite Wet Noses treat!                                                                                                                                                                              \n",
       "568460  I am very satisfied ,product is as advertised, I use it on cereal, with raw vinegar, and as a general sweetner.                                                                                                                                                                                                                                                                       \n",
       "568461  NaN                                                                                                                                                                                                                                                                                                                                                                                   "
      ]
     },
     "execution_count": 25,
     "metadata": {},
     "output_type": "execute_result"
    }
   ],
   "source": [
    "food_reviews.tail()"
   ]
  },
  {
   "cell_type": "markdown",
   "metadata": {},
   "source": [
    "#### Last row is NaN. Removing it"
   ]
  },
  {
   "cell_type": "code",
   "execution_count": 3,
   "metadata": {
    "_uuid": "8c90c4e46ea079bc0cfadabb5beda9e83600cdfb"
   },
   "outputs": [],
   "source": [
    "food_reviews = food_reviews.iloc[0:len(food_reviews) - 1,]"
   ]
  },
  {
   "cell_type": "markdown",
   "metadata": {
    "_uuid": "82a1b202eb252da9de2041dc3518882f96a340fd"
   },
   "source": [
    "## Pre-processing data"
   ]
  },
  {
   "cell_type": "markdown",
   "metadata": {
    "_uuid": "a6892c996307b8901e7755d02469bb411e3d7605"
   },
   "source": [
    "* renaming columns\n",
    "* checking datatype\n",
    "* dealing with null values - impute for summary, removal of rest\n",
    "* reindexing of data\n",
    "* conversion of timestamp to date\n",
    "* features - creation of helfulness_score, extended review\n",
    "* removal of neutral reviews - with rating 3\n",
    "* classificaton of positive and negative sentiment into 0 and 1"
   ]
  },
  {
   "cell_type": "markdown",
   "metadata": {
    "_uuid": "f756d7623baa1a7166d6431680c37c9dac66f187"
   },
   "source": [
    "#### Renaming columns"
   ]
  },
  {
   "cell_type": "code",
   "execution_count": 4,
   "metadata": {
    "_uuid": "0bd328215859fa67aac665ee064a4fd46081f503"
   },
   "outputs": [
    {
     "data": {
      "text/html": [
       "<div>\n",
       "<style scoped>\n",
       "    .dataframe tbody tr th:only-of-type {\n",
       "        vertical-align: middle;\n",
       "    }\n",
       "\n",
       "    .dataframe tbody tr th {\n",
       "        vertical-align: top;\n",
       "    }\n",
       "\n",
       "    .dataframe thead th {\n",
       "        text-align: right;\n",
       "    }\n",
       "</style>\n",
       "<table border=\"1\" class=\"dataframe\">\n",
       "  <thead>\n",
       "    <tr style=\"text-align: right;\">\n",
       "      <th></th>\n",
       "      <th>productid</th>\n",
       "      <th>userid</th>\n",
       "      <th>username</th>\n",
       "      <th>helpfulness</th>\n",
       "      <th>rating</th>\n",
       "      <th>time</th>\n",
       "      <th>summary</th>\n",
       "      <th>text</th>\n",
       "    </tr>\n",
       "  </thead>\n",
       "  <tbody>\n",
       "    <tr>\n",
       "      <th>0</th>\n",
       "      <td>B001E4KFG0</td>\n",
       "      <td>A3SGXH7AUHU8GW</td>\n",
       "      <td>delmartian</td>\n",
       "      <td>1/1</td>\n",
       "      <td>5.0</td>\n",
       "      <td>1.303862e+09</td>\n",
       "      <td>Good Quality Dog Food</td>\n",
       "      <td>I have bought several of the Vitality canned dog food products and have found them all to be of good quality. The product looks more like a stew than a processed meat and it smells better. My Labrador is finicky and she appreciates this product better than  most.</td>\n",
       "    </tr>\n",
       "    <tr>\n",
       "      <th>1</th>\n",
       "      <td>B00813GRG4</td>\n",
       "      <td>A1D87F6ZCVE5NK</td>\n",
       "      <td>dll pa</td>\n",
       "      <td>0/0</td>\n",
       "      <td>1.0</td>\n",
       "      <td>1.346976e+09</td>\n",
       "      <td>Not as Advertised</td>\n",
       "      <td>Product arrived labeled as Jumbo Salted Peanuts...the peanuts were actually small sized unsalted. Not sure if this was an error or if the vendor intended to represent the product as \"Jumbo\".</td>\n",
       "    </tr>\n",
       "    <tr>\n",
       "      <th>2</th>\n",
       "      <td>B000LQOCH0</td>\n",
       "      <td>ABXLMWJIXXAIN</td>\n",
       "      <td>Natalia Corres \"Natalia Corres\"</td>\n",
       "      <td>1/1</td>\n",
       "      <td>4.0</td>\n",
       "      <td>1.219018e+09</td>\n",
       "      <td>\"Delight\" says it all</td>\n",
       "      <td>This is a confection that has been around a few centuries.  It is a light, pillowy citrus gelatin with nuts - in this case Filberts. And it is cut into tiny squares and then liberally coated with powdered sugar.  And it is a tiny mouthful of heaven.  Not too chewy, and very flavorful.  I highly recommend this yummy treat.  If you are familiar with the story of C.S. Lewis' \"The Lion, The Witch, and The Wardrobe\" - this is the treat that seduces Edmund into selling out his Brother and Sisters to the Witch.</td>\n",
       "    </tr>\n",
       "    <tr>\n",
       "      <th>3</th>\n",
       "      <td>B000UA0QIQ</td>\n",
       "      <td>A395BORC6FGVXV</td>\n",
       "      <td>Karl</td>\n",
       "      <td>3/3</td>\n",
       "      <td>2.0</td>\n",
       "      <td>1.307923e+09</td>\n",
       "      <td>Cough Medicine</td>\n",
       "      <td>If you are looking for the secret ingredient in Robitussin I believe I have found it.  I got this in addition to the Root Beer Extract I ordered (which was good) and made some cherry soda.  The flavor is very medicinal.</td>\n",
       "    </tr>\n",
       "    <tr>\n",
       "      <th>4</th>\n",
       "      <td>B006K2ZZ7K</td>\n",
       "      <td>A1UQRSCLF8GW1T</td>\n",
       "      <td>Michael D. Bigham \"M. Wassir\"</td>\n",
       "      <td>0/0</td>\n",
       "      <td>5.0</td>\n",
       "      <td>1.350778e+09</td>\n",
       "      <td>Great taffy</td>\n",
       "      <td>Great taffy at a great price.  There was a wide assortment of yummy taffy.  Delivery was very quick.  If your a taffy lover, this is a deal.</td>\n",
       "    </tr>\n",
       "  </tbody>\n",
       "</table>\n",
       "</div>"
      ],
      "text/plain": [
       "    productid          userid                         username helpfulness  \\\n",
       "0  B001E4KFG0  A3SGXH7AUHU8GW  delmartian                       1/1          \n",
       "1  B00813GRG4  A1D87F6ZCVE5NK  dll pa                           0/0          \n",
       "2  B000LQOCH0  ABXLMWJIXXAIN   Natalia Corres \"Natalia Corres\"  1/1          \n",
       "3  B000UA0QIQ  A395BORC6FGVXV  Karl                             3/3          \n",
       "4  B006K2ZZ7K  A1UQRSCLF8GW1T  Michael D. Bigham \"M. Wassir\"    0/0          \n",
       "\n",
       "   rating          time                summary  \\\n",
       "0  5.0     1.303862e+09  Good Quality Dog Food   \n",
       "1  1.0     1.346976e+09  Not as Advertised       \n",
       "2  4.0     1.219018e+09  \"Delight\" says it all   \n",
       "3  2.0     1.307923e+09  Cough Medicine          \n",
       "4  5.0     1.350778e+09  Great taffy             \n",
       "\n",
       "                                                                                                                                                                                                                                                                                                                                                                                                                                                                                                                            text  \n",
       "0  I have bought several of the Vitality canned dog food products and have found them all to be of good quality. The product looks more like a stew than a processed meat and it smells better. My Labrador is finicky and she appreciates this product better than  most.                                                                                                                                                                                                                                                        \n",
       "1  Product arrived labeled as Jumbo Salted Peanuts...the peanuts were actually small sized unsalted. Not sure if this was an error or if the vendor intended to represent the product as \"Jumbo\".                                                                                                                                                                                                                                                                                                                                 \n",
       "2  This is a confection that has been around a few centuries.  It is a light, pillowy citrus gelatin with nuts - in this case Filberts. And it is cut into tiny squares and then liberally coated with powdered sugar.  And it is a tiny mouthful of heaven.  Not too chewy, and very flavorful.  I highly recommend this yummy treat.  If you are familiar with the story of C.S. Lewis' \"The Lion, The Witch, and The Wardrobe\" - this is the treat that seduces Edmund into selling out his Brother and Sisters to the Witch.  \n",
       "3  If you are looking for the secret ingredient in Robitussin I believe I have found it.  I got this in addition to the Root Beer Extract I ordered (which was good) and made some cherry soda.  The flavor is very medicinal.                                                                                                                                                                                                                                                                                                    \n",
       "4  Great taffy at a great price.  There was a wide assortment of yummy taffy.  Delivery was very quick.  If your a taffy lover, this is a deal.                                                                                                                                                                                                                                                                                                                                                                                   "
      ]
     },
     "execution_count": 4,
     "metadata": {},
     "output_type": "execute_result"
    }
   ],
   "source": [
    "# rename columns\n",
    "#food_reviews.columns = [each.split(\"/\")[1] for each in food_reviews.columns]\n",
    "food_reviews.columns = ['productid', 'userid', 'username', 'helpfulness','rating','time','summary','text']\n",
    "food_reviews.head()"
   ]
  },
  {
   "cell_type": "markdown",
   "metadata": {
    "_uuid": "68f6291e1672b62aa71cc4a5922948aa25676e0c"
   },
   "source": [
    "#### Check datatypes"
   ]
  },
  {
   "cell_type": "code",
   "execution_count": 28,
   "metadata": {
    "_uuid": "3fcf541d09b97b5bee70d3379298fb1da316d080"
   },
   "outputs": [
    {
     "data": {
      "text/plain": [
       "productid      object \n",
       "userid         object \n",
       "username       object \n",
       "helpfulness    object \n",
       "rating         float64\n",
       "time           float64\n",
       "summary        object \n",
       "text           object \n",
       "dtype: object"
      ]
     },
     "execution_count": 28,
     "metadata": {},
     "output_type": "execute_result"
    }
   ],
   "source": [
    "food_reviews.dtypes"
   ]
  },
  {
   "cell_type": "markdown",
   "metadata": {
    "_uuid": "2e287275ea76df9891b25b79ddee8b9757119414"
   },
   "source": [
    "#### Dealing with null values - imputation / dropping"
   ]
  },
  {
   "cell_type": "code",
   "execution_count": 29,
   "metadata": {
    "_uuid": "867e27683b81b3e4acdb8b7b6159277a01277de8"
   },
   "outputs": [
    {
     "data": {
      "text/html": [
       "<div>\n",
       "<style scoped>\n",
       "    .dataframe tbody tr th:only-of-type {\n",
       "        vertical-align: middle;\n",
       "    }\n",
       "\n",
       "    .dataframe tbody tr th {\n",
       "        vertical-align: top;\n",
       "    }\n",
       "\n",
       "    .dataframe thead th {\n",
       "        text-align: right;\n",
       "    }\n",
       "</style>\n",
       "<table border=\"1\" class=\"dataframe\">\n",
       "  <thead>\n",
       "    <tr style=\"text-align: right;\">\n",
       "      <th></th>\n",
       "      <th>productid</th>\n",
       "      <th>userid</th>\n",
       "      <th>username</th>\n",
       "      <th>helpfulness</th>\n",
       "      <th>rating</th>\n",
       "      <th>time</th>\n",
       "      <th>summary</th>\n",
       "      <th>text</th>\n",
       "    </tr>\n",
       "  </thead>\n",
       "  <tbody>\n",
       "    <tr>\n",
       "      <th>25509</th>\n",
       "      <td>B000LKZB4Y</td>\n",
       "      <td>A36BVYD0NT7Z0F</td>\n",
       "      <td>NaN</td>\n",
       "      <td>0/0</td>\n",
       "      <td>5.0</td>\n",
       "      <td>1.314576e+09</td>\n",
       "      <td>These are the best mints and no aspartame or BHT</td>\n",
       "      <td>I was so shocked to find out that almost all gums have BHT.  I went to the health food store and got gum with Xylitol but I didn't like the taste.  B Fresh was the only one with Xylitol that didn't taste like aspartame.  I saw Newmans Own Organic Mints and was happy to see no aspartame or BHT and they are really good.  I hope the company starts making gum.  The only problem is the mints are made in Mexico.  What is the matter Americans can't make mints?</td>\n",
       "    </tr>\n",
       "    <tr>\n",
       "      <th>33958</th>\n",
       "      <td>B00412W76S</td>\n",
       "      <td>A3TJPSWY2HE4BS</td>\n",
       "      <td>S. Layton \"homeschool blogger\"</td>\n",
       "      <td>1/24</td>\n",
       "      <td>2.0</td>\n",
       "      <td>1.173312e+09</td>\n",
       "      <td>NaN</td>\n",
       "      <td>I only used two maybe three tea bags and got pregnant - can not drink during pregnancy.  Not a bad taste, but I'm not a big tea fan either.</td>\n",
       "    </tr>\n",
       "    <tr>\n",
       "      <th>38874</th>\n",
       "      <td>B000AYDGZ2</td>\n",
       "      <td>A36BVYD0NT7Z0F</td>\n",
       "      <td>NaN</td>\n",
       "      <td>2/3</td>\n",
       "      <td>1.0</td>\n",
       "      <td>1.278374e+09</td>\n",
       "      <td>doesn't anyone care that they are putting BHT into their bodies?</td>\n",
       "      <td>I called Kellogg's to see why Special K red berries has the natural preservative but Special K blueberry has the killer BHT.  The women who answered wasn't helpful and didn't know why. She also seemed annoyed with my question.  I won't even give my dog food with BHT why would I feed my family a cereal with BHT.  Why don't these company use the more natural and safer preservative like tocoperol etc?</td>\n",
       "    </tr>\n",
       "    <tr>\n",
       "      <th>40548</th>\n",
       "      <td>B00020HHRW</td>\n",
       "      <td>A3TJPSWY2HE4BS</td>\n",
       "      <td>S. Layton \"homeschool blogger\"</td>\n",
       "      <td>1/24</td>\n",
       "      <td>2.0</td>\n",
       "      <td>1.173312e+09</td>\n",
       "      <td>NaN</td>\n",
       "      <td>I only used two maybe three tea bags and got pregnant - can not drink during pregnancy.  Not a bad taste, but I'm not a big tea fan either.</td>\n",
       "    </tr>\n",
       "    <tr>\n",
       "      <th>49800</th>\n",
       "      <td>B000CRHQN0</td>\n",
       "      <td>A2LYFY32LXQDON</td>\n",
       "      <td>NaN</td>\n",
       "      <td>0/0</td>\n",
       "      <td>2.0</td>\n",
       "      <td>1.282608e+09</td>\n",
       "      <td>They were melted and the chocolate had turned white</td>\n",
       "      <td>We love these bars but i won't order them shipped from anywhere anymore.  They came melted, white, and didn't taste as good as they do when they are fresh.</td>\n",
       "    </tr>\n",
       "    <tr>\n",
       "      <th>67077</th>\n",
       "      <td>B0006348H2</td>\n",
       "      <td>A2P0P67Y55SNOX</td>\n",
       "      <td>NaN</td>\n",
       "      <td>1/1</td>\n",
       "      <td>5.0</td>\n",
       "      <td>1.314662e+09</td>\n",
       "      <td>Wheatgrass</td>\n",
       "      <td>Kitty seems to like this sprinkled on her food...Glad I bought 2, because I forgot to water one for a few days... Brown grass doesn't work...</td>\n",
       "    </tr>\n",
       "    <tr>\n",
       "      <th>94197</th>\n",
       "      <td>B002RIZUQ2</td>\n",
       "      <td>AS2DLXUWDK0GP</td>\n",
       "      <td>MABEL \"Tell us about yourself!</td>\n",
       "      <td>NaN</td>\n",
       "      <td>NaN</td>\n",
       "      <td>NaN</td>\n",
       "      <td>NaN</td>\n",
       "      <td>NaN</td>\n",
       "    </tr>\n",
       "    <tr>\n",
       "      <th>94197</th>\n",
       "      <td>B002RIZUQ2</td>\n",
       "      <td>AS2DLXUWDK0GP</td>\n",
       "      <td>MABEL \"Tell us about yourself!</td>\n",
       "      <td>NaN</td>\n",
       "      <td>NaN</td>\n",
       "      <td>NaN</td>\n",
       "      <td>NaN</td>\n",
       "      <td>NaN</td>\n",
       "    </tr>\n",
       "    <tr>\n",
       "      <th>94197</th>\n",
       "      <td>B002RIZUQ2</td>\n",
       "      <td>AS2DLXUWDK0GP</td>\n",
       "      <td>MABEL \"Tell us about yourself!</td>\n",
       "      <td>NaN</td>\n",
       "      <td>NaN</td>\n",
       "      <td>NaN</td>\n",
       "      <td>NaN</td>\n",
       "      <td>NaN</td>\n",
       "    </tr>\n",
       "    <tr>\n",
       "      <th>94197</th>\n",
       "      <td>B002RIZUQ2</td>\n",
       "      <td>AS2DLXUWDK0GP</td>\n",
       "      <td>MABEL \"Tell us about yourself!</td>\n",
       "      <td>NaN</td>\n",
       "      <td>NaN</td>\n",
       "      <td>NaN</td>\n",
       "      <td>NaN</td>\n",
       "      <td>NaN</td>\n",
       "    </tr>\n",
       "    <tr>\n",
       "      <th>94197</th>\n",
       "      <td>B002RIZUQ2</td>\n",
       "      <td>AS2DLXUWDK0GP</td>\n",
       "      <td>MABEL \"Tell us about yourself!</td>\n",
       "      <td>NaN</td>\n",
       "      <td>NaN</td>\n",
       "      <td>NaN</td>\n",
       "      <td>NaN</td>\n",
       "      <td>NaN</td>\n",
       "    </tr>\n",
       "    <tr>\n",
       "      <th>94198</th>\n",
       "      <td>NaN</td>\n",
       "      <td>NaN</td>\n",
       "      <td>NaN</td>\n",
       "      <td>1/1</td>\n",
       "      <td>4.0</td>\n",
       "      <td>1.289088e+09</td>\n",
       "      <td>delicious</td>\n",
       "      <td>if you prefer a tasteful and less strong flavored coffee, I reommend Green Mountain's hazelnut.  I have not been a coffee drinker, but upon tasting this brew, I drink it daily.</td>\n",
       "    </tr>\n",
       "    <tr>\n",
       "      <th>94198</th>\n",
       "      <td>NaN</td>\n",
       "      <td>NaN</td>\n",
       "      <td>NaN</td>\n",
       "      <td>1/1</td>\n",
       "      <td>4.0</td>\n",
       "      <td>1.289088e+09</td>\n",
       "      <td>delicious</td>\n",
       "      <td>if you prefer a tasteful and less strong flavored coffee, I reommend Green Mountain's hazelnut.  I have not been a coffee drinker, but upon tasting this brew, I drink it daily.</td>\n",
       "    </tr>\n",
       "    <tr>\n",
       "      <th>94198</th>\n",
       "      <td>NaN</td>\n",
       "      <td>NaN</td>\n",
       "      <td>NaN</td>\n",
       "      <td>1/1</td>\n",
       "      <td>4.0</td>\n",
       "      <td>1.289088e+09</td>\n",
       "      <td>delicious</td>\n",
       "      <td>if you prefer a tasteful and less strong flavored coffee, I reommend Green Mountain's hazelnut.  I have not been a coffee drinker, but upon tasting this brew, I drink it daily.</td>\n",
       "    </tr>\n",
       "    <tr>\n",
       "      <th>101107</th>\n",
       "      <td>B0014B0HWK</td>\n",
       "      <td>A3TJPSWY2HE4BS</td>\n",
       "      <td>S. Layton \"homeschool blogger\"</td>\n",
       "      <td>1/24</td>\n",
       "      <td>2.0</td>\n",
       "      <td>1.173312e+09</td>\n",
       "      <td>NaN</td>\n",
       "      <td>I only used two maybe three tea bags and got pregnant - can not drink during pregnancy.  Not a bad taste, but I'm not a big tea fan either.</td>\n",
       "    </tr>\n",
       "    <tr>\n",
       "      <th>102980</th>\n",
       "      <td>B000FVDWU4</td>\n",
       "      <td>A3TJPSWY2HE4BS</td>\n",
       "      <td>S. Layton \"homeschool blogger\"</td>\n",
       "      <td>1/24</td>\n",
       "      <td>2.0</td>\n",
       "      <td>1.173312e+09</td>\n",
       "      <td>NaN</td>\n",
       "      <td>I only used two maybe three tea bags and got pregnant - can not drink during pregnancy.  Not a bad taste, but I'm not a big tea fan either.</td>\n",
       "    </tr>\n",
       "    <tr>\n",
       "      <th>106551</th>\n",
       "      <td>B001EQ5DG0</td>\n",
       "      <td>A1P500QXEG3IUZ</td>\n",
       "      <td>NaN</td>\n",
       "      <td>0/0</td>\n",
       "      <td>5.0</td>\n",
       "      <td>1.326758e+09</td>\n",
       "      <td>Finally!</td>\n",
       "      <td>You cannot find this in the stores anymore, it's impossible to find.  The price sometimes can be ridiculous ranging up above $40 (REALLY!).  I orderd this on the subscribe and save under $18, but if the price increased, will discountinue it.</td>\n",
       "    </tr>\n",
       "    <tr>\n",
       "      <th>117516</th>\n",
       "      <td>B0016B7Z32</td>\n",
       "      <td>A3TJPSWY2HE4BS</td>\n",
       "      <td>S. Layton \"homeschool blogger\"</td>\n",
       "      <td>1/24</td>\n",
       "      <td>2.0</td>\n",
       "      <td>1.173312e+09</td>\n",
       "      <td>NaN</td>\n",
       "      <td>I only used two maybe three tea bags and got pregnant - can not drink during pregnancy.  Not a bad taste, but I'm not a big tea fan either.</td>\n",
       "    </tr>\n",
       "    <tr>\n",
       "      <th>137614</th>\n",
       "      <td>B000CQE3HS</td>\n",
       "      <td>AGT3BYX5P9SLH</td>\n",
       "      <td>NaN</td>\n",
       "      <td>0/0</td>\n",
       "      <td>5.0</td>\n",
       "      <td>1.324685e+09</td>\n",
       "      <td>awesome</td>\n",
       "      <td>i love them they are amazing I would eat them everyday if i could afford to!my kids also love them</td>\n",
       "    </tr>\n",
       "    <tr>\n",
       "      <th>155713</th>\n",
       "      <td>B0009VO58S</td>\n",
       "      <td>A3TJPSWY2HE4BS</td>\n",
       "      <td>S. Layton \"homeschool blogger\"</td>\n",
       "      <td>1/24</td>\n",
       "      <td>2.0</td>\n",
       "      <td>1.173312e+09</td>\n",
       "      <td>NaN</td>\n",
       "      <td>I only used two maybe three tea bags and got pregnant - can not drink during pregnancy.  Not a bad taste, but I'm not a big tea fan either.</td>\n",
       "    </tr>\n",
       "    <tr>\n",
       "      <th>163192</th>\n",
       "      <td>B000CQID1A</td>\n",
       "      <td>AGT3BYX5P9SLH</td>\n",
       "      <td>NaN</td>\n",
       "      <td>0/0</td>\n",
       "      <td>5.0</td>\n",
       "      <td>1.324685e+09</td>\n",
       "      <td>awesome</td>\n",
       "      <td>i love them they are amazing I would eat them everyday if i could afford to!my kids also love them</td>\n",
       "    </tr>\n",
       "    <tr>\n",
       "      <th>172463</th>\n",
       "      <td>B001FA1L9I</td>\n",
       "      <td>AC9U70TRGPDGJ</td>\n",
       "      <td>NaN</td>\n",
       "      <td>0/0</td>\n",
       "      <td>5.0</td>\n",
       "      <td>1.289520e+09</td>\n",
       "      <td>very good</td>\n",
       "      <td>came in proper packaging.  Have loved British Heinz baked beans since I was a kid so was not disappointed!</td>\n",
       "    </tr>\n",
       "    <tr>\n",
       "      <th>177086</th>\n",
       "      <td>B004FEJ968</td>\n",
       "      <td>ALDIU41MJLTZA</td>\n",
       "      <td>Don Snyder \"The Idea Guy</td>\n",
       "      <td>NaN</td>\n",
       "      <td>NaN</td>\n",
       "      <td>NaN</td>\n",
       "      <td>NaN</td>\n",
       "      <td>NaN</td>\n",
       "    </tr>\n",
       "    <tr>\n",
       "      <th>177086</th>\n",
       "      <td>B004FEJ968</td>\n",
       "      <td>ALDIU41MJLTZA</td>\n",
       "      <td>Don Snyder \"The Idea Guy</td>\n",
       "      <td>NaN</td>\n",
       "      <td>NaN</td>\n",
       "      <td>NaN</td>\n",
       "      <td>NaN</td>\n",
       "      <td>NaN</td>\n",
       "    </tr>\n",
       "    <tr>\n",
       "      <th>177086</th>\n",
       "      <td>B004FEJ968</td>\n",
       "      <td>ALDIU41MJLTZA</td>\n",
       "      <td>Don Snyder \"The Idea Guy</td>\n",
       "      <td>NaN</td>\n",
       "      <td>NaN</td>\n",
       "      <td>NaN</td>\n",
       "      <td>NaN</td>\n",
       "      <td>NaN</td>\n",
       "    </tr>\n",
       "    <tr>\n",
       "      <th>177086</th>\n",
       "      <td>B004FEJ968</td>\n",
       "      <td>ALDIU41MJLTZA</td>\n",
       "      <td>Don Snyder \"The Idea Guy</td>\n",
       "      <td>NaN</td>\n",
       "      <td>NaN</td>\n",
       "      <td>NaN</td>\n",
       "      <td>NaN</td>\n",
       "      <td>NaN</td>\n",
       "    </tr>\n",
       "    <tr>\n",
       "      <th>177086</th>\n",
       "      <td>B004FEJ968</td>\n",
       "      <td>ALDIU41MJLTZA</td>\n",
       "      <td>Don Snyder \"The Idea Guy</td>\n",
       "      <td>NaN</td>\n",
       "      <td>NaN</td>\n",
       "      <td>NaN</td>\n",
       "      <td>NaN</td>\n",
       "      <td>NaN</td>\n",
       "    </tr>\n",
       "    <tr>\n",
       "      <th>177087</th>\n",
       "      <td>NaN</td>\n",
       "      <td>NaN</td>\n",
       "      <td>NaN</td>\n",
       "      <td>0/0</td>\n",
       "      <td>3.0</td>\n",
       "      <td>1.308182e+09</td>\n",
       "      <td>Less would have been more</td>\n",
       "      <td>The taste of the Newton's Fruit Thins was pretty good. It's a nice crunchy treat, and I really enjoyed the cranberry citrus and oat flavor. It was like a really thin and crisp designer oatmeal cookie.  I would have liked the product more if the cookies were smaller in size.  The snacks are rather large and round in shape, and being so thin they easily break and crumble. If they were 1/4 of the current size you could easily consume them in one or two bites and eliminate the crumbs.  The packaging leaves a lot to be desired. The outer foil bag isn't bad, but the inside plastic tray is clumsy and tough to slide back into the resealable wrap, and combined with the large crumbly nature of the cookie already mentioned above I doubt very much if anyone buying these in a store ends up with more than half of the cookies actually being whole by the time they get home.  Ordering them from Amazon easily guarantees half the product inside will be in pieces -- but like I said... the smaller size (even if they are broken pieces) makes 'em easier to eat!</td>\n",
       "    </tr>\n",
       "    <tr>\n",
       "      <th>177087</th>\n",
       "      <td>NaN</td>\n",
       "      <td>NaN</td>\n",
       "      <td>NaN</td>\n",
       "      <td>0/0</td>\n",
       "      <td>3.0</td>\n",
       "      <td>1.308182e+09</td>\n",
       "      <td>Less would have been more</td>\n",
       "      <td>The taste of the Newton's Fruit Thins was pretty good. It's a nice crunchy treat, and I really enjoyed the cranberry citrus and oat flavor. It was like a really thin and crisp designer oatmeal cookie.  I would have liked the product more if the cookies were smaller in size.  The snacks are rather large and round in shape, and being so thin they easily break and crumble. If they were 1/4 of the current size you could easily consume them in one or two bites and eliminate the crumbs.  The packaging leaves a lot to be desired. The outer foil bag isn't bad, but the inside plastic tray is clumsy and tough to slide back into the resealable wrap, and combined with the large crumbly nature of the cookie already mentioned above I doubt very much if anyone buying these in a store ends up with more than half of the cookies actually being whole by the time they get home.  Ordering them from Amazon easily guarantees half the product inside will be in pieces -- but like I said... the smaller size (even if they are broken pieces) makes 'em easier to eat!</td>\n",
       "    </tr>\n",
       "    <tr>\n",
       "      <th>177087</th>\n",
       "      <td>NaN</td>\n",
       "      <td>NaN</td>\n",
       "      <td>NaN</td>\n",
       "      <td>0/0</td>\n",
       "      <td>3.0</td>\n",
       "      <td>1.308182e+09</td>\n",
       "      <td>Less would have been more</td>\n",
       "      <td>The taste of the Newton's Fruit Thins was pretty good. It's a nice crunchy treat, and I really enjoyed the cranberry citrus and oat flavor. It was like a really thin and crisp designer oatmeal cookie.  I would have liked the product more if the cookies were smaller in size.  The snacks are rather large and round in shape, and being so thin they easily break and crumble. If they were 1/4 of the current size you could easily consume them in one or two bites and eliminate the crumbs.  The packaging leaves a lot to be desired. The outer foil bag isn't bad, but the inside plastic tray is clumsy and tough to slide back into the resealable wrap, and combined with the large crumbly nature of the cookie already mentioned above I doubt very much if anyone buying these in a store ends up with more than half of the cookies actually being whole by the time they get home.  Ordering them from Amazon easily guarantees half the product inside will be in pieces -- but like I said... the smaller size (even if they are broken pieces) makes 'em easier to eat!</td>\n",
       "    </tr>\n",
       "    <tr>\n",
       "      <th>...</th>\n",
       "      <td>...</td>\n",
       "      <td>...</td>\n",
       "      <td>...</td>\n",
       "      <td>...</td>\n",
       "      <td>...</td>\n",
       "      <td>...</td>\n",
       "      <td>...</td>\n",
       "      <td>...</td>\n",
       "    </tr>\n",
       "    <tr>\n",
       "      <th>377358</th>\n",
       "      <td>B004M62COU</td>\n",
       "      <td>AAW9ZM7G78WAK</td>\n",
       "      <td>Sherry \"Tell us about yourself!</td>\n",
       "      <td>NaN</td>\n",
       "      <td>NaN</td>\n",
       "      <td>NaN</td>\n",
       "      <td>NaN</td>\n",
       "      <td>NaN</td>\n",
       "    </tr>\n",
       "    <tr>\n",
       "      <th>377358</th>\n",
       "      <td>B004M62COU</td>\n",
       "      <td>AAW9ZM7G78WAK</td>\n",
       "      <td>Sherry \"Tell us about yourself!</td>\n",
       "      <td>NaN</td>\n",
       "      <td>NaN</td>\n",
       "      <td>NaN</td>\n",
       "      <td>NaN</td>\n",
       "      <td>NaN</td>\n",
       "    </tr>\n",
       "    <tr>\n",
       "      <th>377358</th>\n",
       "      <td>B004M62COU</td>\n",
       "      <td>AAW9ZM7G78WAK</td>\n",
       "      <td>Sherry \"Tell us about yourself!</td>\n",
       "      <td>NaN</td>\n",
       "      <td>NaN</td>\n",
       "      <td>NaN</td>\n",
       "      <td>NaN</td>\n",
       "      <td>NaN</td>\n",
       "    </tr>\n",
       "    <tr>\n",
       "      <th>377358</th>\n",
       "      <td>B004M62COU</td>\n",
       "      <td>AAW9ZM7G78WAK</td>\n",
       "      <td>Sherry \"Tell us about yourself!</td>\n",
       "      <td>NaN</td>\n",
       "      <td>NaN</td>\n",
       "      <td>NaN</td>\n",
       "      <td>NaN</td>\n",
       "      <td>NaN</td>\n",
       "    </tr>\n",
       "    <tr>\n",
       "      <th>377359</th>\n",
       "      <td>NaN</td>\n",
       "      <td>NaN</td>\n",
       "      <td>NaN</td>\n",
       "      <td>0/0</td>\n",
       "      <td>5.0</td>\n",
       "      <td>1.341360e+09</td>\n",
       "      <td>Tasty, smooth, with full flavor</td>\n",
       "      <td>This coffee blend is full bodied but not overpowering and makes for a smooth tasty cup of coffee.  It is great anytime of day.  Green Mountain has done an excellent job with this blend.  You will not be disappointed.</td>\n",
       "    </tr>\n",
       "    <tr>\n",
       "      <th>377359</th>\n",
       "      <td>NaN</td>\n",
       "      <td>NaN</td>\n",
       "      <td>NaN</td>\n",
       "      <td>0/0</td>\n",
       "      <td>5.0</td>\n",
       "      <td>1.341360e+09</td>\n",
       "      <td>Tasty, smooth, with full flavor</td>\n",
       "      <td>This coffee blend is full bodied but not overpowering and makes for a smooth tasty cup of coffee.  It is great anytime of day.  Green Mountain has done an excellent job with this blend.  You will not be disappointed.</td>\n",
       "    </tr>\n",
       "    <tr>\n",
       "      <th>377359</th>\n",
       "      <td>NaN</td>\n",
       "      <td>NaN</td>\n",
       "      <td>NaN</td>\n",
       "      <td>0/0</td>\n",
       "      <td>5.0</td>\n",
       "      <td>1.341360e+09</td>\n",
       "      <td>Tasty, smooth, with full flavor</td>\n",
       "      <td>This coffee blend is full bodied but not overpowering and makes for a smooth tasty cup of coffee.  It is great anytime of day.  Green Mountain has done an excellent job with this blend.  You will not be disappointed.</td>\n",
       "    </tr>\n",
       "    <tr>\n",
       "      <th>379479</th>\n",
       "      <td>B007RLRCLK</td>\n",
       "      <td>A3TJPSWY2HE4BS</td>\n",
       "      <td>S. Layton \"homeschool blogger\"</td>\n",
       "      <td>1/24</td>\n",
       "      <td>2.0</td>\n",
       "      <td>1.173312e+09</td>\n",
       "      <td>NaN</td>\n",
       "      <td>I only used two maybe three tea bags and got pregnant - can not drink during pregnancy.  Not a bad taste, but I'm not a big tea fan either.</td>\n",
       "    </tr>\n",
       "    <tr>\n",
       "      <th>380564</th>\n",
       "      <td>B00014DXCC</td>\n",
       "      <td>A3TJPSWY2HE4BS</td>\n",
       "      <td>S. Layton \"homeschool blogger\"</td>\n",
       "      <td>1/24</td>\n",
       "      <td>2.0</td>\n",
       "      <td>1.173312e+09</td>\n",
       "      <td>NaN</td>\n",
       "      <td>I only used two maybe three tea bags and got pregnant - can not drink during pregnancy.  Not a bad taste, but I'm not a big tea fan either.</td>\n",
       "    </tr>\n",
       "    <tr>\n",
       "      <th>381319</th>\n",
       "      <td>B00020HHK4</td>\n",
       "      <td>A3TJPSWY2HE4BS</td>\n",
       "      <td>S. Layton \"homeschool blogger\"</td>\n",
       "      <td>1/24</td>\n",
       "      <td>2.0</td>\n",
       "      <td>1.173312e+09</td>\n",
       "      <td>NaN</td>\n",
       "      <td>I only used two maybe three tea bags and got pregnant - can not drink during pregnancy.  Not a bad taste, but I'm not a big tea fan either.</td>\n",
       "    </tr>\n",
       "    <tr>\n",
       "      <th>386289</th>\n",
       "      <td>B00073JVFU</td>\n",
       "      <td>A3TJPSWY2HE4BS</td>\n",
       "      <td>S. Layton \"homeschool blogger\"</td>\n",
       "      <td>1/24</td>\n",
       "      <td>2.0</td>\n",
       "      <td>1.173312e+09</td>\n",
       "      <td>NaN</td>\n",
       "      <td>I only used two maybe three tea bags and got pregnant - can not drink during pregnancy.  Not a bad taste, but I'm not a big tea fan either.</td>\n",
       "    </tr>\n",
       "    <tr>\n",
       "      <th>392535</th>\n",
       "      <td>B001H9XOEW</td>\n",
       "      <td>A22R17YPXEULEZ</td>\n",
       "      <td>Liz Wong</td>\n",
       "      <td>0/0</td>\n",
       "      <td>3.0</td>\n",
       "      <td>1.334534e+09</td>\n",
       "      <td>NaN</td>\n",
       "      <td>I like the product and tried it before I puchased it. However, one of the boxes arrived have only 10 in it instead of 12.</td>\n",
       "    </tr>\n",
       "    <tr>\n",
       "      <th>431604</th>\n",
       "      <td>B000W5P0KI</td>\n",
       "      <td>A36BVYD0NT7Z0F</td>\n",
       "      <td>NaN</td>\n",
       "      <td>13/21</td>\n",
       "      <td>1.0</td>\n",
       "      <td>1.298938e+09</td>\n",
       "      <td>WARNING:  Please read before feeding</td>\n",
       "      <td>WARNING:  I use to feed my dogs Orijen 75% protein but the last few months my dogs have had really bad diarrhea.  We thought one would need IV fluids because he was getting dehydrated.  I looked at the bag and saw they now changed to 80% protein and now use sodium selenite which I would never buy a food with this ingredient.  Instead of getting better they are getting worse.  80% protein is a lot for a non working dog. And now with the recall, I have to look for another brand of dog food with selenium yeast, no ethoxyquin, no BHT etc. Also, the company that once was great in customer service now refuses to answer e-mail questions.  What are they hiding.  This use to be a good quality dog food that I use to recommend to everyone.  When I returned the 80% protein bag back the girl said a lot of people have been complaining and they aren't recommending this brand anymore.</td>\n",
       "    </tr>\n",
       "    <tr>\n",
       "      <th>440831</th>\n",
       "      <td>B008LFAS08</td>\n",
       "      <td>AC0E8TXIYABB5</td>\n",
       "      <td>NaN</td>\n",
       "      <td>1/1</td>\n",
       "      <td>5.0</td>\n",
       "      <td>1.350432e+09</td>\n",
       "      <td>The perfect grinder for dog and cat food!</td>\n",
       "      <td>this grinder is super easy to assemble and operate, after grinding 100 pounds of dog/cat food by hand, decided it was time to break down and go electric grinder, so far tested with a \"mini\" grind and was super fast, easy to set up, run and clean up, wash all parts by hand, it took a couple min. and dried and stored...took bone in raw chicken, carrots( cut in 1/4 s yams, all with ease.... comes with excellent instructions too, was going to go with the turbo 3000, had a few questions, so called Jim, who suggested this unit and it fills my needs 100% My husband and I could not be happier!&lt;br /&gt;Nan</td>\n",
       "    </tr>\n",
       "    <tr>\n",
       "      <th>484373</th>\n",
       "      <td>B00020HHGS</td>\n",
       "      <td>A3TJPSWY2HE4BS</td>\n",
       "      <td>S. Layton \"homeschool blogger\"</td>\n",
       "      <td>1/24</td>\n",
       "      <td>2.0</td>\n",
       "      <td>1.173312e+09</td>\n",
       "      <td>NaN</td>\n",
       "      <td>I only used two maybe three tea bags and got pregnant - can not drink during pregnancy.  Not a bad taste, but I'm not a big tea fan either.</td>\n",
       "    </tr>\n",
       "    <tr>\n",
       "      <th>486646</th>\n",
       "      <td>B0014AUJII</td>\n",
       "      <td>A3TJPSWY2HE4BS</td>\n",
       "      <td>S. Layton \"homeschool blogger\"</td>\n",
       "      <td>1/24</td>\n",
       "      <td>2.0</td>\n",
       "      <td>1.173312e+09</td>\n",
       "      <td>NaN</td>\n",
       "      <td>I only used two maybe three tea bags and got pregnant - can not drink during pregnancy.  Not a bad taste, but I'm not a big tea fan either.</td>\n",
       "    </tr>\n",
       "    <tr>\n",
       "      <th>490418</th>\n",
       "      <td>B000CQE3IC</td>\n",
       "      <td>AGT3BYX5P9SLH</td>\n",
       "      <td>NaN</td>\n",
       "      <td>0/0</td>\n",
       "      <td>5.0</td>\n",
       "      <td>1.324685e+09</td>\n",
       "      <td>awesome</td>\n",
       "      <td>i love them they are amazing I would eat them everyday if i could afford to!my kids also love them</td>\n",
       "    </tr>\n",
       "    <tr>\n",
       "      <th>491734</th>\n",
       "      <td>B004772PJQ</td>\n",
       "      <td>A29D7XVSBCLFLD</td>\n",
       "      <td>NaN</td>\n",
       "      <td>0/0</td>\n",
       "      <td>1.0</td>\n",
       "      <td>1.325203e+09</td>\n",
       "      <td>Burnt</td>\n",
       "      <td>The last SEVERAL time we bought this it tasted burnt...waste of our money to keep getting boxes of coffee that didn't taste good...so we quit buying it!</td>\n",
       "    </tr>\n",
       "    <tr>\n",
       "      <th>503266</th>\n",
       "      <td>B00020HHE0</td>\n",
       "      <td>A3TJPSWY2HE4BS</td>\n",
       "      <td>S. Layton \"homeschool blogger\"</td>\n",
       "      <td>1/24</td>\n",
       "      <td>2.0</td>\n",
       "      <td>1.173312e+09</td>\n",
       "      <td>NaN</td>\n",
       "      <td>I only used two maybe three tea bags and got pregnant - can not drink during pregnancy.  Not a bad taste, but I'm not a big tea fan either.</td>\n",
       "    </tr>\n",
       "    <tr>\n",
       "      <th>515442</th>\n",
       "      <td>B004S04X4W</td>\n",
       "      <td>A2H7605OSHVIQ5</td>\n",
       "      <td>NaN</td>\n",
       "      <td>0/0</td>\n",
       "      <td>5.0</td>\n",
       "      <td>1.348704e+09</td>\n",
       "      <td>Hormel Roast Beef Hash, 15-Ounce</td>\n",
       "      <td>I've been buying this in the grocery stores from time to time, and it is very good, it's milder and a lot less fat than corned beef.Now I can order it from Amazon and it will be delivered to my door.</td>\n",
       "    </tr>\n",
       "    <tr>\n",
       "      <th>530722</th>\n",
       "      <td>B0014ATRV8</td>\n",
       "      <td>A3TJPSWY2HE4BS</td>\n",
       "      <td>S. Layton \"homeschool blogger\"</td>\n",
       "      <td>1/24</td>\n",
       "      <td>2.0</td>\n",
       "      <td>1.173312e+09</td>\n",
       "      <td>NaN</td>\n",
       "      <td>I only used two maybe three tea bags and got pregnant - can not drink during pregnancy.  Not a bad taste, but I'm not a big tea fan either.</td>\n",
       "    </tr>\n",
       "    <tr>\n",
       "      <th>538367</th>\n",
       "      <td>B0061IUIDY</td>\n",
       "      <td>ALDIU41MJLTZA</td>\n",
       "      <td>Don Snyder \"The Idea Guy</td>\n",
       "      <td>NaN</td>\n",
       "      <td>NaN</td>\n",
       "      <td>NaN</td>\n",
       "      <td>NaN</td>\n",
       "      <td>NaN</td>\n",
       "    </tr>\n",
       "    <tr>\n",
       "      <th>538367</th>\n",
       "      <td>B0061IUIDY</td>\n",
       "      <td>ALDIU41MJLTZA</td>\n",
       "      <td>Don Snyder \"The Idea Guy</td>\n",
       "      <td>NaN</td>\n",
       "      <td>NaN</td>\n",
       "      <td>NaN</td>\n",
       "      <td>NaN</td>\n",
       "      <td>NaN</td>\n",
       "    </tr>\n",
       "    <tr>\n",
       "      <th>538367</th>\n",
       "      <td>B0061IUIDY</td>\n",
       "      <td>ALDIU41MJLTZA</td>\n",
       "      <td>Don Snyder \"The Idea Guy</td>\n",
       "      <td>NaN</td>\n",
       "      <td>NaN</td>\n",
       "      <td>NaN</td>\n",
       "      <td>NaN</td>\n",
       "      <td>NaN</td>\n",
       "    </tr>\n",
       "    <tr>\n",
       "      <th>538367</th>\n",
       "      <td>B0061IUIDY</td>\n",
       "      <td>ALDIU41MJLTZA</td>\n",
       "      <td>Don Snyder \"The Idea Guy</td>\n",
       "      <td>NaN</td>\n",
       "      <td>NaN</td>\n",
       "      <td>NaN</td>\n",
       "      <td>NaN</td>\n",
       "      <td>NaN</td>\n",
       "    </tr>\n",
       "    <tr>\n",
       "      <th>538367</th>\n",
       "      <td>B0061IUIDY</td>\n",
       "      <td>ALDIU41MJLTZA</td>\n",
       "      <td>Don Snyder \"The Idea Guy</td>\n",
       "      <td>NaN</td>\n",
       "      <td>NaN</td>\n",
       "      <td>NaN</td>\n",
       "      <td>NaN</td>\n",
       "      <td>NaN</td>\n",
       "    </tr>\n",
       "    <tr>\n",
       "      <th>538368</th>\n",
       "      <td>NaN</td>\n",
       "      <td>NaN</td>\n",
       "      <td>NaN</td>\n",
       "      <td>1/2</td>\n",
       "      <td>2.0</td>\n",
       "      <td>1.343261e+09</td>\n",
       "      <td>There are better brands out there</td>\n",
       "      <td>I'm a huge fan of tea and drink a LOT of it.  This is the first time I tried Higgins &amp; Burke brand and have to say that I've never heard of it before.  English Breakfast Tea is probably my second favorite packaged tea to drink (Earl Grey being my first choice), but most brands I've tried are usually pretty similar.  Not so with this brand.  The aroma didn't seem as rich and flavor seemed somehow \"off\" to me, but I couldn't quite put my finger on what I didn't like until I read one of the other reviews here on Amazon and the reviewer described it as \"musky.\"  That's about as accurate a description as I can think of.&lt;br /&gt;&lt;br /&gt;I like my tea strong (leaving the bag to steep the entire time I'm drinking it) and do not add sweetener or cream or lemon.  After trying the first cup, I knew that I'd have to add something so on my second mug I added a bit of sweetener and it helped take the musky edge off, but it still wasn't what I consider a flavorful English Breakfast blend.&lt;br /&gt;&lt;br /&gt;If you're a fan of traditional English Breakfast Tea I would recommend &lt;a href=\"http://www.amazon.com/gp/product/B000F4F952\"&gt;Twinings English Breakfast Tea, Tea Bags, 50-Count Boxes (Pack of 6)&lt;/a&gt;, &lt;a href=\"http://www.amazon.com/gp/product/B0010DLWT4\"&gt;The Republic of Tea, British Breakfast Tea, 50-Count&lt;/a&gt;, or even &lt;a href=\"http://www.amazon.com/gp/product/B0000C69FB\"&gt;Tazo Awake Black Tea, 24-Count Tea Bags (Pack of 6)&lt;/a&gt; over the Higgins &amp; Burke brand.</td>\n",
       "    </tr>\n",
       "    <tr>\n",
       "      <th>538368</th>\n",
       "      <td>NaN</td>\n",
       "      <td>NaN</td>\n",
       "      <td>NaN</td>\n",
       "      <td>1/2</td>\n",
       "      <td>2.0</td>\n",
       "      <td>1.343261e+09</td>\n",
       "      <td>There are better brands out there</td>\n",
       "      <td>I'm a huge fan of tea and drink a LOT of it.  This is the first time I tried Higgins &amp; Burke brand and have to say that I've never heard of it before.  English Breakfast Tea is probably my second favorite packaged tea to drink (Earl Grey being my first choice), but most brands I've tried are usually pretty similar.  Not so with this brand.  The aroma didn't seem as rich and flavor seemed somehow \"off\" to me, but I couldn't quite put my finger on what I didn't like until I read one of the other reviews here on Amazon and the reviewer described it as \"musky.\"  That's about as accurate a description as I can think of.&lt;br /&gt;&lt;br /&gt;I like my tea strong (leaving the bag to steep the entire time I'm drinking it) and do not add sweetener or cream or lemon.  After trying the first cup, I knew that I'd have to add something so on my second mug I added a bit of sweetener and it helped take the musky edge off, but it still wasn't what I consider a flavorful English Breakfast blend.&lt;br /&gt;&lt;br /&gt;If you're a fan of traditional English Breakfast Tea I would recommend &lt;a href=\"http://www.amazon.com/gp/product/B000F4F952\"&gt;Twinings English Breakfast Tea, Tea Bags, 50-Count Boxes (Pack of 6)&lt;/a&gt;, &lt;a href=\"http://www.amazon.com/gp/product/B0010DLWT4\"&gt;The Republic of Tea, British Breakfast Tea, 50-Count&lt;/a&gt;, or even &lt;a href=\"http://www.amazon.com/gp/product/B0000C69FB\"&gt;Tazo Awake Black Tea, 24-Count Tea Bags (Pack of 6)&lt;/a&gt; over the Higgins &amp; Burke brand.</td>\n",
       "    </tr>\n",
       "    <tr>\n",
       "      <th>538368</th>\n",
       "      <td>NaN</td>\n",
       "      <td>NaN</td>\n",
       "      <td>NaN</td>\n",
       "      <td>1/2</td>\n",
       "      <td>2.0</td>\n",
       "      <td>1.343261e+09</td>\n",
       "      <td>There are better brands out there</td>\n",
       "      <td>I'm a huge fan of tea and drink a LOT of it.  This is the first time I tried Higgins &amp; Burke brand and have to say that I've never heard of it before.  English Breakfast Tea is probably my second favorite packaged tea to drink (Earl Grey being my first choice), but most brands I've tried are usually pretty similar.  Not so with this brand.  The aroma didn't seem as rich and flavor seemed somehow \"off\" to me, but I couldn't quite put my finger on what I didn't like until I read one of the other reviews here on Amazon and the reviewer described it as \"musky.\"  That's about as accurate a description as I can think of.&lt;br /&gt;&lt;br /&gt;I like my tea strong (leaving the bag to steep the entire time I'm drinking it) and do not add sweetener or cream or lemon.  After trying the first cup, I knew that I'd have to add something so on my second mug I added a bit of sweetener and it helped take the musky edge off, but it still wasn't what I consider a flavorful English Breakfast blend.&lt;br /&gt;&lt;br /&gt;If you're a fan of traditional English Breakfast Tea I would recommend &lt;a href=\"http://www.amazon.com/gp/product/B000F4F952\"&gt;Twinings English Breakfast Tea, Tea Bags, 50-Count Boxes (Pack of 6)&lt;/a&gt;, &lt;a href=\"http://www.amazon.com/gp/product/B0010DLWT4\"&gt;The Republic of Tea, British Breakfast Tea, 50-Count&lt;/a&gt;, or even &lt;a href=\"http://www.amazon.com/gp/product/B0000C69FB\"&gt;Tazo Awake Black Tea, 24-Count Tea Bags (Pack of 6)&lt;/a&gt; over the Higgins &amp; Burke brand.</td>\n",
       "    </tr>\n",
       "    <tr>\n",
       "      <th>560453</th>\n",
       "      <td>B000CQID1K</td>\n",
       "      <td>AGT3BYX5P9SLH</td>\n",
       "      <td>NaN</td>\n",
       "      <td>0/0</td>\n",
       "      <td>5.0</td>\n",
       "      <td>1.324685e+09</td>\n",
       "      <td>awesome</td>\n",
       "      <td>i love them they are amazing I would eat them everyday if i could afford to!my kids also love them</td>\n",
       "    </tr>\n",
       "  </tbody>\n",
       "</table>\n",
       "<p>99 rows × 8 columns</p>\n",
       "</div>"
      ],
      "text/plain": [
       "         productid          userid                         username  \\\n",
       "25509   B000LKZB4Y  A36BVYD0NT7Z0F  NaN                               \n",
       "33958   B00412W76S  A3TJPSWY2HE4BS  S. Layton \"homeschool blogger\"    \n",
       "38874   B000AYDGZ2  A36BVYD0NT7Z0F  NaN                               \n",
       "40548   B00020HHRW  A3TJPSWY2HE4BS  S. Layton \"homeschool blogger\"    \n",
       "49800   B000CRHQN0  A2LYFY32LXQDON  NaN                               \n",
       "67077   B0006348H2  A2P0P67Y55SNOX  NaN                               \n",
       "94197   B002RIZUQ2  AS2DLXUWDK0GP   MABEL \"Tell us about yourself!    \n",
       "94197   B002RIZUQ2  AS2DLXUWDK0GP   MABEL \"Tell us about yourself!    \n",
       "94197   B002RIZUQ2  AS2DLXUWDK0GP   MABEL \"Tell us about yourself!    \n",
       "94197   B002RIZUQ2  AS2DLXUWDK0GP   MABEL \"Tell us about yourself!    \n",
       "94197   B002RIZUQ2  AS2DLXUWDK0GP   MABEL \"Tell us about yourself!    \n",
       "94198   NaN         NaN             NaN                               \n",
       "94198   NaN         NaN             NaN                               \n",
       "94198   NaN         NaN             NaN                               \n",
       "101107  B0014B0HWK  A3TJPSWY2HE4BS  S. Layton \"homeschool blogger\"    \n",
       "102980  B000FVDWU4  A3TJPSWY2HE4BS  S. Layton \"homeschool blogger\"    \n",
       "106551  B001EQ5DG0  A1P500QXEG3IUZ  NaN                               \n",
       "117516  B0016B7Z32  A3TJPSWY2HE4BS  S. Layton \"homeschool blogger\"    \n",
       "137614  B000CQE3HS  AGT3BYX5P9SLH   NaN                               \n",
       "155713  B0009VO58S  A3TJPSWY2HE4BS  S. Layton \"homeschool blogger\"    \n",
       "163192  B000CQID1A  AGT3BYX5P9SLH   NaN                               \n",
       "172463  B001FA1L9I  AC9U70TRGPDGJ   NaN                               \n",
       "177086  B004FEJ968  ALDIU41MJLTZA   Don Snyder \"The Idea Guy          \n",
       "177086  B004FEJ968  ALDIU41MJLTZA   Don Snyder \"The Idea Guy          \n",
       "177086  B004FEJ968  ALDIU41MJLTZA   Don Snyder \"The Idea Guy          \n",
       "177086  B004FEJ968  ALDIU41MJLTZA   Don Snyder \"The Idea Guy          \n",
       "177086  B004FEJ968  ALDIU41MJLTZA   Don Snyder \"The Idea Guy          \n",
       "177087  NaN         NaN             NaN                               \n",
       "177087  NaN         NaN             NaN                               \n",
       "177087  NaN         NaN             NaN                               \n",
       "...     ...         ...             ...                               \n",
       "377358  B004M62COU  AAW9ZM7G78WAK   Sherry \"Tell us about yourself!   \n",
       "377358  B004M62COU  AAW9ZM7G78WAK   Sherry \"Tell us about yourself!   \n",
       "377358  B004M62COU  AAW9ZM7G78WAK   Sherry \"Tell us about yourself!   \n",
       "377358  B004M62COU  AAW9ZM7G78WAK   Sherry \"Tell us about yourself!   \n",
       "377359  NaN         NaN             NaN                               \n",
       "377359  NaN         NaN             NaN                               \n",
       "377359  NaN         NaN             NaN                               \n",
       "379479  B007RLRCLK  A3TJPSWY2HE4BS  S. Layton \"homeschool blogger\"    \n",
       "380564  B00014DXCC  A3TJPSWY2HE4BS  S. Layton \"homeschool blogger\"    \n",
       "381319  B00020HHK4  A3TJPSWY2HE4BS  S. Layton \"homeschool blogger\"    \n",
       "386289  B00073JVFU  A3TJPSWY2HE4BS  S. Layton \"homeschool blogger\"    \n",
       "392535  B001H9XOEW  A22R17YPXEULEZ  Liz Wong                          \n",
       "431604  B000W5P0KI  A36BVYD0NT7Z0F  NaN                               \n",
       "440831  B008LFAS08  AC0E8TXIYABB5   NaN                               \n",
       "484373  B00020HHGS  A3TJPSWY2HE4BS  S. Layton \"homeschool blogger\"    \n",
       "486646  B0014AUJII  A3TJPSWY2HE4BS  S. Layton \"homeschool blogger\"    \n",
       "490418  B000CQE3IC  AGT3BYX5P9SLH   NaN                               \n",
       "491734  B004772PJQ  A29D7XVSBCLFLD  NaN                               \n",
       "503266  B00020HHE0  A3TJPSWY2HE4BS  S. Layton \"homeschool blogger\"    \n",
       "515442  B004S04X4W  A2H7605OSHVIQ5  NaN                               \n",
       "530722  B0014ATRV8  A3TJPSWY2HE4BS  S. Layton \"homeschool blogger\"    \n",
       "538367  B0061IUIDY  ALDIU41MJLTZA   Don Snyder \"The Idea Guy          \n",
       "538367  B0061IUIDY  ALDIU41MJLTZA   Don Snyder \"The Idea Guy          \n",
       "538367  B0061IUIDY  ALDIU41MJLTZA   Don Snyder \"The Idea Guy          \n",
       "538367  B0061IUIDY  ALDIU41MJLTZA   Don Snyder \"The Idea Guy          \n",
       "538367  B0061IUIDY  ALDIU41MJLTZA   Don Snyder \"The Idea Guy          \n",
       "538368  NaN         NaN             NaN                               \n",
       "538368  NaN         NaN             NaN                               \n",
       "538368  NaN         NaN             NaN                               \n",
       "560453  B000CQID1K  AGT3BYX5P9SLH   NaN                               \n",
       "\n",
       "       helpfulness  rating          time  \\\n",
       "25509   0/0         5.0     1.314576e+09   \n",
       "33958   1/24        2.0     1.173312e+09   \n",
       "38874   2/3         1.0     1.278374e+09   \n",
       "40548   1/24        2.0     1.173312e+09   \n",
       "49800   0/0         2.0     1.282608e+09   \n",
       "67077   1/1         5.0     1.314662e+09   \n",
       "94197   NaN        NaN     NaN             \n",
       "94197   NaN        NaN     NaN             \n",
       "94197   NaN        NaN     NaN             \n",
       "94197   NaN        NaN     NaN             \n",
       "94197   NaN        NaN     NaN             \n",
       "94198   1/1         4.0     1.289088e+09   \n",
       "94198   1/1         4.0     1.289088e+09   \n",
       "94198   1/1         4.0     1.289088e+09   \n",
       "101107  1/24        2.0     1.173312e+09   \n",
       "102980  1/24        2.0     1.173312e+09   \n",
       "106551  0/0         5.0     1.326758e+09   \n",
       "117516  1/24        2.0     1.173312e+09   \n",
       "137614  0/0         5.0     1.324685e+09   \n",
       "155713  1/24        2.0     1.173312e+09   \n",
       "163192  0/0         5.0     1.324685e+09   \n",
       "172463  0/0         5.0     1.289520e+09   \n",
       "177086  NaN        NaN     NaN             \n",
       "177086  NaN        NaN     NaN             \n",
       "177086  NaN        NaN     NaN             \n",
       "177086  NaN        NaN     NaN             \n",
       "177086  NaN        NaN     NaN             \n",
       "177087  0/0         3.0     1.308182e+09   \n",
       "177087  0/0         3.0     1.308182e+09   \n",
       "177087  0/0         3.0     1.308182e+09   \n",
       "...     ...         ...              ...   \n",
       "377358  NaN        NaN     NaN             \n",
       "377358  NaN        NaN     NaN             \n",
       "377358  NaN        NaN     NaN             \n",
       "377358  NaN        NaN     NaN             \n",
       "377359  0/0         5.0     1.341360e+09   \n",
       "377359  0/0         5.0     1.341360e+09   \n",
       "377359  0/0         5.0     1.341360e+09   \n",
       "379479  1/24        2.0     1.173312e+09   \n",
       "380564  1/24        2.0     1.173312e+09   \n",
       "381319  1/24        2.0     1.173312e+09   \n",
       "386289  1/24        2.0     1.173312e+09   \n",
       "392535  0/0         3.0     1.334534e+09   \n",
       "431604  13/21       1.0     1.298938e+09   \n",
       "440831  1/1         5.0     1.350432e+09   \n",
       "484373  1/24        2.0     1.173312e+09   \n",
       "486646  1/24        2.0     1.173312e+09   \n",
       "490418  0/0         5.0     1.324685e+09   \n",
       "491734  0/0         1.0     1.325203e+09   \n",
       "503266  1/24        2.0     1.173312e+09   \n",
       "515442  0/0         5.0     1.348704e+09   \n",
       "530722  1/24        2.0     1.173312e+09   \n",
       "538367  NaN        NaN     NaN             \n",
       "538367  NaN        NaN     NaN             \n",
       "538367  NaN        NaN     NaN             \n",
       "538367  NaN        NaN     NaN             \n",
       "538367  NaN        NaN     NaN             \n",
       "538368  1/2         2.0     1.343261e+09   \n",
       "538368  1/2         2.0     1.343261e+09   \n",
       "538368  1/2         2.0     1.343261e+09   \n",
       "560453  0/0         5.0     1.324685e+09   \n",
       "\n",
       "                                                                 summary  \\\n",
       "25509   These are the best mints and no aspartame or BHT                   \n",
       "33958   NaN                                                                \n",
       "38874   doesn't anyone care that they are putting BHT into their bodies?   \n",
       "40548   NaN                                                                \n",
       "49800   They were melted and the chocolate had turned white                \n",
       "67077   Wheatgrass                                                         \n",
       "94197   NaN                                                                \n",
       "94197   NaN                                                                \n",
       "94197   NaN                                                                \n",
       "94197   NaN                                                                \n",
       "94197   NaN                                                                \n",
       "94198   delicious                                                          \n",
       "94198   delicious                                                          \n",
       "94198   delicious                                                          \n",
       "101107  NaN                                                                \n",
       "102980  NaN                                                                \n",
       "106551  Finally!                                                           \n",
       "117516  NaN                                                                \n",
       "137614  awesome                                                            \n",
       "155713  NaN                                                                \n",
       "163192  awesome                                                            \n",
       "172463  very good                                                          \n",
       "177086  NaN                                                                \n",
       "177086  NaN                                                                \n",
       "177086  NaN                                                                \n",
       "177086  NaN                                                                \n",
       "177086  NaN                                                                \n",
       "177087  Less would have been more                                          \n",
       "177087  Less would have been more                                          \n",
       "177087  Less would have been more                                          \n",
       "...                           ...                                          \n",
       "377358  NaN                                                                \n",
       "377358  NaN                                                                \n",
       "377358  NaN                                                                \n",
       "377358  NaN                                                                \n",
       "377359  Tasty, smooth, with full flavor                                    \n",
       "377359  Tasty, smooth, with full flavor                                    \n",
       "377359  Tasty, smooth, with full flavor                                    \n",
       "379479  NaN                                                                \n",
       "380564  NaN                                                                \n",
       "381319  NaN                                                                \n",
       "386289  NaN                                                                \n",
       "392535  NaN                                                                \n",
       "431604  WARNING:  Please read before feeding                               \n",
       "440831  The perfect grinder for dog and cat food!                          \n",
       "484373  NaN                                                                \n",
       "486646  NaN                                                                \n",
       "490418  awesome                                                            \n",
       "491734  Burnt                                                              \n",
       "503266  NaN                                                                \n",
       "515442  Hormel Roast Beef Hash, 15-Ounce                                   \n",
       "530722  NaN                                                                \n",
       "538367  NaN                                                                \n",
       "538367  NaN                                                                \n",
       "538367  NaN                                                                \n",
       "538367  NaN                                                                \n",
       "538367  NaN                                                                \n",
       "538368  There are better brands out there                                  \n",
       "538368  There are better brands out there                                  \n",
       "538368  There are better brands out there                                  \n",
       "560453  awesome                                                            \n",
       "\n",
       "                                                                                                                                                                                                                                                                                                                                                                                                                                                                                                                                                                                                                                                                                                                                                                                                                                                                                                                                                                                                                                                                                                                                                                                                                                                                                                                                                                                                                                                                                                                   text  \n",
       "25509   I was so shocked to find out that almost all gums have BHT.  I went to the health food store and got gum with Xylitol but I didn't like the taste.  B Fresh was the only one with Xylitol that didn't taste like aspartame.  I saw Newmans Own Organic Mints and was happy to see no aspartame or BHT and they are really good.  I hope the company starts making gum.  The only problem is the mints are made in Mexico.  What is the matter Americans can't make mints?                                                                                                                                                                                                                                                                                                                                                                                                                                                                                                                                                                                                                                                                                                                                                                                                                                                                                                                                                                                                                                        \n",
       "33958   I only used two maybe three tea bags and got pregnant - can not drink during pregnancy.  Not a bad taste, but I'm not a big tea fan either.                                                                                                                                                                                                                                                                                                                                                                                                                                                                                                                                                                                                                                                                                                                                                                                                                                                                                                                                                                                                                                                                                                                                                                                                                                                                                                                                                                      \n",
       "38874   I called Kellogg's to see why Special K red berries has the natural preservative but Special K blueberry has the killer BHT.  The women who answered wasn't helpful and didn't know why. She also seemed annoyed with my question.  I won't even give my dog food with BHT why would I feed my family a cereal with BHT.  Why don't these company use the more natural and safer preservative like tocoperol etc?                                                                                                                                                                                                                                                                                                                                                                                                                                                                                                                                                                                                                                                                                                                                                                                                                                                                                                                                                                                                                                                                                                \n",
       "40548   I only used two maybe three tea bags and got pregnant - can not drink during pregnancy.  Not a bad taste, but I'm not a big tea fan either.                                                                                                                                                                                                                                                                                                                                                                                                                                                                                                                                                                                                                                                                                                                                                                                                                                                                                                                                                                                                                                                                                                                                                                                                                                                                                                                                                                      \n",
       "49800   We love these bars but i won't order them shipped from anywhere anymore.  They came melted, white, and didn't taste as good as they do when they are fresh.                                                                                                                                                                                                                                                                                                                                                                                                                                                                                                                                                                                                                                                                                                                                                                                                                                                                                                                                                                                                                                                                                                                                                                                                                                                                                                                                                      \n",
       "67077   Kitty seems to like this sprinkled on her food...Glad I bought 2, because I forgot to water one for a few days... Brown grass doesn't work...                                                                                                                                                                                                                                                                                                                                                                                                                                                                                                                                                                                                                                                                                                                                                                                                                                                                                                                                                                                                                                                                                                                                                                                                                                                                                                                                                                    \n",
       "94197   NaN                                                                                                                                                                                                                                                                                                                                                                                                                                                                                                                                                                                                                                                                                                                                                                                                                                                                                                                                                                                                                                                                                                                                                                                                                                                                                                                                                                                                                                                                                                              \n",
       "94197   NaN                                                                                                                                                                                                                                                                                                                                                                                                                                                                                                                                                                                                                                                                                                                                                                                                                                                                                                                                                                                                                                                                                                                                                                                                                                                                                                                                                                                                                                                                                                              \n",
       "94197   NaN                                                                                                                                                                                                                                                                                                                                                                                                                                                                                                                                                                                                                                                                                                                                                                                                                                                                                                                                                                                                                                                                                                                                                                                                                                                                                                                                                                                                                                                                                                              \n",
       "94197   NaN                                                                                                                                                                                                                                                                                                                                                                                                                                                                                                                                                                                                                                                                                                                                                                                                                                                                                                                                                                                                                                                                                                                                                                                                                                                                                                                                                                                                                                                                                                              \n",
       "94197   NaN                                                                                                                                                                                                                                                                                                                                                                                                                                                                                                                                                                                                                                                                                                                                                                                                                                                                                                                                                                                                                                                                                                                                                                                                                                                                                                                                                                                                                                                                                                              \n",
       "94198   if you prefer a tasteful and less strong flavored coffee, I reommend Green Mountain's hazelnut.  I have not been a coffee drinker, but upon tasting this brew, I drink it daily.                                                                                                                                                                                                                                                                                                                                                                                                                                                                                                                                                                                                                                                                                                                                                                                                                                                                                                                                                                                                                                                                                                                                                                                                                                                                                                                                 \n",
       "94198   if you prefer a tasteful and less strong flavored coffee, I reommend Green Mountain's hazelnut.  I have not been a coffee drinker, but upon tasting this brew, I drink it daily.                                                                                                                                                                                                                                                                                                                                                                                                                                                                                                                                                                                                                                                                                                                                                                                                                                                                                                                                                                                                                                                                                                                                                                                                                                                                                                                                 \n",
       "94198   if you prefer a tasteful and less strong flavored coffee, I reommend Green Mountain's hazelnut.  I have not been a coffee drinker, but upon tasting this brew, I drink it daily.                                                                                                                                                                                                                                                                                                                                                                                                                                                                                                                                                                                                                                                                                                                                                                                                                                                                                                                                                                                                                                                                                                                                                                                                                                                                                                                                 \n",
       "101107  I only used two maybe three tea bags and got pregnant - can not drink during pregnancy.  Not a bad taste, but I'm not a big tea fan either.                                                                                                                                                                                                                                                                                                                                                                                                                                                                                                                                                                                                                                                                                                                                                                                                                                                                                                                                                                                                                                                                                                                                                                                                                                                                                                                                                                      \n",
       "102980  I only used two maybe three tea bags and got pregnant - can not drink during pregnancy.  Not a bad taste, but I'm not a big tea fan either.                                                                                                                                                                                                                                                                                                                                                                                                                                                                                                                                                                                                                                                                                                                                                                                                                                                                                                                                                                                                                                                                                                                                                                                                                                                                                                                                                                      \n",
       "106551  You cannot find this in the stores anymore, it's impossible to find.  The price sometimes can be ridiculous ranging up above $40 (REALLY!).  I orderd this on the subscribe and save under $18, but if the price increased, will discountinue it.                                                                                                                                                                                                                                                                                                                                                                                                                                                                                                                                                                                                                                                                                                                                                                                                                                                                                                                                                                                                                                                                                                                                                                                                                                                                \n",
       "117516  I only used two maybe three tea bags and got pregnant - can not drink during pregnancy.  Not a bad taste, but I'm not a big tea fan either.                                                                                                                                                                                                                                                                                                                                                                                                                                                                                                                                                                                                                                                                                                                                                                                                                                                                                                                                                                                                                                                                                                                                                                                                                                                                                                                                                                      \n",
       "137614  i love them they are amazing I would eat them everyday if i could afford to!my kids also love them                                                                                                                                                                                                                                                                                                                                                                                                                                                                                                                                                                                                                                                                                                                                                                                                                                                                                                                                                                                                                                                                                                                                                                                                                                                                                                                                                                                                               \n",
       "155713  I only used two maybe three tea bags and got pregnant - can not drink during pregnancy.  Not a bad taste, but I'm not a big tea fan either.                                                                                                                                                                                                                                                                                                                                                                                                                                                                                                                                                                                                                                                                                                                                                                                                                                                                                                                                                                                                                                                                                                                                                                                                                                                                                                                                                                      \n",
       "163192  i love them they are amazing I would eat them everyday if i could afford to!my kids also love them                                                                                                                                                                                                                                                                                                                                                                                                                                                                                                                                                                                                                                                                                                                                                                                                                                                                                                                                                                                                                                                                                                                                                                                                                                                                                                                                                                                                               \n",
       "172463  came in proper packaging.  Have loved British Heinz baked beans since I was a kid so was not disappointed!                                                                                                                                                                                                                                                                                                                                                                                                                                                                                                                                                                                                                                                                                                                                                                                                                                                                                                                                                                                                                                                                                                                                                                                                                                                                                                                                                                                                       \n",
       "177086  NaN                                                                                                                                                                                                                                                                                                                                                                                                                                                                                                                                                                                                                                                                                                                                                                                                                                                                                                                                                                                                                                                                                                                                                                                                                                                                                                                                                                                                                                                                                                              \n",
       "177086  NaN                                                                                                                                                                                                                                                                                                                                                                                                                                                                                                                                                                                                                                                                                                                                                                                                                                                                                                                                                                                                                                                                                                                                                                                                                                                                                                                                                                                                                                                                                                              \n",
       "177086  NaN                                                                                                                                                                                                                                                                                                                                                                                                                                                                                                                                                                                                                                                                                                                                                                                                                                                                                                                                                                                                                                                                                                                                                                                                                                                                                                                                                                                                                                                                                                              \n",
       "177086  NaN                                                                                                                                                                                                                                                                                                                                                                                                                                                                                                                                                                                                                                                                                                                                                                                                                                                                                                                                                                                                                                                                                                                                                                                                                                                                                                                                                                                                                                                                                                              \n",
       "177086  NaN                                                                                                                                                                                                                                                                                                                                                                                                                                                                                                                                                                                                                                                                                                                                                                                                                                                                                                                                                                                                                                                                                                                                                                                                                                                                                                                                                                                                                                                                                                              \n",
       "177087  The taste of the Newton's Fruit Thins was pretty good. It's a nice crunchy treat, and I really enjoyed the cranberry citrus and oat flavor. It was like a really thin and crisp designer oatmeal cookie.  I would have liked the product more if the cookies were smaller in size.  The snacks are rather large and round in shape, and being so thin they easily break and crumble. If they were 1/4 of the current size you could easily consume them in one or two bites and eliminate the crumbs.  The packaging leaves a lot to be desired. The outer foil bag isn't bad, but the inside plastic tray is clumsy and tough to slide back into the resealable wrap, and combined with the large crumbly nature of the cookie already mentioned above I doubt very much if anyone buying these in a store ends up with more than half of the cookies actually being whole by the time they get home.  Ordering them from Amazon easily guarantees half the product inside will be in pieces -- but like I said... the smaller size (even if they are broken pieces) makes 'em easier to eat!                                                                                                                                                                                                                                                                                                                                                                                                                   \n",
       "177087  The taste of the Newton's Fruit Thins was pretty good. It's a nice crunchy treat, and I really enjoyed the cranberry citrus and oat flavor. It was like a really thin and crisp designer oatmeal cookie.  I would have liked the product more if the cookies were smaller in size.  The snacks are rather large and round in shape, and being so thin they easily break and crumble. If they were 1/4 of the current size you could easily consume them in one or two bites and eliminate the crumbs.  The packaging leaves a lot to be desired. The outer foil bag isn't bad, but the inside plastic tray is clumsy and tough to slide back into the resealable wrap, and combined with the large crumbly nature of the cookie already mentioned above I doubt very much if anyone buying these in a store ends up with more than half of the cookies actually being whole by the time they get home.  Ordering them from Amazon easily guarantees half the product inside will be in pieces -- but like I said... the smaller size (even if they are broken pieces) makes 'em easier to eat!                                                                                                                                                                                                                                                                                                                                                                                                                   \n",
       "177087  The taste of the Newton's Fruit Thins was pretty good. It's a nice crunchy treat, and I really enjoyed the cranberry citrus and oat flavor. It was like a really thin and crisp designer oatmeal cookie.  I would have liked the product more if the cookies were smaller in size.  The snacks are rather large and round in shape, and being so thin they easily break and crumble. If they were 1/4 of the current size you could easily consume them in one or two bites and eliminate the crumbs.  The packaging leaves a lot to be desired. The outer foil bag isn't bad, but the inside plastic tray is clumsy and tough to slide back into the resealable wrap, and combined with the large crumbly nature of the cookie already mentioned above I doubt very much if anyone buying these in a store ends up with more than half of the cookies actually being whole by the time they get home.  Ordering them from Amazon easily guarantees half the product inside will be in pieces -- but like I said... the smaller size (even if they are broken pieces) makes 'em easier to eat!                                                                                                                                                                                                                                                                                                                                                                                                                   \n",
       "...                                                                                                                                                                                                                                                                                                                                                                                                                                                                                                                                                                                                                                                                                                                                                                                                                                                                                                                                                                                                                                                                                                ...                                                                                                                                                                                                                                                                                                                                                                                                                   \n",
       "377358  NaN                                                                                                                                                                                                                                                                                                                                                                                                                                                                                                                                                                                                                                                                                                                                                                                                                                                                                                                                                                                                                                                                                                                                                                                                                                                                                                                                                                                                                                                                                                              \n",
       "377358  NaN                                                                                                                                                                                                                                                                                                                                                                                                                                                                                                                                                                                                                                                                                                                                                                                                                                                                                                                                                                                                                                                                                                                                                                                                                                                                                                                                                                                                                                                                                                              \n",
       "377358  NaN                                                                                                                                                                                                                                                                                                                                                                                                                                                                                                                                                                                                                                                                                                                                                                                                                                                                                                                                                                                                                                                                                                                                                                                                                                                                                                                                                                                                                                                                                                              \n",
       "377358  NaN                                                                                                                                                                                                                                                                                                                                                                                                                                                                                                                                                                                                                                                                                                                                                                                                                                                                                                                                                                                                                                                                                                                                                                                                                                                                                                                                                                                                                                                                                                              \n",
       "377359  This coffee blend is full bodied but not overpowering and makes for a smooth tasty cup of coffee.  It is great anytime of day.  Green Mountain has done an excellent job with this blend.  You will not be disappointed.                                                                                                                                                                                                                                                                                                                                                                                                                                                                                                                                                                                                                                                                                                                                                                                                                                                                                                                                                                                                                                                                                                                                                                                                                                                                                         \n",
       "377359  This coffee blend is full bodied but not overpowering and makes for a smooth tasty cup of coffee.  It is great anytime of day.  Green Mountain has done an excellent job with this blend.  You will not be disappointed.                                                                                                                                                                                                                                                                                                                                                                                                                                                                                                                                                                                                                                                                                                                                                                                                                                                                                                                                                                                                                                                                                                                                                                                                                                                                                         \n",
       "377359  This coffee blend is full bodied but not overpowering and makes for a smooth tasty cup of coffee.  It is great anytime of day.  Green Mountain has done an excellent job with this blend.  You will not be disappointed.                                                                                                                                                                                                                                                                                                                                                                                                                                                                                                                                                                                                                                                                                                                                                                                                                                                                                                                                                                                                                                                                                                                                                                                                                                                                                         \n",
       "379479  I only used two maybe three tea bags and got pregnant - can not drink during pregnancy.  Not a bad taste, but I'm not a big tea fan either.                                                                                                                                                                                                                                                                                                                                                                                                                                                                                                                                                                                                                                                                                                                                                                                                                                                                                                                                                                                                                                                                                                                                                                                                                                                                                                                                                                      \n",
       "380564  I only used two maybe three tea bags and got pregnant - can not drink during pregnancy.  Not a bad taste, but I'm not a big tea fan either.                                                                                                                                                                                                                                                                                                                                                                                                                                                                                                                                                                                                                                                                                                                                                                                                                                                                                                                                                                                                                                                                                                                                                                                                                                                                                                                                                                      \n",
       "381319  I only used two maybe three tea bags and got pregnant - can not drink during pregnancy.  Not a bad taste, but I'm not a big tea fan either.                                                                                                                                                                                                                                                                                                                                                                                                                                                                                                                                                                                                                                                                                                                                                                                                                                                                                                                                                                                                                                                                                                                                                                                                                                                                                                                                                                      \n",
       "386289  I only used two maybe three tea bags and got pregnant - can not drink during pregnancy.  Not a bad taste, but I'm not a big tea fan either.                                                                                                                                                                                                                                                                                                                                                                                                                                                                                                                                                                                                                                                                                                                                                                                                                                                                                                                                                                                                                                                                                                                                                                                                                                                                                                                                                                      \n",
       "392535  I like the product and tried it before I puchased it. However, one of the boxes arrived have only 10 in it instead of 12.                                                                                                                                                                                                                                                                                                                                                                                                                                                                                                                                                                                                                                                                                                                                                                                                                                                                                                                                                                                                                                                                                                                                                                                                                                                                                                                                                                                        \n",
       "431604  WARNING:  I use to feed my dogs Orijen 75% protein but the last few months my dogs have had really bad diarrhea.  We thought one would need IV fluids because he was getting dehydrated.  I looked at the bag and saw they now changed to 80% protein and now use sodium selenite which I would never buy a food with this ingredient.  Instead of getting better they are getting worse.  80% protein is a lot for a non working dog. And now with the recall, I have to look for another brand of dog food with selenium yeast, no ethoxyquin, no BHT etc. Also, the company that once was great in customer service now refuses to answer e-mail questions.  What are they hiding.  This use to be a good quality dog food that I use to recommend to everyone.  When I returned the 80% protein bag back the girl said a lot of people have been complaining and they aren't recommending this brand anymore.                                                                                                                                                                                                                                                                                                                                                                                                                                                                                                                                                                                                \n",
       "440831  this grinder is super easy to assemble and operate, after grinding 100 pounds of dog/cat food by hand, decided it was time to break down and go electric grinder, so far tested with a \"mini\" grind and was super fast, easy to set up, run and clean up, wash all parts by hand, it took a couple min. and dried and stored...took bone in raw chicken, carrots( cut in 1/4 s yams, all with ease.... comes with excellent instructions too, was going to go with the turbo 3000, had a few questions, so called Jim, who suggested this unit and it fills my needs 100% My husband and I could not be happier!<br />Nan                                                                                                                                                                                                                                                                                                                                                                                                                                                                                                                                                                                                                                                                                                                                                                                                                                                                                        \n",
       "484373  I only used two maybe three tea bags and got pregnant - can not drink during pregnancy.  Not a bad taste, but I'm not a big tea fan either.                                                                                                                                                                                                                                                                                                                                                                                                                                                                                                                                                                                                                                                                                                                                                                                                                                                                                                                                                                                                                                                                                                                                                                                                                                                                                                                                                                      \n",
       "486646  I only used two maybe three tea bags and got pregnant - can not drink during pregnancy.  Not a bad taste, but I'm not a big tea fan either.                                                                                                                                                                                                                                                                                                                                                                                                                                                                                                                                                                                                                                                                                                                                                                                                                                                                                                                                                                                                                                                                                                                                                                                                                                                                                                                                                                      \n",
       "490418  i love them they are amazing I would eat them everyday if i could afford to!my kids also love them                                                                                                                                                                                                                                                                                                                                                                                                                                                                                                                                                                                                                                                                                                                                                                                                                                                                                                                                                                                                                                                                                                                                                                                                                                                                                                                                                                                                               \n",
       "491734  The last SEVERAL time we bought this it tasted burnt...waste of our money to keep getting boxes of coffee that didn't taste good...so we quit buying it!                                                                                                                                                                                                                                                                                                                                                                                                                                                                                                                                                                                                                                                                                                                                                                                                                                                                                                                                                                                                                                                                                                                                                                                                                                                                                                                                                         \n",
       "503266  I only used two maybe three tea bags and got pregnant - can not drink during pregnancy.  Not a bad taste, but I'm not a big tea fan either.                                                                                                                                                                                                                                                                                                                                                                                                                                                                                                                                                                                                                                                                                                                                                                                                                                                                                                                                                                                                                                                                                                                                                                                                                                                                                                                                                                      \n",
       "515442  I've been buying this in the grocery stores from time to time, and it is very good, it's milder and a lot less fat than corned beef.Now I can order it from Amazon and it will be delivered to my door.                                                                                                                                                                                                                                                                                                                                                                                                                                                                                                                                                                                                                                                                                                                                                                                                                                                                                                                                                                                                                                                                                                                                                                                                                                                                                                          \n",
       "530722  I only used two maybe three tea bags and got pregnant - can not drink during pregnancy.  Not a bad taste, but I'm not a big tea fan either.                                                                                                                                                                                                                                                                                                                                                                                                                                                                                                                                                                                                                                                                                                                                                                                                                                                                                                                                                                                                                                                                                                                                                                                                                                                                                                                                                                      \n",
       "538367  NaN                                                                                                                                                                                                                                                                                                                                                                                                                                                                                                                                                                                                                                                                                                                                                                                                                                                                                                                                                                                                                                                                                                                                                                                                                                                                                                                                                                                                                                                                                                              \n",
       "538367  NaN                                                                                                                                                                                                                                                                                                                                                                                                                                                                                                                                                                                                                                                                                                                                                                                                                                                                                                                                                                                                                                                                                                                                                                                                                                                                                                                                                                                                                                                                                                              \n",
       "538367  NaN                                                                                                                                                                                                                                                                                                                                                                                                                                                                                                                                                                                                                                                                                                                                                                                                                                                                                                                                                                                                                                                                                                                                                                                                                                                                                                                                                                                                                                                                                                              \n",
       "538367  NaN                                                                                                                                                                                                                                                                                                                                                                                                                                                                                                                                                                                                                                                                                                                                                                                                                                                                                                                                                                                                                                                                                                                                                                                                                                                                                                                                                                                                                                                                                                              \n",
       "538367  NaN                                                                                                                                                                                                                                                                                                                                                                                                                                                                                                                                                                                                                                                                                                                                                                                                                                                                                                                                                                                                                                                                                                                                                                                                                                                                                                                                                                                                                                                                                                              \n",
       "538368  I'm a huge fan of tea and drink a LOT of it.  This is the first time I tried Higgins & Burke brand and have to say that I've never heard of it before.  English Breakfast Tea is probably my second favorite packaged tea to drink (Earl Grey being my first choice), but most brands I've tried are usually pretty similar.  Not so with this brand.  The aroma didn't seem as rich and flavor seemed somehow \"off\" to me, but I couldn't quite put my finger on what I didn't like until I read one of the other reviews here on Amazon and the reviewer described it as \"musky.\"  That's about as accurate a description as I can think of.<br /><br />I like my tea strong (leaving the bag to steep the entire time I'm drinking it) and do not add sweetener or cream or lemon.  After trying the first cup, I knew that I'd have to add something so on my second mug I added a bit of sweetener and it helped take the musky edge off, but it still wasn't what I consider a flavorful English Breakfast blend.<br /><br />If you're a fan of traditional English Breakfast Tea I would recommend <a href=\"http://www.amazon.com/gp/product/B000F4F952\">Twinings English Breakfast Tea, Tea Bags, 50-Count Boxes (Pack of 6)</a>, <a href=\"http://www.amazon.com/gp/product/B0010DLWT4\">The Republic of Tea, British Breakfast Tea, 50-Count</a>, or even <a href=\"http://www.amazon.com/gp/product/B0000C69FB\">Tazo Awake Black Tea, 24-Count Tea Bags (Pack of 6)</a> over the Higgins & Burke brand.  \n",
       "538368  I'm a huge fan of tea and drink a LOT of it.  This is the first time I tried Higgins & Burke brand and have to say that I've never heard of it before.  English Breakfast Tea is probably my second favorite packaged tea to drink (Earl Grey being my first choice), but most brands I've tried are usually pretty similar.  Not so with this brand.  The aroma didn't seem as rich and flavor seemed somehow \"off\" to me, but I couldn't quite put my finger on what I didn't like until I read one of the other reviews here on Amazon and the reviewer described it as \"musky.\"  That's about as accurate a description as I can think of.<br /><br />I like my tea strong (leaving the bag to steep the entire time I'm drinking it) and do not add sweetener or cream or lemon.  After trying the first cup, I knew that I'd have to add something so on my second mug I added a bit of sweetener and it helped take the musky edge off, but it still wasn't what I consider a flavorful English Breakfast blend.<br /><br />If you're a fan of traditional English Breakfast Tea I would recommend <a href=\"http://www.amazon.com/gp/product/B000F4F952\">Twinings English Breakfast Tea, Tea Bags, 50-Count Boxes (Pack of 6)</a>, <a href=\"http://www.amazon.com/gp/product/B0010DLWT4\">The Republic of Tea, British Breakfast Tea, 50-Count</a>, or even <a href=\"http://www.amazon.com/gp/product/B0000C69FB\">Tazo Awake Black Tea, 24-Count Tea Bags (Pack of 6)</a> over the Higgins & Burke brand.  \n",
       "538368  I'm a huge fan of tea and drink a LOT of it.  This is the first time I tried Higgins & Burke brand and have to say that I've never heard of it before.  English Breakfast Tea is probably my second favorite packaged tea to drink (Earl Grey being my first choice), but most brands I've tried are usually pretty similar.  Not so with this brand.  The aroma didn't seem as rich and flavor seemed somehow \"off\" to me, but I couldn't quite put my finger on what I didn't like until I read one of the other reviews here on Amazon and the reviewer described it as \"musky.\"  That's about as accurate a description as I can think of.<br /><br />I like my tea strong (leaving the bag to steep the entire time I'm drinking it) and do not add sweetener or cream or lemon.  After trying the first cup, I knew that I'd have to add something so on my second mug I added a bit of sweetener and it helped take the musky edge off, but it still wasn't what I consider a flavorful English Breakfast blend.<br /><br />If you're a fan of traditional English Breakfast Tea I would recommend <a href=\"http://www.amazon.com/gp/product/B000F4F952\">Twinings English Breakfast Tea, Tea Bags, 50-Count Boxes (Pack of 6)</a>, <a href=\"http://www.amazon.com/gp/product/B0010DLWT4\">The Republic of Tea, British Breakfast Tea, 50-Count</a>, or even <a href=\"http://www.amazon.com/gp/product/B0000C69FB\">Tazo Awake Black Tea, 24-Count Tea Bags (Pack of 6)</a> over the Higgins & Burke brand.  \n",
       "560453  i love them they are amazing I would eat them everyday if i could afford to!my kids also love them                                                                                                                                                                                                                                                                                                                                                                                                                                                                                                                                                                                                                                                                                                                                                                                                                                                                                                                                                                                                                                                                                                                                                                                                                                                                                                                                                                                                               \n",
       "\n",
       "[99 rows x 8 columns]"
      ]
     },
     "execution_count": 29,
     "metadata": {},
     "output_type": "execute_result"
    }
   ],
   "source": [
    "# check all null records (any one column)\n",
    "food_reviews[food_reviews.isnull().values]"
   ]
  },
  {
   "cell_type": "code",
   "execution_count": 5,
   "metadata": {
    "_uuid": "a2b94b54b7aed69444dc8d65cc08dd1c288bf100"
   },
   "outputs": [],
   "source": [
    "# Dropping Summary and text columns have missing values. Dropping those rows which have both of them missing.\n",
    "food_reviews = food_reviews[food_reviews['summary'].notnull() | food_reviews['text'].notnull()]\n",
    "# Where NA in summary, replace with None\n",
    "food_reviews['summary'] = food_reviews['summary'].replace(np.nan,'None', regex=True)"
   ]
  },
  {
   "cell_type": "code",
   "execution_count": 34,
   "metadata": {
    "_uuid": "969ec1f19f0e442854d22d62055095d52a7ddb33"
   },
   "outputs": [
    {
     "data": {
      "text/plain": [
       "productid      7 \n",
       "userid         7 \n",
       "username       23\n",
       "helpfulness    0 \n",
       "rating         0 \n",
       "time           0 \n",
       "summary        0 \n",
       "text           0 \n",
       "dtype: int64"
      ]
     },
     "execution_count": 34,
     "metadata": {},
     "output_type": "execute_result"
    }
   ],
   "source": [
    "# check remaining null values\n",
    "food_reviews.isna().sum()"
   ]
  },
  {
   "cell_type": "code",
   "execution_count": 35,
   "metadata": {
    "_uuid": "c40dcde941929974546bdee00cd1b0e42a09f0fe"
   },
   "outputs": [
    {
     "data": {
      "text/plain": [
       "(568431, 8)"
      ]
     },
     "execution_count": 35,
     "metadata": {},
     "output_type": "execute_result"
    }
   ],
   "source": [
    "# drop remaining null values\n",
    "food_reviews.dropna(inplace = True)\n",
    "food_reviews.shape"
   ]
  },
  {
   "cell_type": "markdown",
   "metadata": {
    "_uuid": "891fe2475eff3ed5f8cf327b06bc48b3c0f0785b"
   },
   "source": [
    "#### Reindexing of data"
   ]
  },
  {
   "cell_type": "code",
   "execution_count": 6,
   "metadata": {
    "_uuid": "976225d1a495c7d4808b243ac0e035e3e0589628"
   },
   "outputs": [],
   "source": [
    "# since all null records are gone, reindex\n",
    "food_reviews.index = range(food_reviews.shape[0])"
   ]
  },
  {
   "cell_type": "markdown",
   "metadata": {
    "_uuid": "679ab0fc7f6062c1bb7bc2da448c7ee4ca12f3f0"
   },
   "source": [
    "#### Extracting time,month,year"
   ]
  },
  {
   "cell_type": "code",
   "execution_count": 7,
   "metadata": {
    "_uuid": "b1d3e643185407e0d6883405f7eaf4f8cb633325"
   },
   "outputs": [
    {
     "data": {
      "text/html": [
       "<div>\n",
       "<style scoped>\n",
       "    .dataframe tbody tr th:only-of-type {\n",
       "        vertical-align: middle;\n",
       "    }\n",
       "\n",
       "    .dataframe tbody tr th {\n",
       "        vertical-align: top;\n",
       "    }\n",
       "\n",
       "    .dataframe thead th {\n",
       "        text-align: right;\n",
       "    }\n",
       "</style>\n",
       "<table border=\"1\" class=\"dataframe\">\n",
       "  <thead>\n",
       "    <tr style=\"text-align: right;\">\n",
       "      <th></th>\n",
       "      <th>productid</th>\n",
       "      <th>userid</th>\n",
       "      <th>username</th>\n",
       "      <th>helpfulness</th>\n",
       "      <th>rating</th>\n",
       "      <th>time</th>\n",
       "      <th>summary</th>\n",
       "      <th>text</th>\n",
       "      <th>year</th>\n",
       "      <th>month</th>\n",
       "    </tr>\n",
       "  </thead>\n",
       "  <tbody>\n",
       "    <tr>\n",
       "      <th>0</th>\n",
       "      <td>B001E4KFG0</td>\n",
       "      <td>A3SGXH7AUHU8GW</td>\n",
       "      <td>delmartian</td>\n",
       "      <td>1/1</td>\n",
       "      <td>5.0</td>\n",
       "      <td>2011-04-27</td>\n",
       "      <td>Good Quality Dog Food</td>\n",
       "      <td>I have bought several of the Vitality canned dog food products and have found them all to be of good quality. The product looks more like a stew than a processed meat and it smells better. My Labrador is finicky and she appreciates this product better than  most.</td>\n",
       "      <td>2011</td>\n",
       "      <td>4</td>\n",
       "    </tr>\n",
       "    <tr>\n",
       "      <th>1</th>\n",
       "      <td>B00813GRG4</td>\n",
       "      <td>A1D87F6ZCVE5NK</td>\n",
       "      <td>dll pa</td>\n",
       "      <td>0/0</td>\n",
       "      <td>1.0</td>\n",
       "      <td>2012-09-07</td>\n",
       "      <td>Not as Advertised</td>\n",
       "      <td>Product arrived labeled as Jumbo Salted Peanuts...the peanuts were actually small sized unsalted. Not sure if this was an error or if the vendor intended to represent the product as \"Jumbo\".</td>\n",
       "      <td>2012</td>\n",
       "      <td>9</td>\n",
       "    </tr>\n",
       "    <tr>\n",
       "      <th>2</th>\n",
       "      <td>B000LQOCH0</td>\n",
       "      <td>ABXLMWJIXXAIN</td>\n",
       "      <td>Natalia Corres \"Natalia Corres\"</td>\n",
       "      <td>1/1</td>\n",
       "      <td>4.0</td>\n",
       "      <td>2008-08-18</td>\n",
       "      <td>\"Delight\" says it all</td>\n",
       "      <td>This is a confection that has been around a few centuries.  It is a light, pillowy citrus gelatin with nuts - in this case Filberts. And it is cut into tiny squares and then liberally coated with powdered sugar.  And it is a tiny mouthful of heaven.  Not too chewy, and very flavorful.  I highly recommend this yummy treat.  If you are familiar with the story of C.S. Lewis' \"The Lion, The Witch, and The Wardrobe\" - this is the treat that seduces Edmund into selling out his Brother and Sisters to the Witch.</td>\n",
       "      <td>2008</td>\n",
       "      <td>8</td>\n",
       "    </tr>\n",
       "    <tr>\n",
       "      <th>3</th>\n",
       "      <td>B000UA0QIQ</td>\n",
       "      <td>A395BORC6FGVXV</td>\n",
       "      <td>Karl</td>\n",
       "      <td>3/3</td>\n",
       "      <td>2.0</td>\n",
       "      <td>2011-06-13</td>\n",
       "      <td>Cough Medicine</td>\n",
       "      <td>If you are looking for the secret ingredient in Robitussin I believe I have found it.  I got this in addition to the Root Beer Extract I ordered (which was good) and made some cherry soda.  The flavor is very medicinal.</td>\n",
       "      <td>2011</td>\n",
       "      <td>6</td>\n",
       "    </tr>\n",
       "    <tr>\n",
       "      <th>4</th>\n",
       "      <td>B006K2ZZ7K</td>\n",
       "      <td>A1UQRSCLF8GW1T</td>\n",
       "      <td>Michael D. Bigham \"M. Wassir\"</td>\n",
       "      <td>0/0</td>\n",
       "      <td>5.0</td>\n",
       "      <td>2012-10-21</td>\n",
       "      <td>Great taffy</td>\n",
       "      <td>Great taffy at a great price.  There was a wide assortment of yummy taffy.  Delivery was very quick.  If your a taffy lover, this is a deal.</td>\n",
       "      <td>2012</td>\n",
       "      <td>10</td>\n",
       "    </tr>\n",
       "  </tbody>\n",
       "</table>\n",
       "</div>"
      ],
      "text/plain": [
       "    productid          userid                         username helpfulness  \\\n",
       "0  B001E4KFG0  A3SGXH7AUHU8GW  delmartian                       1/1          \n",
       "1  B00813GRG4  A1D87F6ZCVE5NK  dll pa                           0/0          \n",
       "2  B000LQOCH0  ABXLMWJIXXAIN   Natalia Corres \"Natalia Corres\"  1/1          \n",
       "3  B000UA0QIQ  A395BORC6FGVXV  Karl                             3/3          \n",
       "4  B006K2ZZ7K  A1UQRSCLF8GW1T  Michael D. Bigham \"M. Wassir\"    0/0          \n",
       "\n",
       "   rating       time                summary  \\\n",
       "0  5.0    2011-04-27  Good Quality Dog Food   \n",
       "1  1.0    2012-09-07  Not as Advertised       \n",
       "2  4.0    2008-08-18  \"Delight\" says it all   \n",
       "3  2.0    2011-06-13  Cough Medicine          \n",
       "4  5.0    2012-10-21  Great taffy             \n",
       "\n",
       "                                                                                                                                                                                                                                                                                                                                                                                                                                                                                                                            text  \\\n",
       "0  I have bought several of the Vitality canned dog food products and have found them all to be of good quality. The product looks more like a stew than a processed meat and it smells better. My Labrador is finicky and she appreciates this product better than  most.                                                                                                                                                                                                                                                         \n",
       "1  Product arrived labeled as Jumbo Salted Peanuts...the peanuts were actually small sized unsalted. Not sure if this was an error or if the vendor intended to represent the product as \"Jumbo\".                                                                                                                                                                                                                                                                                                                                  \n",
       "2  This is a confection that has been around a few centuries.  It is a light, pillowy citrus gelatin with nuts - in this case Filberts. And it is cut into tiny squares and then liberally coated with powdered sugar.  And it is a tiny mouthful of heaven.  Not too chewy, and very flavorful.  I highly recommend this yummy treat.  If you are familiar with the story of C.S. Lewis' \"The Lion, The Witch, and The Wardrobe\" - this is the treat that seduces Edmund into selling out his Brother and Sisters to the Witch.   \n",
       "3  If you are looking for the secret ingredient in Robitussin I believe I have found it.  I got this in addition to the Root Beer Extract I ordered (which was good) and made some cherry soda.  The flavor is very medicinal.                                                                                                                                                                                                                                                                                                     \n",
       "4  Great taffy at a great price.  There was a wide assortment of yummy taffy.  Delivery was very quick.  If your a taffy lover, this is a deal.                                                                                                                                                                                                                                                                                                                                                                                    \n",
       "\n",
       "   year  month  \n",
       "0  2011  4      \n",
       "1  2012  9      \n",
       "2  2008  8      \n",
       "3  2011  6      \n",
       "4  2012  10     "
      ]
     },
     "execution_count": 7,
     "metadata": {},
     "output_type": "execute_result"
    }
   ],
   "source": [
    "food_reviews['time'] = pd.to_datetime(food_reviews['time'], unit='s')\n",
    "food_reviews['year'] = food_reviews['time'].dt.year\n",
    "food_reviews['month'] = food_reviews['time'].dt.month\n",
    "food_reviews.head()"
   ]
  },
  {
   "cell_type": "markdown",
   "metadata": {
    "_uuid": "7d42b6468feb67c9eab10a2f6f11c98984b5284f"
   },
   "source": [
    "#### Extracting helpfulness score"
   ]
  },
  {
   "cell_type": "code",
   "execution_count": 8,
   "metadata": {
    "_uuid": "835fea9c1339ec40a91f745320ad1d729dc81078"
   },
   "outputs": [],
   "source": [
    "food_reviews.loc[:,'helpful_upvotes'] = food_reviews.helpfulness.apply(lambda x: float(x.split(\"/\")[0]))\n",
    "food_reviews.loc[:,'helpful_responses'] = food_reviews.helpfulness.apply(lambda x: float(x.split(\"/\")[1]))"
   ]
  },
  {
   "cell_type": "code",
   "execution_count": 9,
   "metadata": {
    "_uuid": "8c893a488dd161f631f4a53a7fa33948af7bbbd0"
   },
   "outputs": [],
   "source": [
    "# drop the 2 rows where upvotes > responses since it doesn't make sense\n",
    "food_reviews = food_reviews[~(food_reviews.helpful_upvotes > food_reviews.helpful_responses)]"
   ]
  },
  {
   "cell_type": "code",
   "execution_count": 10,
   "metadata": {
    "_uuid": "e494b218541ae2dc7f0d9149193de4d0404a9c6c"
   },
   "outputs": [],
   "source": [
    "food_reviews['helpfulness_score']  = food_reviews.helpful_upvotes / food_reviews.helpful_responses "
   ]
  },
  {
   "cell_type": "markdown",
   "metadata": {},
   "source": [
    "#### Replacing NaNs due to divide by 0 by -1"
   ]
  },
  {
   "cell_type": "code",
   "execution_count": 11,
   "metadata": {
    "_uuid": "a58f023f250b0bb684128188a6a62ceb527dcb6c"
   },
   "outputs": [
    {
     "data": {
      "text/html": [
       "<div>\n",
       "<style scoped>\n",
       "    .dataframe tbody tr th:only-of-type {\n",
       "        vertical-align: middle;\n",
       "    }\n",
       "\n",
       "    .dataframe tbody tr th {\n",
       "        vertical-align: top;\n",
       "    }\n",
       "\n",
       "    .dataframe thead th {\n",
       "        text-align: right;\n",
       "    }\n",
       "</style>\n",
       "<table border=\"1\" class=\"dataframe\">\n",
       "  <thead>\n",
       "    <tr style=\"text-align: right;\">\n",
       "      <th></th>\n",
       "      <th>productid</th>\n",
       "      <th>userid</th>\n",
       "      <th>username</th>\n",
       "      <th>helpfulness</th>\n",
       "      <th>rating</th>\n",
       "      <th>time</th>\n",
       "      <th>summary</th>\n",
       "      <th>text</th>\n",
       "      <th>year</th>\n",
       "      <th>month</th>\n",
       "      <th>helpful_upvotes</th>\n",
       "      <th>helpful_responses</th>\n",
       "      <th>helpfulness_score</th>\n",
       "    </tr>\n",
       "  </thead>\n",
       "  <tbody>\n",
       "    <tr>\n",
       "      <th>0</th>\n",
       "      <td>B001E4KFG0</td>\n",
       "      <td>A3SGXH7AUHU8GW</td>\n",
       "      <td>delmartian</td>\n",
       "      <td>1/1</td>\n",
       "      <td>5.0</td>\n",
       "      <td>2011-04-27</td>\n",
       "      <td>Good Quality Dog Food</td>\n",
       "      <td>I have bought several of the Vitality canned dog food products and have found them all to be of good quality. The product looks more like a stew than a processed meat and it smells better. My Labrador is finicky and she appreciates this product better than  most.</td>\n",
       "      <td>2011</td>\n",
       "      <td>4</td>\n",
       "      <td>1.0</td>\n",
       "      <td>1.0</td>\n",
       "      <td>1.0</td>\n",
       "    </tr>\n",
       "    <tr>\n",
       "      <th>1</th>\n",
       "      <td>B00813GRG4</td>\n",
       "      <td>A1D87F6ZCVE5NK</td>\n",
       "      <td>dll pa</td>\n",
       "      <td>0/0</td>\n",
       "      <td>1.0</td>\n",
       "      <td>2012-09-07</td>\n",
       "      <td>Not as Advertised</td>\n",
       "      <td>Product arrived labeled as Jumbo Salted Peanuts...the peanuts were actually small sized unsalted. Not sure if this was an error or if the vendor intended to represent the product as \"Jumbo\".</td>\n",
       "      <td>2012</td>\n",
       "      <td>9</td>\n",
       "      <td>0.0</td>\n",
       "      <td>0.0</td>\n",
       "      <td>-1.0</td>\n",
       "    </tr>\n",
       "    <tr>\n",
       "      <th>2</th>\n",
       "      <td>B000LQOCH0</td>\n",
       "      <td>ABXLMWJIXXAIN</td>\n",
       "      <td>Natalia Corres \"Natalia Corres\"</td>\n",
       "      <td>1/1</td>\n",
       "      <td>4.0</td>\n",
       "      <td>2008-08-18</td>\n",
       "      <td>\"Delight\" says it all</td>\n",
       "      <td>This is a confection that has been around a few centuries.  It is a light, pillowy citrus gelatin with nuts - in this case Filberts. And it is cut into tiny squares and then liberally coated with powdered sugar.  And it is a tiny mouthful of heaven.  Not too chewy, and very flavorful.  I highly recommend this yummy treat.  If you are familiar with the story of C.S. Lewis' \"The Lion, The Witch, and The Wardrobe\" - this is the treat that seduces Edmund into selling out his Brother and Sisters to the Witch.</td>\n",
       "      <td>2008</td>\n",
       "      <td>8</td>\n",
       "      <td>1.0</td>\n",
       "      <td>1.0</td>\n",
       "      <td>1.0</td>\n",
       "    </tr>\n",
       "    <tr>\n",
       "      <th>3</th>\n",
       "      <td>B000UA0QIQ</td>\n",
       "      <td>A395BORC6FGVXV</td>\n",
       "      <td>Karl</td>\n",
       "      <td>3/3</td>\n",
       "      <td>2.0</td>\n",
       "      <td>2011-06-13</td>\n",
       "      <td>Cough Medicine</td>\n",
       "      <td>If you are looking for the secret ingredient in Robitussin I believe I have found it.  I got this in addition to the Root Beer Extract I ordered (which was good) and made some cherry soda.  The flavor is very medicinal.</td>\n",
       "      <td>2011</td>\n",
       "      <td>6</td>\n",
       "      <td>3.0</td>\n",
       "      <td>3.0</td>\n",
       "      <td>1.0</td>\n",
       "    </tr>\n",
       "    <tr>\n",
       "      <th>4</th>\n",
       "      <td>B006K2ZZ7K</td>\n",
       "      <td>A1UQRSCLF8GW1T</td>\n",
       "      <td>Michael D. Bigham \"M. Wassir\"</td>\n",
       "      <td>0/0</td>\n",
       "      <td>5.0</td>\n",
       "      <td>2012-10-21</td>\n",
       "      <td>Great taffy</td>\n",
       "      <td>Great taffy at a great price.  There was a wide assortment of yummy taffy.  Delivery was very quick.  If your a taffy lover, this is a deal.</td>\n",
       "      <td>2012</td>\n",
       "      <td>10</td>\n",
       "      <td>0.0</td>\n",
       "      <td>0.0</td>\n",
       "      <td>-1.0</td>\n",
       "    </tr>\n",
       "  </tbody>\n",
       "</table>\n",
       "</div>"
      ],
      "text/plain": [
       "    productid          userid                         username helpfulness  \\\n",
       "0  B001E4KFG0  A3SGXH7AUHU8GW  delmartian                       1/1          \n",
       "1  B00813GRG4  A1D87F6ZCVE5NK  dll pa                           0/0          \n",
       "2  B000LQOCH0  ABXLMWJIXXAIN   Natalia Corres \"Natalia Corres\"  1/1          \n",
       "3  B000UA0QIQ  A395BORC6FGVXV  Karl                             3/3          \n",
       "4  B006K2ZZ7K  A1UQRSCLF8GW1T  Michael D. Bigham \"M. Wassir\"    0/0          \n",
       "\n",
       "   rating       time                summary  \\\n",
       "0  5.0    2011-04-27  Good Quality Dog Food   \n",
       "1  1.0    2012-09-07  Not as Advertised       \n",
       "2  4.0    2008-08-18  \"Delight\" says it all   \n",
       "3  2.0    2011-06-13  Cough Medicine          \n",
       "4  5.0    2012-10-21  Great taffy             \n",
       "\n",
       "                                                                                                                                                                                                                                                                                                                                                                                                                                                                                                                            text  \\\n",
       "0  I have bought several of the Vitality canned dog food products and have found them all to be of good quality. The product looks more like a stew than a processed meat and it smells better. My Labrador is finicky and she appreciates this product better than  most.                                                                                                                                                                                                                                                         \n",
       "1  Product arrived labeled as Jumbo Salted Peanuts...the peanuts were actually small sized unsalted. Not sure if this was an error or if the vendor intended to represent the product as \"Jumbo\".                                                                                                                                                                                                                                                                                                                                  \n",
       "2  This is a confection that has been around a few centuries.  It is a light, pillowy citrus gelatin with nuts - in this case Filberts. And it is cut into tiny squares and then liberally coated with powdered sugar.  And it is a tiny mouthful of heaven.  Not too chewy, and very flavorful.  I highly recommend this yummy treat.  If you are familiar with the story of C.S. Lewis' \"The Lion, The Witch, and The Wardrobe\" - this is the treat that seduces Edmund into selling out his Brother and Sisters to the Witch.   \n",
       "3  If you are looking for the secret ingredient in Robitussin I believe I have found it.  I got this in addition to the Root Beer Extract I ordered (which was good) and made some cherry soda.  The flavor is very medicinal.                                                                                                                                                                                                                                                                                                     \n",
       "4  Great taffy at a great price.  There was a wide assortment of yummy taffy.  Delivery was very quick.  If your a taffy lover, this is a deal.                                                                                                                                                                                                                                                                                                                                                                                    \n",
       "\n",
       "   year  month  helpful_upvotes  helpful_responses  helpfulness_score  \n",
       "0  2011  4      1.0              1.0                1.0                \n",
       "1  2012  9      0.0              0.0               -1.0                \n",
       "2  2008  8      1.0              1.0                1.0                \n",
       "3  2011  6      3.0              3.0                1.0                \n",
       "4  2012  10     0.0              0.0               -1.0                "
      ]
     },
     "execution_count": 11,
     "metadata": {},
     "output_type": "execute_result"
    }
   ],
   "source": [
    "food_reviews.helpfulness_score[food_reviews['helpful_responses'] == 0] = -1\n",
    "food_reviews.head()"
   ]
  },
  {
   "cell_type": "markdown",
   "metadata": {
    "_uuid": "b795a5d58c739e108ea65b92616d6fa9c0794a7e"
   },
   "source": [
    "#### Create extended review text"
   ]
  },
  {
   "cell_type": "code",
   "execution_count": 12,
   "metadata": {
    "_uuid": "0f4cd48ba4e4853698331f2d3f911065fdfe9adf"
   },
   "outputs": [],
   "source": [
    "# create extended text column\n",
    "food_reviews['text_ext'] = food_reviews['summary'] + ' ' + food_reviews['text']"
   ]
  },
  {
   "cell_type": "code",
   "execution_count": 13,
   "metadata": {
    "_uuid": "d9591d4cabe164def87495c6bca43f2c48048295"
   },
   "outputs": [],
   "source": [
    "food_reviews_eda = food_reviews.copy() # store in another df for eda below which requires rating 3"
   ]
  },
  {
   "cell_type": "markdown",
   "metadata": {
    "_uuid": "d1b584fdc033b7cd3fca77043fdcf10138f464cb"
   },
   "source": [
    "#### Remove of neutral reviews"
   ]
  },
  {
   "cell_type": "code",
   "execution_count": 43,
   "metadata": {
    "_uuid": "58e8a20ae1f2e9e8a745d61f6d2a6724b538382d"
   },
   "outputs": [
    {
     "data": {
      "text/plain": [
       "5.0    363106\n",
       "4.0    80653 \n",
       "1.0    52264 \n",
       "2.0    29767 \n",
       "Name: rating, dtype: int64"
      ]
     },
     "execution_count": 43,
     "metadata": {},
     "output_type": "execute_result"
    }
   ],
   "source": [
    "food_reviews = food_reviews[~(food_reviews['rating'] == 3.0)]\n",
    "food_reviews['rating'].value_counts()"
   ]
  },
  {
   "cell_type": "markdown",
   "metadata": {
    "_uuid": "92daa6a28993675d888e75d60a41046f30497af3"
   },
   "source": [
    "#### Classification of positive and negative reviews                        \n",
    "\n",
    "Giving scores of 4 and above a 1 and a 0 to 2 and below"
   ]
  },
  {
   "cell_type": "code",
   "execution_count": 14,
   "metadata": {
    "_uuid": "cffc88afde7e9b2cf086ea813ca2e893de729417"
   },
   "outputs": [],
   "source": [
    "food_reviews['sentiment'] = food_reviews['rating'].apply(lambda x: 0 if x == 1 or x == 2 else 1)"
   ]
  },
  {
   "cell_type": "code",
   "execution_count": 15,
   "metadata": {},
   "outputs": [
    {
     "data": {
      "text/plain": [
       "Index(['productid', 'userid', 'username', 'helpfulness', 'rating', 'time',\n",
       "       'summary', 'text', 'year', 'month', 'helpful_upvotes',\n",
       "       'helpful_responses', 'helpfulness_score', 'text_ext', 'sentiment'],\n",
       "      dtype='object')"
      ]
     },
     "execution_count": 15,
     "metadata": {},
     "output_type": "execute_result"
    }
   ],
   "source": [
    "food_reviews.columns"
   ]
  },
  {
   "cell_type": "code",
   "execution_count": 16,
   "metadata": {
    "_uuid": "8acb4bb1ed887598136245966649524a0a7a15bb"
   },
   "outputs": [],
   "source": [
    "# reorder columns\n",
    "food_reviews.drop(columns=['helpfulness'])\n",
    "columnsTitles = ['productid', 'userid', 'username', 'time' ,'year','month','helpful_upvotes',\n",
    "                 'helpful_responses','helpfulness_score','rating','sentiment','text_ext','summary','text']\n",
    "food_reviews = food_reviews.reindex(columns=columnsTitles)"
   ]
  },
  {
   "cell_type": "markdown",
   "metadata": {
    "_uuid": "0820643772fd5078940099d66d2b2dca53b77c79"
   },
   "source": [
    "#### Final dataframe"
   ]
  },
  {
   "cell_type": "code",
   "execution_count": 47,
   "metadata": {
    "_uuid": "925a77296be5e011c39ccfc4a166c81498a88d85"
   },
   "outputs": [
    {
     "data": {
      "text/html": [
       "<div>\n",
       "<style scoped>\n",
       "    .dataframe tbody tr th:only-of-type {\n",
       "        vertical-align: middle;\n",
       "    }\n",
       "\n",
       "    .dataframe tbody tr th {\n",
       "        vertical-align: top;\n",
       "    }\n",
       "\n",
       "    .dataframe thead th {\n",
       "        text-align: right;\n",
       "    }\n",
       "</style>\n",
       "<table border=\"1\" class=\"dataframe\">\n",
       "  <thead>\n",
       "    <tr style=\"text-align: right;\">\n",
       "      <th></th>\n",
       "      <th>productid</th>\n",
       "      <th>userid</th>\n",
       "      <th>username</th>\n",
       "      <th>time</th>\n",
       "      <th>year</th>\n",
       "      <th>month</th>\n",
       "      <th>helpful_upvotes</th>\n",
       "      <th>helpful_responses</th>\n",
       "      <th>helpfulness_score</th>\n",
       "      <th>rating</th>\n",
       "      <th>sentiment</th>\n",
       "      <th>text_ext</th>\n",
       "      <th>summary</th>\n",
       "      <th>text</th>\n",
       "    </tr>\n",
       "  </thead>\n",
       "  <tbody>\n",
       "    <tr>\n",
       "      <th>0</th>\n",
       "      <td>B001E4KFG0</td>\n",
       "      <td>A3SGXH7AUHU8GW</td>\n",
       "      <td>delmartian</td>\n",
       "      <td>2011-04-27</td>\n",
       "      <td>2011</td>\n",
       "      <td>4</td>\n",
       "      <td>1.0</td>\n",
       "      <td>1.0</td>\n",
       "      <td>1.0</td>\n",
       "      <td>5.0</td>\n",
       "      <td>1</td>\n",
       "      <td>Good Quality Dog Food I have bought several of the Vitality canned dog food products and have found them all to be of good quality. The product looks more like a stew than a processed meat and it smells better. My Labrador is finicky and she appreciates this product better than  most.</td>\n",
       "      <td>Good Quality Dog Food</td>\n",
       "      <td>I have bought several of the Vitality canned dog food products and have found them all to be of good quality. The product looks more like a stew than a processed meat and it smells better. My Labrador is finicky and she appreciates this product better than  most.</td>\n",
       "    </tr>\n",
       "    <tr>\n",
       "      <th>1</th>\n",
       "      <td>B00813GRG4</td>\n",
       "      <td>A1D87F6ZCVE5NK</td>\n",
       "      <td>dll pa</td>\n",
       "      <td>2012-09-07</td>\n",
       "      <td>2012</td>\n",
       "      <td>9</td>\n",
       "      <td>0.0</td>\n",
       "      <td>0.0</td>\n",
       "      <td>-1.0</td>\n",
       "      <td>1.0</td>\n",
       "      <td>0</td>\n",
       "      <td>Not as Advertised Product arrived labeled as Jumbo Salted Peanuts...the peanuts were actually small sized unsalted. Not sure if this was an error or if the vendor intended to represent the product as \"Jumbo\".</td>\n",
       "      <td>Not as Advertised</td>\n",
       "      <td>Product arrived labeled as Jumbo Salted Peanuts...the peanuts were actually small sized unsalted. Not sure if this was an error or if the vendor intended to represent the product as \"Jumbo\".</td>\n",
       "    </tr>\n",
       "    <tr>\n",
       "      <th>2</th>\n",
       "      <td>B000LQOCH0</td>\n",
       "      <td>ABXLMWJIXXAIN</td>\n",
       "      <td>Natalia Corres \"Natalia Corres\"</td>\n",
       "      <td>2008-08-18</td>\n",
       "      <td>2008</td>\n",
       "      <td>8</td>\n",
       "      <td>1.0</td>\n",
       "      <td>1.0</td>\n",
       "      <td>1.0</td>\n",
       "      <td>4.0</td>\n",
       "      <td>1</td>\n",
       "      <td>\"Delight\" says it all This is a confection that has been around a few centuries.  It is a light, pillowy citrus gelatin with nuts - in this case Filberts. And it is cut into tiny squares and then liberally coated with powdered sugar.  And it is a tiny mouthful of heaven.  Not too chewy, and very flavorful.  I highly recommend this yummy treat.  If you are familiar with the story of C.S. Lewis' \"The Lion, The Witch, and The Wardrobe\" - this is the treat that seduces Edmund into selling out his Brother and Sisters to the Witch.</td>\n",
       "      <td>\"Delight\" says it all</td>\n",
       "      <td>This is a confection that has been around a few centuries.  It is a light, pillowy citrus gelatin with nuts - in this case Filberts. And it is cut into tiny squares and then liberally coated with powdered sugar.  And it is a tiny mouthful of heaven.  Not too chewy, and very flavorful.  I highly recommend this yummy treat.  If you are familiar with the story of C.S. Lewis' \"The Lion, The Witch, and The Wardrobe\" - this is the treat that seduces Edmund into selling out his Brother and Sisters to the Witch.</td>\n",
       "    </tr>\n",
       "    <tr>\n",
       "      <th>3</th>\n",
       "      <td>B000UA0QIQ</td>\n",
       "      <td>A395BORC6FGVXV</td>\n",
       "      <td>Karl</td>\n",
       "      <td>2011-06-13</td>\n",
       "      <td>2011</td>\n",
       "      <td>6</td>\n",
       "      <td>3.0</td>\n",
       "      <td>3.0</td>\n",
       "      <td>1.0</td>\n",
       "      <td>2.0</td>\n",
       "      <td>0</td>\n",
       "      <td>Cough Medicine If you are looking for the secret ingredient in Robitussin I believe I have found it.  I got this in addition to the Root Beer Extract I ordered (which was good) and made some cherry soda.  The flavor is very medicinal.</td>\n",
       "      <td>Cough Medicine</td>\n",
       "      <td>If you are looking for the secret ingredient in Robitussin I believe I have found it.  I got this in addition to the Root Beer Extract I ordered (which was good) and made some cherry soda.  The flavor is very medicinal.</td>\n",
       "    </tr>\n",
       "    <tr>\n",
       "      <th>4</th>\n",
       "      <td>B006K2ZZ7K</td>\n",
       "      <td>A1UQRSCLF8GW1T</td>\n",
       "      <td>Michael D. Bigham \"M. Wassir\"</td>\n",
       "      <td>2012-10-21</td>\n",
       "      <td>2012</td>\n",
       "      <td>10</td>\n",
       "      <td>0.0</td>\n",
       "      <td>0.0</td>\n",
       "      <td>-1.0</td>\n",
       "      <td>5.0</td>\n",
       "      <td>1</td>\n",
       "      <td>Great taffy Great taffy at a great price.  There was a wide assortment of yummy taffy.  Delivery was very quick.  If your a taffy lover, this is a deal.</td>\n",
       "      <td>Great taffy</td>\n",
       "      <td>Great taffy at a great price.  There was a wide assortment of yummy taffy.  Delivery was very quick.  If your a taffy lover, this is a deal.</td>\n",
       "    </tr>\n",
       "  </tbody>\n",
       "</table>\n",
       "</div>"
      ],
      "text/plain": [
       "    productid          userid                         username       time  \\\n",
       "0  B001E4KFG0  A3SGXH7AUHU8GW  delmartian                      2011-04-27   \n",
       "1  B00813GRG4  A1D87F6ZCVE5NK  dll pa                          2012-09-07   \n",
       "2  B000LQOCH0  ABXLMWJIXXAIN   Natalia Corres \"Natalia Corres\" 2008-08-18   \n",
       "3  B000UA0QIQ  A395BORC6FGVXV  Karl                            2011-06-13   \n",
       "4  B006K2ZZ7K  A1UQRSCLF8GW1T  Michael D. Bigham \"M. Wassir\"   2012-10-21   \n",
       "\n",
       "   year  month  helpful_upvotes  helpful_responses  helpfulness_score  rating  \\\n",
       "0  2011  4      1.0              1.0                1.0                5.0      \n",
       "1  2012  9      0.0              0.0               -1.0                1.0      \n",
       "2  2008  8      1.0              1.0                1.0                4.0      \n",
       "3  2011  6      3.0              3.0                1.0                2.0      \n",
       "4  2012  10     0.0              0.0               -1.0                5.0      \n",
       "\n",
       "   sentiment  \\\n",
       "0  1           \n",
       "1  0           \n",
       "2  1           \n",
       "3  0           \n",
       "4  1           \n",
       "\n",
       "                                                                                                                                                                                                                                                                                                                                                                                                                                                                                                                                              text_ext  \\\n",
       "0  Good Quality Dog Food I have bought several of the Vitality canned dog food products and have found them all to be of good quality. The product looks more like a stew than a processed meat and it smells better. My Labrador is finicky and she appreciates this product better than  most.                                                                                                                                                                                                                                                         \n",
       "1  Not as Advertised Product arrived labeled as Jumbo Salted Peanuts...the peanuts were actually small sized unsalted. Not sure if this was an error or if the vendor intended to represent the product as \"Jumbo\".                                                                                                                                                                                                                                                                                                                                      \n",
       "2  \"Delight\" says it all This is a confection that has been around a few centuries.  It is a light, pillowy citrus gelatin with nuts - in this case Filberts. And it is cut into tiny squares and then liberally coated with powdered sugar.  And it is a tiny mouthful of heaven.  Not too chewy, and very flavorful.  I highly recommend this yummy treat.  If you are familiar with the story of C.S. Lewis' \"The Lion, The Witch, and The Wardrobe\" - this is the treat that seduces Edmund into selling out his Brother and Sisters to the Witch.   \n",
       "3  Cough Medicine If you are looking for the secret ingredient in Robitussin I believe I have found it.  I got this in addition to the Root Beer Extract I ordered (which was good) and made some cherry soda.  The flavor is very medicinal.                                                                                                                                                                                                                                                                                                            \n",
       "4  Great taffy Great taffy at a great price.  There was a wide assortment of yummy taffy.  Delivery was very quick.  If your a taffy lover, this is a deal.                                                                                                                                                                                                                                                                                                                                                                                              \n",
       "\n",
       "                 summary  \\\n",
       "0  Good Quality Dog Food   \n",
       "1  Not as Advertised       \n",
       "2  \"Delight\" says it all   \n",
       "3  Cough Medicine          \n",
       "4  Great taffy             \n",
       "\n",
       "                                                                                                                                                                                                                                                                                                                                                                                                                                                                                                                            text  \n",
       "0  I have bought several of the Vitality canned dog food products and have found them all to be of good quality. The product looks more like a stew than a processed meat and it smells better. My Labrador is finicky and she appreciates this product better than  most.                                                                                                                                                                                                                                                        \n",
       "1  Product arrived labeled as Jumbo Salted Peanuts...the peanuts were actually small sized unsalted. Not sure if this was an error or if the vendor intended to represent the product as \"Jumbo\".                                                                                                                                                                                                                                                                                                                                 \n",
       "2  This is a confection that has been around a few centuries.  It is a light, pillowy citrus gelatin with nuts - in this case Filberts. And it is cut into tiny squares and then liberally coated with powdered sugar.  And it is a tiny mouthful of heaven.  Not too chewy, and very flavorful.  I highly recommend this yummy treat.  If you are familiar with the story of C.S. Lewis' \"The Lion, The Witch, and The Wardrobe\" - this is the treat that seduces Edmund into selling out his Brother and Sisters to the Witch.  \n",
       "3  If you are looking for the secret ingredient in Robitussin I believe I have found it.  I got this in addition to the Root Beer Extract I ordered (which was good) and made some cherry soda.  The flavor is very medicinal.                                                                                                                                                                                                                                                                                                    \n",
       "4  Great taffy at a great price.  There was a wide assortment of yummy taffy.  Delivery was very quick.  If your a taffy lover, this is a deal.                                                                                                                                                                                                                                                                                                                                                                                   "
      ]
     },
     "execution_count": 47,
     "metadata": {},
     "output_type": "execute_result"
    }
   ],
   "source": [
    "food_reviews.head(5)"
   ]
  },
  {
   "cell_type": "code",
   "execution_count": 257,
   "metadata": {},
   "outputs": [
    {
     "data": {
      "text/plain": [
       "Index(['productid', 'userid', 'username', 'time', 'year', 'month',\n",
       "       'helpful_upvotes', 'helpful_responses', 'helpfulness_score', 'rating',\n",
       "       'sentiment', 'text_ext', 'summary', 'text', 'review_tokens'],\n",
       "      dtype='object')"
      ]
     },
     "execution_count": 257,
     "metadata": {},
     "output_type": "execute_result"
    }
   ],
   "source": [
    "food_reviews.columns"
   ]
  },
  {
   "cell_type": "code",
   "execution_count": 17,
   "metadata": {},
   "outputs": [],
   "source": [
    "food_reviews.iloc[:,0:len(food_reviews.columns) - 1].to_csv('EDA.csv', sep=',')"
   ]
  },
  {
   "cell_type": "markdown",
   "metadata": {
    "_uuid": "e2a79b7005c2d2bed054c43e451c91fdf5d17528"
   },
   "source": [
    "## Text processing"
   ]
  },
  {
   "cell_type": "markdown",
   "metadata": {
    "_uuid": "31654fcc5d3d71a4a742fdfba9b4ef42a8f6ff91"
   },
   "source": [
    "#### Tokenize the words after converting the text to lower case"
   ]
  },
  {
   "cell_type": "code",
   "execution_count": 48,
   "metadata": {
    "_uuid": "268d8f694d4c8b22c4a5ad7d2dae7e84d24e0c96"
   },
   "outputs": [
    {
     "name": "stderr",
     "output_type": "stream",
     "text": [
      "C:\\ProgramData\\Anaconda3\\lib\\site-packages\\gensim\\utils.py:1212: UserWarning: detected Windows; aliasing chunkize to chunkize_serial\n",
      "  warnings.warn(\"detected Windows; aliasing chunkize to chunkize_serial\")\n"
     ]
    }
   ],
   "source": [
    "from nltk.tokenize import word_tokenize\n",
    "from gensim.models import Word2Vec\n",
    "import nltk\n",
    "#nltk.download('punkt')"
   ]
  },
  {
   "cell_type": "code",
   "execution_count": null,
   "metadata": {
    "_uuid": "93021761e7f5266f9844af0c3d638cc3532cde74"
   },
   "outputs": [],
   "source": [
    "food_reviews['review_tokens'] = food_reviews.text.str.lower().apply(lambda x: word_tokenize(x))\n",
    "#food_reviews['review_tokens'] = food_reviews.text_ext.str.lower().apply(lambda x: word_tokenize(x)) # use this..."
   ]
  },
  {
   "cell_type": "markdown",
   "metadata": {
    "_uuid": "1a32982a4c7372a22d4f6f2d3215c1fabc1b38a7"
   },
   "source": [
    "#### Remove stop words, stemming, and punctuations. "
   ]
  },
  {
   "cell_type": "code",
   "execution_count": null,
   "metadata": {
    "_uuid": "7dde3992b851a3d83c3c33cc7eca3e3119b20645"
   },
   "outputs": [],
   "source": [
    "from nltk.stem import PorterStemmer\n",
    "from nltk.corpus import stopwords\n",
    "# nltk.download()"
   ]
  },
  {
   "cell_type": "code",
   "execution_count": null,
   "metadata": {
    "_uuid": "89c61f638bc26af3aa489a27d881ecdba02ec359"
   },
   "outputs": [],
   "source": [
    "stemmer = PorterStemmer()\n",
    "food_reviews['review_tokens'] = food_reviews['review_tokens'].apply(lambda x: [stemmer.stem(words) for words in x])"
   ]
  },
  {
   "cell_type": "code",
   "execution_count": null,
   "metadata": {
    "_uuid": "3d2f7453c5f92351c7e4e244ee48fa70678f25af"
   },
   "outputs": [],
   "source": [
    "def remove_punctuations_and_stopwords(x):\n",
    "    y = []\n",
    "    stop_words = set(stopwords.words('english'))\n",
    "    for i in range(len(x)):\n",
    "        if x[i].isalnum() and x[i] not in stop_words:\n",
    "            y.extend([x[i]])\n",
    "    return y        "
   ]
  },
  {
   "cell_type": "code",
   "execution_count": null,
   "metadata": {
    "_uuid": "7df5a26b2565cebc5103dda47876efe06565657a"
   },
   "outputs": [],
   "source": [
    "food_reviews['review_tokens'] = food_reviews['review_tokens'].apply(remove_punctuations_and_stopwords)"
   ]
  },
  {
   "cell_type": "markdown",
   "metadata": {
    "_uuid": "883f6c4da3b5c4868d75dabf156a59e90e9056fd"
   },
   "source": [
    "### Saving word2vec model. Use it load in the future."
   ]
  },
  {
   "cell_type": "code",
   "execution_count": null,
   "metadata": {
    "_uuid": "86d3ad0ec3c8eab60c1272d31c14a1c57cb59a1a"
   },
   "outputs": [],
   "source": [
    "model = Word2Vec(food_reviews.review_tokens, size=100, window=5, min_count=1, workers=4)\n",
    "model.save(\"word2vec_binary.model\")"
   ]
  },
  {
   "cell_type": "code",
   "execution_count": null,
   "metadata": {
    "_uuid": "8aa96a8050ef1a684722e82de7cf2ca3bc243733"
   },
   "outputs": [],
   "source": [
    "food_reviews['review_tokens']"
   ]
  },
  {
   "cell_type": "code",
   "execution_count": null,
   "metadata": {
    "_uuid": "a0c6e38618f6b588a52ee8b3660c454092e7da0a"
   },
   "outputs": [],
   "source": [
    "pd.DataFrame(model[food_reviews.review_tokens[0]])"
   ]
  },
  {
   "cell_type": "markdown",
   "metadata": {},
   "source": [
    "## Model Building"
   ]
  },
  {
   "cell_type": "code",
   "execution_count": null,
   "metadata": {
    "_uuid": "9a92f89eed253e371cc24afbb32e2d15c9ee4480"
   },
   "outputs": [],
   "source": [
    "def get_mean(x):\n",
    "    # Gets the mean of the sentence so that the sentence is represented in the 100-d space\n",
    "    x = pd.DataFrame(x)\n",
    "    return x.mean()\n",
    "\n",
    "def get_sum(x):\n",
    "    # Gets the sum of the sentence so that the sentence is represented in the 100-d space\n",
    "    x = pd.DataFrame(x)\n",
    "    return x.sum()\n",
    "    "
   ]
  },
  {
   "cell_type": "code",
   "execution_count": null,
   "metadata": {
    "_uuid": "7343eefb3af654ae5fd7233d7f8209c1058a758b"
   },
   "outputs": [],
   "source": [
    "food_reviews.index = range(food_reviews.shape[0]) "
   ]
  },
  {
   "cell_type": "code",
   "execution_count": null,
   "metadata": {
    "_uuid": "7658ff34089af55151c910cf917cbb5f4ea53335"
   },
   "outputs": [],
   "source": [
    "df_model_avg = []\n",
    "for i in range(0, len(food_reviews)):\n",
    "    df_model_avg.append(get_mean(model[food_reviews.review_tokens[i]]))\n",
    "    \n",
    "df_model_avg = pd.DataFrame(df_model_avg)    "
   ]
  },
  {
   "cell_type": "code",
   "execution_count": null,
   "metadata": {
    "_uuid": "e078d9fa657cbf98fdda1c499c965a6c3a923dd3"
   },
   "outputs": [],
   "source": [
    "df_model_sum = []\n",
    "for i in range(0, len(food_reviews)):\n",
    "    df_model_sum.append(get_sum(model[food_reviews.review_tokens[i]]))\n",
    "    \n",
    "df_model_sum = pd.DataFrame(df_model_sum)    "
   ]
  },
  {
   "cell_type": "markdown",
   "metadata": {
    "_uuid": "1f45dc938738ee478cf685595afd4fbb047e03c8"
   },
   "source": [
    "### Performing logistic regression and cross- validation to get the sentiment"
   ]
  },
  {
   "cell_type": "code",
   "execution_count": null,
   "metadata": {
    "_uuid": "334b2d757dbc9485bf2b260276c00ae8558670ef"
   },
   "outputs": [],
   "source": [
    "from sklearn.linear_model import LogisticRegression\n",
    "from sklearn import metrics\n",
    "from sklearn import cross_validation"
   ]
  },
  {
   "cell_type": "code",
   "execution_count": null,
   "metadata": {
    "_uuid": "bb5d38610b64fd0b5ac8071ae5c5055c3c573970"
   },
   "outputs": [],
   "source": [
    "predicted = cross_validation.cross_val_predict(LogisticRegression(), df_model_avg, food_reviews['sentiment'], cv=10)\n",
    "print(metrics.accuracy_score(food_reviews['sentiment'], predicted))"
   ]
  },
  {
   "cell_type": "markdown",
   "metadata": {
    "_uuid": "049b3c48b227f97946b93d4bd94ad29165dfbe1b"
   },
   "source": [
    "Accuracy of this is 90.6%"
   ]
  },
  {
   "cell_type": "code",
   "execution_count": null,
   "metadata": {
    "_uuid": "330463d0148bccea6fd8f1cf5a4275cc2aa3cad9"
   },
   "outputs": [],
   "source": [
    "predicted = cross_validation.cross_val_predict(LogisticRegression(), df_model_sum, food_reviews['sentiment'], cv=10)\n",
    "print(metrics.accuracy_score(food_reviews['sentiment'], predicted))"
   ]
  },
  {
   "cell_type": "markdown",
   "metadata": {
    "_uuid": "e7043bf87af9dcd13c710e68dfd0605db59fb4f3"
   },
   "source": [
    "Accuracy of this is 90.18%. It decreased very slightly. Going with the mean model only"
   ]
  },
  {
   "cell_type": "markdown",
   "metadata": {},
   "source": [
    "### Implementing the same on extended review"
   ]
  },
  {
   "cell_type": "code",
   "execution_count": 50,
   "metadata": {
    "_uuid": "93021761e7f5266f9844af0c3d638cc3532cde74"
   },
   "outputs": [],
   "source": [
    "food_reviews['review_tokens'] = food_reviews['text_ext'].str.lower().apply(lambda x: word_tokenize(x))"
   ]
  },
  {
   "cell_type": "markdown",
   "metadata": {
    "_uuid": "1a32982a4c7372a22d4f6f2d3215c1fabc1b38a7"
   },
   "source": [
    "#### Remove stop words, stemming, and punctuations. "
   ]
  },
  {
   "cell_type": "code",
   "execution_count": 51,
   "metadata": {
    "_uuid": "7dde3992b851a3d83c3c33cc7eca3e3119b20645"
   },
   "outputs": [],
   "source": [
    "from nltk.stem import PorterStemmer\n",
    "from nltk.corpus import stopwords\n",
    "# nltk.download()"
   ]
  },
  {
   "cell_type": "code",
   "execution_count": 52,
   "metadata": {
    "_uuid": "89c61f638bc26af3aa489a27d881ecdba02ec359"
   },
   "outputs": [],
   "source": [
    "stemmer = PorterStemmer()\n",
    "food_reviews['review_tokens'] = food_reviews['review_tokens'].apply(lambda x: [stemmer.stem(words) for words in x])"
   ]
  },
  {
   "cell_type": "code",
   "execution_count": 53,
   "metadata": {
    "_uuid": "3d2f7453c5f92351c7e4e244ee48fa70678f25af"
   },
   "outputs": [],
   "source": [
    "def remove_punctuations_and_stopwords(x):\n",
    "    y = []\n",
    "    stop_words = set(stopwords.words('english'))\n",
    "    for i in range(len(x)):\n",
    "        if x[i].isalnum() and x[i] not in stop_words:\n",
    "            y.extend([x[i]])\n",
    "    return y        "
   ]
  },
  {
   "cell_type": "code",
   "execution_count": 54,
   "metadata": {
    "_uuid": "7df5a26b2565cebc5103dda47876efe06565657a"
   },
   "outputs": [],
   "source": [
    "food_reviews['review_tokens'] = food_reviews['review_tokens'].apply(remove_punctuations_and_stopwords)"
   ]
  },
  {
   "cell_type": "markdown",
   "metadata": {
    "_uuid": "883f6c4da3b5c4868d75dabf156a59e90e9056fd"
   },
   "source": [
    "### Saving word2vec model. Use it load in the future."
   ]
  },
  {
   "cell_type": "code",
   "execution_count": 55,
   "metadata": {
    "_uuid": "86d3ad0ec3c8eab60c1272d31c14a1c57cb59a1a"
   },
   "outputs": [],
   "source": [
    "model = Word2Vec(food_reviews.review_tokens, size=100, window=5, min_count=1, workers=4)\n",
    "model.save(\"word2vec_binary_ext.model\")"
   ]
  },
  {
   "cell_type": "code",
   "execution_count": 56,
   "metadata": {
    "_uuid": "9a92f89eed253e371cc24afbb32e2d15c9ee4480"
   },
   "outputs": [],
   "source": [
    "def get_mean(x):\n",
    "    # Gets the mean of the sentence so that the sentence is represented in the 100-d space\n",
    "    x = pd.DataFrame(x)\n",
    "    return x.mean()\n",
    "\n",
    "def get_sum(x):\n",
    "    # Gets the sum of the sentence so that the sentence is represented in the 100-d space\n",
    "    x = pd.DataFrame(x)\n",
    "    return x.sum()\n",
    "    "
   ]
  },
  {
   "cell_type": "code",
   "execution_count": 57,
   "metadata": {
    "_uuid": "7343eefb3af654ae5fd7233d7f8209c1058a758b"
   },
   "outputs": [],
   "source": [
    "food_reviews.index = range(food_reviews.shape[0]) "
   ]
  },
  {
   "cell_type": "code",
   "execution_count": 58,
   "metadata": {
    "_uuid": "7658ff34089af55151c910cf917cbb5f4ea53335"
   },
   "outputs": [
    {
     "name": "stderr",
     "output_type": "stream",
     "text": [
      "C:\\ProgramData\\Anaconda3\\lib\\site-packages\\ipykernel_launcher.py:3: DeprecationWarning: Call to deprecated `__getitem__` (Method will be removed in 4.0.0, use self.wv.__getitem__() instead).\n",
      "  This is separate from the ipykernel package so we can avoid doing imports until\n"
     ]
    }
   ],
   "source": [
    "df_model_avg = []\n",
    "for i in range(0, len(food_reviews)):\n",
    "    df_model_avg.append(get_mean(model[food_reviews.review_tokens[i]]))\n",
    "    \n",
    "df_model_avg = pd.DataFrame(df_model_avg)    "
   ]
  },
  {
   "cell_type": "code",
   "execution_count": 59,
   "metadata": {
    "_uuid": "e078d9fa657cbf98fdda1c499c965a6c3a923dd3"
   },
   "outputs": [
    {
     "name": "stderr",
     "output_type": "stream",
     "text": [
      "C:\\ProgramData\\Anaconda3\\lib\\site-packages\\ipykernel_launcher.py:3: DeprecationWarning: Call to deprecated `__getitem__` (Method will be removed in 4.0.0, use self.wv.__getitem__() instead).\n",
      "  This is separate from the ipykernel package so we can avoid doing imports until\n"
     ]
    }
   ],
   "source": [
    "df_model_sum = []\n",
    "for i in range(0, len(food_reviews)):\n",
    "    df_model_sum.append(get_sum(model[food_reviews.review_tokens[i]]))\n",
    "    \n",
    "df_model_sum = pd.DataFrame(df_model_sum)    "
   ]
  },
  {
   "cell_type": "markdown",
   "metadata": {
    "_uuid": "1f45dc938738ee478cf685595afd4fbb047e03c8"
   },
   "source": [
    "### Performing logistic regression and cross- validation to get the sentiment"
   ]
  },
  {
   "cell_type": "code",
   "execution_count": 60,
   "metadata": {
    "_uuid": "334b2d757dbc9485bf2b260276c00ae8558670ef"
   },
   "outputs": [
    {
     "name": "stderr",
     "output_type": "stream",
     "text": [
      "C:\\ProgramData\\Anaconda3\\lib\\site-packages\\sklearn\\cross_validation.py:41: DeprecationWarning: This module was deprecated in version 0.18 in favor of the model_selection module into which all the refactored classes and functions are moved. Also note that the interface of the new CV iterators are different from that of this module. This module will be removed in 0.20.\n",
      "  \"This module will be removed in 0.20.\", DeprecationWarning)\n"
     ]
    }
   ],
   "source": [
    "from sklearn.linear_model import LogisticRegression\n",
    "from sklearn import metrics\n",
    "from sklearn import cross_validation"
   ]
  },
  {
   "cell_type": "code",
   "execution_count": 61,
   "metadata": {
    "_uuid": "bb5d38610b64fd0b5ac8071ae5c5055c3c573970"
   },
   "outputs": [
    {
     "name": "stdout",
     "output_type": "stream",
     "text": [
      "0.9214153939785846\n"
     ]
    }
   ],
   "source": [
    "predicted = cross_validation.cross_val_predict(LogisticRegression(), df_model_avg, food_reviews['sentiment'], cv=10)\n",
    "print(metrics.accuracy_score(food_reviews['sentiment'], predicted))"
   ]
  },
  {
   "cell_type": "markdown",
   "metadata": {
    "_uuid": "049b3c48b227f97946b93d4bd94ad29165dfbe1b"
   },
   "source": [
    "Accuracy of this is 92.14%"
   ]
  },
  {
   "cell_type": "code",
   "execution_count": 62,
   "metadata": {
    "_uuid": "330463d0148bccea6fd8f1cf5a4275cc2aa3cad9"
   },
   "outputs": [
    {
     "name": "stdout",
     "output_type": "stream",
     "text": [
      "0.919192072880808\n"
     ]
    }
   ],
   "source": [
    "predicted = cross_validation.cross_val_predict(LogisticRegression(), df_model_sum, food_reviews['sentiment'], cv=10)\n",
    "print(metrics.accuracy_score(food_reviews['sentiment'], predicted))"
   ]
  },
  {
   "cell_type": "markdown",
   "metadata": {
    "_uuid": "e7043bf87af9dcd13c710e68dfd0605db59fb4f3"
   },
   "source": [
    "Accuracy of this is 91.91%. It decreased very slightly. Going with the mean model."
   ]
  },
  {
   "cell_type": "markdown",
   "metadata": {},
   "source": [
    "#### Hence, feature engineering- Making a new column with summary and text increased the accuracy. This is the best model till now."
   ]
  },
  {
   "cell_type": "markdown",
   "metadata": {},
   "source": [
    "#### Adding helphulness score as well"
   ]
  },
  {
   "cell_type": "code",
   "execution_count": 63,
   "metadata": {},
   "outputs": [
    {
     "name": "stdout",
     "output_type": "stream",
     "text": [
      "0.9215998782784002\n"
     ]
    }
   ],
   "source": [
    "predicted = cross_validation.cross_val_predict(LogisticRegression(), pd.concat([df_model_avg.reset_index(drop=True), food_reviews['helpfulness_score']], axis=1), food_reviews['sentiment'], cv=10)\n",
    "print(metrics.accuracy_score(food_reviews['sentiment'], predicted))"
   ]
  },
  {
   "cell_type": "code",
   "execution_count": 64,
   "metadata": {},
   "outputs": [],
   "source": [
    "word_2_vec_df = pd.concat([df_model_avg.reset_index(drop=True), food_reviews['helpfulness_score'], food_reviews['text_ext'].str.split().str.len()], axis=1)"
   ]
  },
  {
   "cell_type": "code",
   "execution_count": 65,
   "metadata": {},
   "outputs": [
    {
     "name": "stdout",
     "output_type": "stream",
     "text": [
      "0.9213621407786379\n"
     ]
    }
   ],
   "source": [
    "predicted = cross_validation.cross_val_predict(LogisticRegression(), word_2_vec_df, food_reviews['sentiment'], cv=10)\n",
    "print(metrics.accuracy_score(food_reviews['sentiment'], predicted))"
   ]
  },
  {
   "cell_type": "markdown",
   "metadata": {},
   "source": [
    "### Implementing bigrams"
   ]
  },
  {
   "cell_type": "code",
   "execution_count": 158,
   "metadata": {},
   "outputs": [],
   "source": [
    "from gensim.models.phrases import Phrases, Phraser"
   ]
  },
  {
   "cell_type": "code",
   "execution_count": 193,
   "metadata": {},
   "outputs": [],
   "source": [
    "bigram = Phrases(list(food_reviews['review_tokens']), min_count=1, threshold=2, delimiter=b' ')\n",
    "bigram_phraser = Phraser(bigram)\n",
    "food_reviews['review_tokens'] = bigram_phraser[list(food_reviews['review_tokens'])]"
   ]
  },
  {
   "cell_type": "markdown",
   "metadata": {
    "_uuid": "883f6c4da3b5c4868d75dabf156a59e90e9056fd"
   },
   "source": [
    "### Saving word2vec model. Use it load in the future."
   ]
  },
  {
   "cell_type": "code",
   "execution_count": 194,
   "metadata": {
    "_uuid": "86d3ad0ec3c8eab60c1272d31c14a1c57cb59a1a"
   },
   "outputs": [],
   "source": [
    "model = Word2Vec(food_reviews.review_tokens, size=100, window=5, min_count=1, workers=4)\n",
    "model.save(\"word2vec_binary_bigram.model\")"
   ]
  },
  {
   "cell_type": "code",
   "execution_count": 195,
   "metadata": {
    "_uuid": "9a92f89eed253e371cc24afbb32e2d15c9ee4480"
   },
   "outputs": [],
   "source": [
    "def get_mean(x):\n",
    "    # Gets the mean of the sentence so that the sentence is represented in the 100-d space\n",
    "    x = pd.DataFrame(x)\n",
    "    return x.mean()\n",
    "\n",
    "def get_sum(x):\n",
    "    # Gets the sum of the sentence so that the sentence is represented in the 100-d space\n",
    "    x = pd.DataFrame(x)\n",
    "    return x.sum()\n",
    "    "
   ]
  },
  {
   "cell_type": "code",
   "execution_count": 196,
   "metadata": {
    "_uuid": "7343eefb3af654ae5fd7233d7f8209c1058a758b"
   },
   "outputs": [],
   "source": [
    "food_reviews.index = range(food_reviews.shape[0]) "
   ]
  },
  {
   "cell_type": "code",
   "execution_count": 197,
   "metadata": {
    "_uuid": "7658ff34089af55151c910cf917cbb5f4ea53335"
   },
   "outputs": [
    {
     "name": "stderr",
     "output_type": "stream",
     "text": [
      "C:\\ProgramData\\Anaconda3\\lib\\site-packages\\ipykernel_launcher.py:3: DeprecationWarning: Call to deprecated `__getitem__` (Method will be removed in 4.0.0, use self.wv.__getitem__() instead).\n",
      "  This is separate from the ipykernel package so we can avoid doing imports until\n"
     ]
    }
   ],
   "source": [
    "df_model_avg = []\n",
    "for i in range(0, len(food_reviews)):\n",
    "    df_model_avg.append(get_mean(model[food_reviews.review_tokens[i]]))\n",
    "    \n",
    "df_model_avg = pd.DataFrame(df_model_avg)    "
   ]
  },
  {
   "cell_type": "code",
   "execution_count": 198,
   "metadata": {
    "_uuid": "e078d9fa657cbf98fdda1c499c965a6c3a923dd3"
   },
   "outputs": [
    {
     "name": "stderr",
     "output_type": "stream",
     "text": [
      "C:\\ProgramData\\Anaconda3\\lib\\site-packages\\ipykernel_launcher.py:3: DeprecationWarning: Call to deprecated `__getitem__` (Method will be removed in 4.0.0, use self.wv.__getitem__() instead).\n",
      "  This is separate from the ipykernel package so we can avoid doing imports until\n"
     ]
    }
   ],
   "source": [
    "df_model_sum = []\n",
    "for i in range(0, len(food_reviews)):\n",
    "    df_model_sum.append(get_sum(model[food_reviews.review_tokens[i]]))\n",
    "    \n",
    "df_model_sum = pd.DataFrame(df_model_sum)    "
   ]
  },
  {
   "cell_type": "markdown",
   "metadata": {
    "_uuid": "1f45dc938738ee478cf685595afd4fbb047e03c8"
   },
   "source": [
    "### Performing logistic regression and cross- validation to get the sentiment"
   ]
  },
  {
   "cell_type": "code",
   "execution_count": 199,
   "metadata": {
    "_uuid": "334b2d757dbc9485bf2b260276c00ae8558670ef"
   },
   "outputs": [],
   "source": [
    "from sklearn.linear_model import LogisticRegression\n",
    "from sklearn import metrics\n",
    "from sklearn import cross_validation"
   ]
  },
  {
   "cell_type": "code",
   "execution_count": 200,
   "metadata": {
    "_uuid": "bb5d38610b64fd0b5ac8071ae5c5055c3c573970"
   },
   "outputs": [
    {
     "name": "stdout",
     "output_type": "stream",
     "text": [
      "0.9227315087772685\n"
     ]
    }
   ],
   "source": [
    "predicted = cross_validation.cross_val_predict(LogisticRegression(), df_model_avg, food_reviews['sentiment'], cv=10)\n",
    "print(metrics.accuracy_score(food_reviews['sentiment'], predicted))"
   ]
  },
  {
   "cell_type": "markdown",
   "metadata": {
    "_uuid": "049b3c48b227f97946b93d4bd94ad29165dfbe1b"
   },
   "source": [
    "Accuracy of this is 92.27%, an improvement of 0.13%."
   ]
  },
  {
   "cell_type": "code",
   "execution_count": 201,
   "metadata": {
    "_uuid": "330463d0148bccea6fd8f1cf5a4275cc2aa3cad9"
   },
   "outputs": [
    {
     "name": "stdout",
     "output_type": "stream",
     "text": [
      "0.9200517316799482\n"
     ]
    }
   ],
   "source": [
    "predicted = cross_validation.cross_val_predict(LogisticRegression(), df_model_sum, food_reviews['sentiment'], cv=10)\n",
    "print(metrics.accuracy_score(food_reviews['sentiment'], predicted))"
   ]
  },
  {
   "cell_type": "markdown",
   "metadata": {},
   "source": [
    "Slight improvement as compared to the previous sum model to 92% "
   ]
  },
  {
   "cell_type": "markdown",
   "metadata": {
    "_uuid": "89cafae02ea4a02f9cfd6e195404c570df2dfb1d"
   },
   "source": [
    "### Implementing the same using TF-IDF"
   ]
  },
  {
   "cell_type": "code",
   "execution_count": null,
   "metadata": {
    "_uuid": "cd7c85c3c8bb2319f2bc82098cdc7ac1815c8e0c"
   },
   "outputs": [],
   "source": [
    "from nltk import FreqDist"
   ]
  },
  {
   "cell_type": "code",
   "execution_count": null,
   "metadata": {
    "_uuid": "efcefa86cdafd0080dfd72bbcc88e721dbfe3323"
   },
   "outputs": [],
   "source": [
    "from sklearn.feature_extraction.text import CountVectorizer\n",
    "from sklearn.feature_extraction.text import TfidfVectorizer"
   ]
  },
  {
   "cell_type": "code",
   "execution_count": null,
   "metadata": {
    "_uuid": "1b65d7c13d681254d5d49e2a823be8ad16dd326d"
   },
   "outputs": [],
   "source": [
    "food_reviews['extended_review_processed'] = food_reviews['text_ext'].apply(lambda x: \" \".join(x.lower() for x in x.split()))\n",
    "stop_words = set(stopwords.words('english'))\n",
    "food_reviews['extended_review_processed'] = food_reviews['extended_review_processed'].apply(lambda x: \" \".join(x for x in x.split() if x not in stop_words))\n"
   ]
  },
  {
   "cell_type": "code",
   "execution_count": null,
   "metadata": {
    "_uuid": "4bd61b25119e93faed597fd4cb47e61d46bc3a5f"
   },
   "outputs": [],
   "source": [
    "stemmer = PorterStemmer()\n",
    "food_reviews['extended_review_processed'] = food_reviews['extended_review_processed'].apply(lambda x: [stemmer.stem(words) for words in x.split(' ')])"
   ]
  },
  {
   "cell_type": "code",
   "execution_count": null,
   "metadata": {
    "_uuid": "edbb671f9d1d68da9f4f5fcbe6e1481811e8ff47"
   },
   "outputs": [],
   "source": [
    "food_reviews['extended_review_processed'] = food_reviews['extended_review_processed'].apply(lambda x : ' '.join(x))"
   ]
  },
  {
   "cell_type": "code",
   "execution_count": null,
   "metadata": {
    "_uuid": "1f05306472f6018c837c2a2a345889328399f17f"
   },
   "outputs": [],
   "source": [
    "vectorizer = TfidfVectorizer(max_df = 0.8, max_features=3000)\n",
    "tfidf = vectorizer.fit_transform(food_reviews['extended_review_processed'])\n"
   ]
  },
  {
   "cell_type": "code",
   "execution_count": null,
   "metadata": {
    "_uuid": "cfc04cf6b7f7f229e68943af71ca3b34ad0d6b7a"
   },
   "outputs": [],
   "source": [
    "model = None\n",
    "del model"
   ]
  },
  {
   "cell_type": "code",
   "execution_count": null,
   "metadata": {
    "_uuid": "ae24ef6b17ebb1db8926e405122a7554674f9624"
   },
   "outputs": [],
   "source": [
    "feature_names = vectorizer.get_feature_names()\n",
    "corpus_index = food_reviews.index\n",
    "tfidf_df = pd.DataFrame(tfidf.todense(), columns=feature_names)\n",
    "tfidf_df.head()"
   ]
  },
  {
   "cell_type": "markdown",
   "metadata": {
    "_uuid": "4e01af0cad4d1c28f7f7dcead384a8a1732e4f0e"
   },
   "source": [
    "### Performing logistic regression and 10 fold cross- validation to get the sentiment"
   ]
  },
  {
   "cell_type": "code",
   "execution_count": null,
   "metadata": {
    "_uuid": "b857ec266624d9db595b5526d2c226d4e17ea88f"
   },
   "outputs": [],
   "source": [
    "tfidf.shape\n"
   ]
  },
  {
   "cell_type": "code",
   "execution_count": null,
   "metadata": {
    "_uuid": "f1407ea7247e9369f6a2f8ee322cc42d8ff14499"
   },
   "outputs": [],
   "source": [
    "predicted = cross_validation.cross_val_predict(LogisticRegression(), tfidf, food_reviews['sentiment'], cv=10)\n",
    "print(metrics.accuracy_score(food_reviews['sentiment'], predicted))"
   ]
  },
  {
   "cell_type": "markdown",
   "metadata": {
    "_uuid": "42a212a4cac481acfc6391491b0016660f0a7879"
   },
   "source": [
    "The TF-IDF method gives an accuracy of 94%"
   ]
  },
  {
   "cell_type": "markdown",
   "metadata": {
    "_uuid": "9e0c413412e0014ba5ace021641292ccae9910bf"
   },
   "source": [
    "### Implementing LDA"
   ]
  },
  {
   "cell_type": "code",
   "execution_count": 66,
   "metadata": {
    "_uuid": "2871803199f543ebe5229dc842c7a5c5fe4dec7b",
    "scrolled": true
   },
   "outputs": [
    {
     "name": "stderr",
     "output_type": "stream",
     "text": [
      "C:\\ProgramData\\Anaconda3\\lib\\site-packages\\ipykernel_launcher.py:1: UserWarning: Pandas doesn't allow columns to be created via a new attribute name - see https://pandas.pydata.org/pandas-docs/stable/indexing.html#attribute-access\n",
      "  \"\"\"Entry point for launching an IPython kernel.\n"
     ]
    },
    {
     "data": {
      "text/plain": [
       "0      [good, qualiti, dog, food, bought, sever, vital, dog, food, product, found, good, qualiti, product, look, like, stew, process, meat, smell, better, labrador, finicki, appreci, thi, product, better]                                                                                                                                                                                                                                                                                                                                                                                                                                                                                                         \n",
       "1      [advertis, product, arriv, label, jumbo, salt, peanut, peanut, actual, small, size, unsalt, sure, thi, wa, error, vendor, intend, repres, product, jumbo]                                                                                                                                                                                                                                                                                                                                                                                                                                                                                                                                                     \n",
       "2      [delight, say, thi, confect, ha, around, centuri, light, pillowi, citru, gelatin, nut, thi, case, filbert, cut, tini, squar, liber, coat, powder, sugar, tini, mouth, heaven, chewi, veri, flavor, highli, recommend, thi, yummi, treat, familiar, stori, lewi, lion, witch, wardrob, thi, treat, seduc, edmund, sell, hi, brother, sister, witch]                                                                                                                                                                                                                                                                                                                                                            \n",
       "3      [cough, medicin, look, secret, ingredi, robitussin, believ, found, got, thi, addit, root, beer, extract, order, wa, good, made, cherri, soda, flavor, veri, medicin]                                                                                                                                                                                                                                                                                                                                                                                                                                                                                                                                          \n",
       "4      [great, taffi, great, taffi, great, price, wa, wide, assort, yummi, taffi, deliveri, wa, veri, quick, taffi, lover, thi, deal]                                                                                                                                                                                                                                                                                                                                                                                                                                                                                                                                                                                \n",
       "5      [nice, taffi, got, wild, hair, taffi, order, thi, five, pound, bag, taffi, wa, veri, enjoy, mani, flavor, watermelon, root, beer, melon, peppermint, grape, etc, onli, complaint, wa, bit, much, piec, particular, favorit, kid, husband, thi, last, onli, two, week, would, recommend, thi, brand, taffi, wa, delight, treat]                                                                                                                                                                                                                                                                                                                                                                                \n",
       "6      [great, good, expens, brand, thi, saltwat, taffi, great, flavor, wa, veri, soft, chewi, candi, wa, individu, wrap, well, none, candi, stuck, togeth, happen, expens, version, fraling, would, highli, recommend, thi, candi, serv, parti, everyon, love]                                                                                                                                                                                                                                                                                                                                                                                                                                                      \n",
       "7      [wonder, tasti, taffi, thi, taffi, good, veri, soft, chewi, flavor, amaz, would, definit, recommend, buy, veri, satisfi]                                                                                                                                                                                                                                                                                                                                                                                                                                                                                                                                                                                      \n",
       "8      [yay, barley, right, mostli, sprout, thi, cat, eat, grass, love, rotat, around, wheatgrass, rye]                                                                                                                                                                                                                                                                                                                                                                                                                                                                                                                                                                                                              \n",
       "9      [healthi, dog, food, thi, veri, healthi, dog, food, good, digest, also, good, small, puppi, dog, eat, requir, amount, everi, feed]                                                                                                                                                                                                                                                                                                                                                                                                                                                                                                                                                                            \n",
       "10     [best, hot, sauc, world, know, cactu, tequila, uniqu, combin, ingredi, flavour, thi, hot, sauc, make, one, kind, pick, bottl, onc, trip, brought, back, home, us, total, blown, away, realiz, simpli, could, find, anywher, citi, br, br, becaus, magic, internet, case, sauc, ecstat, becaus, br, br, love, hot, mean, realli, love, hot, sauc, want, sauc, tastelessli, burn, throat, grab, bottl, tequila, picant, gourmet, de, inclan, realiz, onc, tast, never, want, use, ani, br, br, thank, person, incred, servic]                                                                                                                                                                                   \n",
       "11     [cat, love, thi, diet, food, better, regular, food, one, boy, need, lose, weight, put, thi, food, floor, chubbi, guy, food, higher, onli, skinni, boy, jump, higher, food, sit, go, stale, realli, go, thi, food, chubbi, boy, ha, lose, ounc, week]                                                                                                                                                                                                                                                                                                                                                                                                                                                          \n",
       "12     [cat, fan, new, food, cat, happili, eat, felida, platinum, two, year, got, new, bag, shape, food, differ, tri, new, food, first, put, bowl, bowl, sit, full, kitti, touch, food, notic, similar, review, relat, formula, chang, past, unfortun, need, find, new, food, cat, eat]                                                                                                                                                                                                                                                                                                                                                                                                                              \n",
       "13     [fresh, greasi, good, flavor, came, secur, pack, fresh, delici, love, twizzler]                                                                                                                                                                                                                                                                                                                                                                                                                                                                                                                                                                                                                               \n",
       "14     [strawberri, twizzler, yummi, strawberri, twizzler, guilti, pleasur, yummi, six, pound, around, son]                                                                                                                                                                                                                                                                                                                                                                                                                                                                                                                                                                                                          \n",
       "15     [lot, twizzler, expect, daughter, love, twizzler, thi, shipment, six, pound, realli, hit, spot, exactli, would, expect, six, packag, strawberri, twizzler]                                                                                                                                                                                                                                                                                                                                                                                                                                                                                                                                                    \n",
       "16     [poor, tast, love, eat, good, watch, tv, look, movi, sweet, like, transfer, zip, lock, baggi, stay, fresh, take, time, eat]                                                                                                                                                                                                                                                                                                                                                                                                                                                                                                                                                                                   \n",
       "17     [love, veri, satisfi, twizzler, purchas, share, enjoy, definit, order]                                                                                                                                                                                                                                                                                                                                                                                                                                                                                                                                                                                                                                        \n",
       "18     [great, sweet, candi, twizzler, strawberri, childhood, favorit, candi, made, lancast, pennsylvania, candi, one, oldest, confectioneri, firm, unit, state, subsidiari, hershey, compani, compani, wa, establish, 1845, young, smyli, also, make, appl, licoric, twist, green, color, blue, raspberri, licoric, twist, like, br, br, keep, dri, cool, place, becaus, recommend, put, fridg, accord, guin, book, record, longest, licoric, twist, ever, made, measur, feet, 370, weight, 100, pound, 45, kg, wa, made, candi, thi, twist, becam, guin, world, record, juli, 19, thi, product, kosher, thank]                                                                                                     \n",
       "19     [home, deliv, twizler, candi, wa, deliv, veri, fast, wa, purchas, reason, price, wa, home, bound, unabl, get, store, thi, wa, perfect]                                                                                                                                                                                                                                                                                                                                                                                                                                                                                                                                                                        \n",
       "20     [alway, fresh, husband, twizzler, addict, bought, mani, time, amazon, becaus, govern, employe, live, oversea, ca, get, countri, assign, alway, fresh, tasti, pack, well, arriv, time, manner]                                                                                                                                                                                                                                                                                                                                                                                                                                                                                                                 \n",
       "21     [twizzler, bought, husband, current, oversea, love, appar, hi, staff, like, br, gener, amount, twizzler, bag, thi, wa, well, worth, price, http, twizzler, strawberri, bag, pack, 6]                                                                                                                                                                                                                                                                                                                                                                                                                                                                                                                          \n",
       "22     [delici, product, rememb, buy, thi, candi, kid, qualiti, ha, drop, year, still, superb, product, wo, disappoint]                                                                                                                                                                                                                                                                                                                                                                                                                                                                                                                                                                                              \n",
       "23     [twizzler, love, thi, candi, weight, watcher, cut, back, still, crave]                                                                                                                                                                                                                                                                                                                                                                                                                                                                                                                                                                                                                                        \n",
       "24     [pleas, sell, mexico, live, us, 7, yr, miss, twizzler, go, back, visit, someon, visit, alway, stock, say, yum, br, sell, mexico, faith, buyer, often, abl, buy, right]                                                                                                                                                                                                                                                                                                                                                                                                                                                                                                                                        \n",
       "25     [twizzler, strawberri, product, receiv, br, br, http, twizzler, strawberri, bag, pack, 6]                                                                                                                                                                                                                                                                                                                                                                                                                                                                                                                                                                                                                     \n",
       "26     [nasti, flavor, candi, red, flavor, plan, chewi, would, never, buy]                                                                                                                                                                                                                                                                                                                                                                                                                                                                                                                                                                                                                                           \n",
       "27     [great, bargain, price, wa, glad, amazon, carri, batteri, hard, time, find, elsewher, becaus, uniqu, size, need, garag, door, br, great, deal, price]                                                                                                                                                                                                                                                                                                                                                                                                                                                                                                                                                         \n",
       "28     [yummi, got, thi, mum, diabet, need, watch, sugar, intak, father, simpli, choos, limit, unnecessari, sugar, intak, one, sweet, tooth, love, toffe, would, never, guess, great, eat, pretti, much, guilt, free, wa, impress, order, w, dark, chocol, take, offic, eat, instead, snack, sugari, br, excel]                                                                                                                                                                                                                                                                                                                                                                                                      \n",
       "29     [best, hot, sauc, world, know, cactu, tequila, uniqu, combin, ingredi, flavour, thi, hot, sauc, make, one, kind, pick, bottl, onc, trip, brought, back, home, us, total, blown, away, realiz, simpli, could, find, anywher, citi, br, br, becaus, magic, internet, case, sauc, ecstat, becaus, br, br, love, hot, mean, realli, love, hot, sauc, want, sauc, tastelessli, burn, throat, grab, bottl, tequila, picant, gourmet, de, inclan, realiz, onc, tast, never, want, use, ani, br, br, thank, person, incred, servic]                                                                                                                                                                                   \n",
       "                                                                                                                                                                                                                                                                  ...                                                                                                                                                                                                                                                                                                                                                                                                                                                \n",
       "470    [love, kettl, chip, thi, flavor, wa, realli, look, forward, tri, chip, sinc, love, chees, wa, super, disappoint, big, fan, kettl, chip, tast, somewhat, stale, almost, plain, suppos, cheddar, tast, tast, ani, annoy, recommend, thi, vinegar, buffalo, bleu, favorit]                                                                                                                                                                                                                                                                                                                                                                                                                                       \n",
       "471    [mayb, worst, chip, ever, perhap, worst, chip, ever, gone, br, br, entir, life, sour, cream, onion, thi, case, chive, chip, favorit, recent, kettl, brand, honey, dijon, mustard, took, slot, found, sour, cream, onion, tri, br, br, soon, open, bag, chip, smell, powder, milk, inde, chip, coat, powder, sour, cream, aw, tast, like, rancid, milk, sour, like, sour, cream, rancid, powderi, textur, also, extrem, unapp, basic, hate, chip, would, recommend, chip, anyon, unless, particular, affin, powderi, chalki, textur, chip, rancid, onion, flavor, hard, time, believ, person, br, br, plan, contact, kettl, share, thought, hope, reassess, season, otherwis, wonder, kettl, style, chip]      \n",
       "472    [surpris, 1, differ, kettl, chip, look, feel, tast, like, lay, chip, use, favorit, wa, crinkl, cut, hefti, longer, favorit]                                                                                                                                                                                                                                                                                                                                                                                                                                                                                                                                                                                   \n",
       "473    [tasti, great, price, excel, chip, 80, cent, 2, ounc, bag, bargain, well, veri, tasti, chip, everyon, let, tri, ha, impress, comment, good, tast, yet, find, kettl, chip, disappoint]                                                                                                                                                                                                                                                                                                                                                                                                                                                                                                                         \n",
       "474    [crisp, love, chip, whi, bought, stock, entir, school, year, chip, tast, great, packag, seal, good, condit, arriv, box, hand, wa, tatter, hole, compl, squish, know, wa, result, custom, voyag, receiv, wa, bit, disgruntl, given, wa, fall, apart, luckili, victim, within, chip]                                                                                                                                                                                                                                                                                                                                                                                                                            \n",
       "475    [spici, thai, chip, total, orgasm, chip, best, spici, chip, ever, tast, sign, subscrib, save, option, case, contain, 15, fifteen, full, size, bag, chip, price, per, unit, equal, per, packag, even, cost, plain, chip, add, free, ship, fast, deliveri, thi, deal, steal, run, like, stole, someth, comput, order, spici, thai, chip, even, paid, go, price, still, ahead, curv, enjoy]                                                                                                                                                                                                                                                                                                                      \n",
       "476    [delici, els, expect, serious, tasti, tasti, tasti, fresh, br, br, onli, problem, pack, 24, lend, want, make, multipl, trip, cupboard, help, grab, multipl, bag, begin, pace, keep, br, br, ca, go, wrong, fan, salt, vinegar, classic, br, br, bag, doubl, size, kid, bag, size, one, small, ga, station, rack, realli, good, size, br, br, somewhat, healthier, snack, typic, bag, fri, chip, ha, 300, calori, per, bag, bad, someth, think, br, br, delici]                                                                                                                                                                                                                                                \n",
       "477    [great, valu, despit, come, extrem, larg, box, found, thi, great, valu, bag, preserv, reason, expir, date, month, away, definit, recommend]                                                                                                                                                                                                                                                                                                                                                                                                                                                                                                                                                                   \n",
       "478    [better, jalapeno, kettl, chip, nasti, greasi, rich, blood, plu, lack, major, flavor, spici, jalapeno, flavor, wa, dissapoint, chip, alway, hear, great, thing, chip, tell, yuck, yuck, yuck, give, pain, chip, ani, day, mayb, better, kettl, chip, brand, stay, clear, chip, wish, could, give, zero, star, could]                                                                                                                                                                                                                                                                                                                                                                                          \n",
       "479    [spici, good, like, spici, like, spici, enjoy, also, crunchi, chip]                                                                                                                                                                                                                                                                                                                                                                                                                                                                                                                                                                                                                                           \n",
       "480    [potato, chip, product, whi, purchas, thi, chip, quit, greasi]                                                                                                                                                                                                                                                                                                                                                                                                                                                                                                                                                                                                                                                \n",
       "481    [lightli, salt, heavili, delici, best, potato, chip, money, buy, enough, salt, tast, much, mask, linger, potatoey, awesom, wolf, bag, beauti, chip, ha, perfect, thick, teeth, get, excit, everi, time, put, one, mouth, everyth, chip, perfect, like, made, god, deliv, gabriel, know, amazon, carri, even, leav, hous, buy, may, never, eat, anyth, els]                                                                                                                                                                                                                                                                                                                                                    \n",
       "482    [love, first, bite, tang, crunch, first, discov, kettl, chip, sea, salt, vinegar, shop, trader, joe, daughter, mindi, could, believ, tasti, best, chip, ever, eaten, wa, love, first, bite, munch, ever, br, br, thing, favor, thicker, chip, crumbl, devour, delight, crunchi, combin, heavenli, tri, creat, origin, line, describ, thi, tast, treat, could, beat, manufactur, said, tang, crunch, poetic, br, br, health, valu, sinc, kettl, chip, peel, dure, prepar, get, nutrit, potassium, vitamin, mother, would, approv, fact, small, br, br, often, enjoy, kettl, chip, afternoon, snack, favorit, soda, ice, tea, also, delici, tuna, sandwich, hot, dog, lunch, well, actual, kettl, chip, go, ...]\n",
       "483    [best, chip, period, need, salt, hide, tast, potato, chip, chip, prove, tast, potato, come, instead, mask, ok, still, snack, food, salt, mean, healthiest, potato, chip, get, diet, like, avail, mean, eat, chip, kettl, best]                                                                                                                                                                                                                                                                                                                                                                                                                                                                                \n",
       "484    [delici, extra, crunchi, potato, chip, tran, br, br, tast, absolut, mood, potato, chip, kettl, brand, br, br, great, product, anyon, enjoy, highli, recommend, br, br, enjoy]                                                                                                                                                                                                                                                                                                                                                                                                                                                                                                                                 \n",
       "485    [chip, snob, alert, feel, strang, review, chip, compel, becaus, absolut, favorit, chip, kettl, ha, lot, flavor, alway, go, back, regular, lightli, br, br, thicker, sometim, greasi, bottom, bag, plu, often, look, burn, actual, burn, ha, someth, much, sugar, potato, make, dark, love, open, bag, find, brown, br, br, lay, wise, place, becom, chip, snob, thank, br, br, like, edi, breyer, ice, cream, product, worth, money, best, best]                                                                                                                                                                                                                                                              \n",
       "486    [best, salt, vinegar, tri, lot, v, chip, best, real, sea, salt, real, vinegar, flavor, crispi, faint, heart, flavor, veri, authent]                                                                                                                                                                                                                                                                                                                                                                                                                                                                                                                                                                           \n",
       "487    [gourmet, power, salt, vinegar, chip, kettl, brand, chip, veri, crunchi, would, say, regular, plain, old, lay, potato, chip, soft, end, spectrum, ruffl, brand, potato, chip, use, consid, crunchiest, kettl, brand, chip, far, crunchi, tender, mouth, bad, teeth, dentur, might, want, steer, clear, kettl, brand, otherwis, love, chip, sea, salt, vinegar, chip, super, tangi, enjoy, take, swig, vinegar, bottl, time, time, dissapoint, salt, vinegar, chip, either, becaus, chip, soft, vinegar, tast, whimpi, chemic, rest, assur, kettl, sea, salt, vinegar, ha, gourmet, flavor, vinegar, flavor, ha, chemic, flavor, could, never, call, whimpi]                                                   \n",
       "488    [chang, chip, tast, horribl, onc, love, chip, onli, chip, would, buy, discov, wa, england, back, 2000, quickli, becam, fan, year, ago, pick, bag, wa, sale, local, supermarket, wa, find, odd, sale, much, took, advantag, open, bag, found, chip, even, close, kettl, chip, wa, use, uniform, whitish, yellow, color, flavor, wa, way, love, extra, crisp, brown, chip, gone, complet, wa, veri, disappoint, kettl, follow, happen, bought, thi, bag, chip, day, veri, differ, tast, tast, cheaper, know, els, put, also, notic, chip, seem, less, cook, see, ani, browner, color, chip, flavor, hope, noth, ha, chang, ingredi, process, use, produc, thi, product, get, ...]                               \n",
       "489    [miss, salt, someon, brought, parti, last, month, put, becaus, buffet, wa, full, think, anyon, would, like, saltless, potato, chip, last, week, friend, pantri, put, oh, gosh, good, wa, wrong, think, would, bland, full, real, potato, flavor, wonder, crisp, veri, fresh, tast, amazon, buy, case, onli, want, dip, truli, delici]                                                                                                                                                                                                                                                                                                                                                                         \n",
       "490    [great, deal, backyard, bbq, kettl, chip, great, deal, promo, code, wa, nice, larger, size, bag, kettl, chip, groceri, store, onli, 5, ounc, polish, one, famili, lunch, arriv, fresh, crumbl, chip, amazon, groceri, great, flavor, natur]                                                                                                                                                                                                                                                                                                                                                                                                                                                                   \n",
       "491    [best, chip, tri, herr, utz, wise, pringl, lay, etc, kettl, tast, best, quantiti, salt, use, optimum, br, br, although, say, serv, size, 1, ounc, finish, whole, packet, time, total, calori, 300, 2, ounc, bag, thi, slightli, higher, side, still, ok, compromis, br, br, onli, issu, wa, packet, burnt, chip, tast, bad, kettl, take, care, pack, ensur, burnt, chip, br, br, thank, amazon, get, 24, bag, 12, buck, free, ship, use, coupon]                                                                                                                                                                                                                                                              \n",
       "492    [great, price, tangi, expect, chip, tangi, hope, expect, poor, brother, better, choic, salt, n, vinegar, fan]                                                                                                                                                                                                                                                                                                                                                                                                                                                                                                                                                                                                 \n",
       "493    [kettl, chip, got, kettl, chip, sea, salt, vinegar, 15, 5oz, bag, wa, impress, tast, kind, flat, wa, eat, bag, look, bag, notic, hole, bag, size, sesam, seed, start, look, unopen, bag, mani, thi, type, hole, bag, multipl, hole, one, bag, hole, size, dime, bottom, bag, like, rodent, got, box, ship, hole, pack, thi, way, much, qualiti, control, ever, let, ship, fire, needless, say, never, eat, anymor, kettl, product, expect, full, refund, kettl, br, martin]                                                                                                                                                                                                                                   \n",
       "494    [absot, posilut, delici, chill, fridg, seem, boost, flavor, even, use, rather, corn, chip, make, nacho, tastebud, sing, like, janet, jackson, without, ani, associ, wardrob, risk, highli, recommend]                                                                                                                                                                                                                                                                                                                                                                                                                                                                                                         \n",
       "495    [gone, hill, origin, produc, england, best, chip, ever, tast, unfortun, sinc, bought, us, conglomer, tast, plain, nasti, hard, rather, crispi, much, thinner, use, lack, ani, flavour, real, shame]                                                                                                                                                                                                                                                                                                                                                                                                                                                                                                           \n",
       "496    [complet, rip, open, numer, bag, found, none, chip, ani, flavor, complet, plain, gross, doe, thi, even, happen]                                                                                                                                                                                                                                                                                                                                                                                                                                                                                                                                                                                               \n",
       "497    [c, h, p, h, p, r, b, c, k, r, r, b, e, c, u, e, wa, get, veri, worri, read, review, specif, one, star, review, alway, go, see, fault, review, find, ani, merchandis, would, prevent, buy, br, br, wow, sure, seem, hate, kettl, chip, backyard, barbecu, bag, pack, 12, bought, 1, ounc, bag, like, lot, decid, subscrib, good, measur, got, 2, order, 9, ounc, br, br, ye, love, potato, chip, kettl, chip, backyard, barbecu, flavour, seem, realli, hate, least, hate, br, realiz, talk, flavour, amazon, deep, wisdom, ha, obvious, seen, fit, put, comment, concern, flavour, kettl, brand, potato, chip, ...]                                                                                          \n",
       "498    [stale, bewar, buy, special, bought, local, supermarket, enjoy, although, salti, leav, tongu, roof, mouth, burn, keep, eat, mani, occasion, get, realli, stale, item, thi, wa, one, uned, bewar, qualiti, food, item, thi, websit, special, veri, close, due, date, thi, case, expir, stale, uned]                                                                                                                                                                                                                                                                                                                                                                                                            \n",
       "499    [veri, good, chip, veri, good, could, stop, eat, last, veri, br, br, reason, gave, 4, star, instead, 5, becaus, think, bag, littl, hard, open, sure, whi, need, make, potato, chip, bag, sturdi, may, need, scissor, hand, open, much, easier]                                                                                                                                                                                                                                                                                                                                                                                                                                                                \n",
       "Name: review_tokens, Length: 500, dtype: object"
      ]
     },
     "execution_count": 66,
     "metadata": {},
     "output_type": "execute_result"
    }
   ],
   "source": [
    "food_reviews.review_tokens2 = food_reviews.review_tokens[0:500]\n",
    "food_reviews.review_tokens2"
   ]
  },
  {
   "cell_type": "code",
   "execution_count": 67,
   "metadata": {
    "_uuid": "4ac0c4cbfb528881b1d74adda478f994f07f0d18"
   },
   "outputs": [],
   "source": [
    "import gensim\n",
    "from gensim.utils import simple_preprocess"
   ]
  },
  {
   "cell_type": "code",
   "execution_count": 68,
   "metadata": {
    "_uuid": "bb40ae51437fe4b73e92d5d653d5cd6f35e497ff"
   },
   "outputs": [],
   "source": [
    "'''\n",
    "Create a dictionary from 'processed_docs' containing the number of times a word appears \n",
    "in the training set using gensim.corpora.Dictionary and call it 'dictionary'\n",
    "'''\n",
    "dictionary = gensim.corpora.Dictionary(food_reviews.review_tokens2)"
   ]
  },
  {
   "cell_type": "code",
   "execution_count": 70,
   "metadata": {
    "_uuid": "7a13986f28b51473ba070cd276f27f0f2291a727"
   },
   "outputs": [],
   "source": [
    "'''\n",
    "Create the Bag-of-words model for each document i.e for each document we create a dictionary reporting how many\n",
    "words and how many times those words appear. Save this to 'bow_corpus'\n",
    "'''\n",
    "bow_corpus = [dictionary.doc2bow(doc) for doc in food_reviews.review_tokens2]"
   ]
  },
  {
   "cell_type": "code",
   "execution_count": 98,
   "metadata": {
    "_uuid": "d37c1958cc85d3f0d0b0755f9f4db8a81e50c030"
   },
   "outputs": [
    {
     "name": "stdout",
     "output_type": "stream",
     "text": [
      "(0, '0.032*\"thi\" + 0.026*\"br\" + 0.017*\"food\" + 0.013*\"great\" + 0.012*\"good\" + 0.010*\"wa\" + 0.009*\"dog\"')\n",
      "(1, '0.023*\"thi\" + 0.020*\"br\" + 0.013*\"one\" + 0.013*\"food\" + 0.010*\"cat\" + 0.010*\"like\" + 0.009*\"tast\"')\n",
      "(2, '0.032*\"thi\" + 0.017*\"sugar\" + 0.012*\"product\" + 0.011*\"flavor\" + 0.011*\"use\" + 0.010*\"wa\" + 0.010*\"good\"')\n",
      "(3, '0.017*\"tast\" + 0.015*\"thi\" + 0.014*\"like\" + 0.013*\"br\" + 0.012*\"wa\" + 0.010*\"bag\" + 0.009*\"chip\"')\n",
      "(4, '0.043*\"chip\" + 0.027*\"br\" + 0.016*\"flavor\" + 0.013*\"thi\" + 0.013*\"kettl\" + 0.012*\"bag\" + 0.012*\"love\"')\n"
     ]
    }
   ],
   "source": [
    "ldamodel = gensim.models.ldamodel.LdaModel(bow_corpus, num_topics = 5, id2word=dictionary, passes=15, minimum_probability= 0)\n",
    "ldamodel.save('model5.gensim')"
   ]
  },
  {
   "cell_type": "code",
   "execution_count": 155,
   "metadata": {},
   "outputs": [],
   "source": [
    "debae = pd.DataFrame()\n",
    "for i in range(0, 500):\n",
    "    debae = pd.concat([debae, pd.DataFrame(ldamodel.get_document_topics(bow_corpus[i]))[1]], axis=1)\n",
    "    \n",
    "debae = debae.transpose()    "
   ]
  },
  {
   "cell_type": "markdown",
   "metadata": {},
   "source": [
    "## Taking a sample 0f 1% data and carrying out model building on it!"
   ]
  },
  {
   "cell_type": "code",
   "execution_count": 205,
   "metadata": {},
   "outputs": [],
   "source": [
    "food_review_sample = food_reviews.sample(frac=0.01)"
   ]
  },
  {
   "cell_type": "code",
   "execution_count": 206,
   "metadata": {},
   "outputs": [
    {
     "data": {
      "text/plain": [
       "3997"
      ]
     },
     "execution_count": 206,
     "metadata": {},
     "output_type": "execute_result"
    }
   ],
   "source": [
    "len(food_review_sample.productid.unique())"
   ]
  },
  {
   "cell_type": "markdown",
   "metadata": {},
   "source": [
    "### Carrying out LDA on it"
   ]
  },
  {
   "cell_type": "code",
   "execution_count": 85,
   "metadata": {},
   "outputs": [],
   "source": [
    "from sklearn.decomposition import LatentDirichletAllocation"
   ]
  },
  {
   "cell_type": "code",
   "execution_count": 207,
   "metadata": {
    "_uuid": "bb40ae51437fe4b73e92d5d653d5cd6f35e497ff"
   },
   "outputs": [],
   "source": [
    "dictionary = gensim.corpora.Dictionary(food_review_sample.review_tokens)\n",
    "bow_corpus = [dictionary.doc2bow(doc) for doc in food_review_sample.review_tokens]"
   ]
  },
  {
   "cell_type": "code",
   "execution_count": 208,
   "metadata": {
    "_uuid": "d37c1958cc85d3f0d0b0755f9f4db8a81e50c030"
   },
   "outputs": [],
   "source": [
    "ldamodel = gensim.models.ldamodel.LdaModel(bow_corpus, num_topics = 50, id2word=dictionary, passes=15, minimum_probability= 0)"
   ]
  },
  {
   "cell_type": "code",
   "execution_count": 212,
   "metadata": {},
   "outputs": [],
   "source": [
    "lda_df = pd.DataFrame()\n",
    "for i in range(0, len(food_review_sample)):\n",
    "    lda_df = pd.concat([lda_df, pd.DataFrame(ldamodel.get_document_topics(bow_corpus[i]))[1]], axis=1)\n",
    "    \n",
    "lda_df = lda_df.transpose()    "
   ]
  },
  {
   "cell_type": "code",
   "execution_count": 215,
   "metadata": {},
   "outputs": [
    {
     "data": {
      "text/plain": [
       "(5258, 15)"
      ]
     },
     "execution_count": 215,
     "metadata": {},
     "output_type": "execute_result"
    }
   ],
   "source": [
    "food_review_sample.shape"
   ]
  },
  {
   "cell_type": "code",
   "execution_count": 216,
   "metadata": {
    "_uuid": "f1407ea7247e9369f6a2f8ee322cc42d8ff14499"
   },
   "outputs": [
    {
     "name": "stdout",
     "output_type": "stream",
     "text": [
      "0.8488018257892734\n"
     ]
    }
   ],
   "source": [
    "#Performing logistic regression with 10-fold CV\n",
    "predicted = cross_validation.cross_val_predict(LogisticRegression(), lda_df, food_review_sample['sentiment'], cv=10)\n",
    "print(metrics.accuracy_score(food_review_sample['sentiment'], predicted))"
   ]
  },
  {
   "cell_type": "markdown",
   "metadata": {},
   "source": [
    "#### TF-IDF on the sample"
   ]
  },
  {
   "cell_type": "code",
   "execution_count": 217,
   "metadata": {
    "_uuid": "cd7c85c3c8bb2319f2bc82098cdc7ac1815c8e0c"
   },
   "outputs": [],
   "source": [
    "from nltk import FreqDist"
   ]
  },
  {
   "cell_type": "code",
   "execution_count": 218,
   "metadata": {
    "_uuid": "efcefa86cdafd0080dfd72bbcc88e721dbfe3323"
   },
   "outputs": [],
   "source": [
    "from sklearn.feature_extraction.text import CountVectorizer\n",
    "from sklearn.feature_extraction.text import TfidfVectorizer"
   ]
  },
  {
   "cell_type": "code",
   "execution_count": 224,
   "metadata": {
    "_uuid": "1f05306472f6018c837c2a2a345889328399f17f"
   },
   "outputs": [],
   "source": [
    "vectorizer = TfidfVectorizer(max_df = 0.8, max_features=3000)\n",
    "tfidf = vectorizer.fit_transform(food_review_sample['review_tokens'].apply(lambda x : ' '.join(x)))\n"
   ]
  },
  {
   "cell_type": "code",
   "execution_count": 225,
   "metadata": {
    "_uuid": "ae24ef6b17ebb1db8926e405122a7554674f9624"
   },
   "outputs": [
    {
     "data": {
      "text/plain": [
       "(5258, 3000)"
      ]
     },
     "execution_count": 225,
     "metadata": {},
     "output_type": "execute_result"
    }
   ],
   "source": [
    "feature_names = vectorizer.get_feature_names()\n",
    "corpus_index = food_reviews.index\n",
    "tfidf_df = pd.DataFrame(tfidf.todense(), columns=feature_names)\n",
    "tfidf_df.shape"
   ]
  },
  {
   "cell_type": "code",
   "execution_count": 228,
   "metadata": {
    "_uuid": "f1407ea7247e9369f6a2f8ee322cc42d8ff14499"
   },
   "outputs": [
    {
     "name": "stdout",
     "output_type": "stream",
     "text": [
      "0.8883605933815139\n"
     ]
    }
   ],
   "source": [
    "#Performing logistic regression with 10-fold CV\n",
    "predicted = cross_validation.cross_val_predict(LogisticRegression(), tfidf_df, food_review_sample['sentiment'], cv=10)\n",
    "print(metrics.accuracy_score(food_review_sample['sentiment'], predicted))"
   ]
  },
  {
   "cell_type": "markdown",
   "metadata": {},
   "source": [
    "88.83% Accuracy"
   ]
  },
  {
   "cell_type": "code",
   "execution_count": 240,
   "metadata": {},
   "outputs": [],
   "source": [
    "lda_df.index = range(0, len(lda_df))"
   ]
  },
  {
   "cell_type": "markdown",
   "metadata": {},
   "source": [
    "#### Combining TF-IDF and LDA"
   ]
  },
  {
   "cell_type": "code",
   "execution_count": 254,
   "metadata": {},
   "outputs": [
    {
     "name": "stdout",
     "output_type": "stream",
     "text": [
      "0.8881704069988589\n"
     ]
    }
   ],
   "source": [
    "#Performing logistic regression with 10-fold CV\n",
    "predicted = cross_validation.cross_val_predict(LogisticRegression(), pd.concat([tfidf_df.reset_index(drop=True), lda_df], axis=1), food_review_sample['sentiment'], cv=10)\n",
    "print(metrics.accuracy_score(food_review_sample['sentiment'], predicted))"
   ]
  },
  {
   "cell_type": "markdown",
   "metadata": {},
   "source": [
    "88.81% Accuracy. Slight decrease"
   ]
  },
  {
   "cell_type": "code",
   "execution_count": 244,
   "metadata": {},
   "outputs": [],
   "source": [
    "bigram = Phrases(list(food_review_sample['review_tokens']), min_count=1, threshold=2, delimiter=b' ')\n",
    "bigram_phraser = Phraser(bigram)\n",
    "food_review_sample['review_tokens'] = bigram_phraser[list(food_review_sample['review_tokens'])]"
   ]
  },
  {
   "cell_type": "code",
   "execution_count": 246,
   "metadata": {
    "_uuid": "86d3ad0ec3c8eab60c1272d31c14a1c57cb59a1a"
   },
   "outputs": [],
   "source": [
    "model = Word2Vec(food_review_sample.review_tokens, size=100, window=5, min_count=1, workers=4)"
   ]
  },
  {
   "cell_type": "code",
   "execution_count": 247,
   "metadata": {
    "_uuid": "9a92f89eed253e371cc24afbb32e2d15c9ee4480"
   },
   "outputs": [],
   "source": [
    "def get_mean(x):\n",
    "    # Gets the mean of the sentence so that the sentence is represented in the 100-d space\n",
    "    x = pd.DataFrame(x)\n",
    "    return x.mean()\n",
    "\n",
    "def get_sum(x):\n",
    "    # Gets the sum of the sentence so that the sentence is represented in the 100-d space\n",
    "    x = pd.DataFrame(x)\n",
    "    return x.sum()\n",
    "    "
   ]
  },
  {
   "cell_type": "code",
   "execution_count": 248,
   "metadata": {
    "_uuid": "7343eefb3af654ae5fd7233d7f8209c1058a758b"
   },
   "outputs": [],
   "source": [
    "food_review_sample.index = range(food_review_sample.shape[0]) "
   ]
  },
  {
   "cell_type": "code",
   "execution_count": 249,
   "metadata": {
    "_uuid": "7658ff34089af55151c910cf917cbb5f4ea53335"
   },
   "outputs": [
    {
     "name": "stderr",
     "output_type": "stream",
     "text": [
      "C:\\ProgramData\\Anaconda3\\lib\\site-packages\\ipykernel_launcher.py:3: DeprecationWarning: Call to deprecated `__getitem__` (Method will be removed in 4.0.0, use self.wv.__getitem__() instead).\n",
      "  This is separate from the ipykernel package so we can avoid doing imports until\n"
     ]
    }
   ],
   "source": [
    "df_model_avg = []\n",
    "for i in range(0, len(food_review_sample)):\n",
    "    df_model_avg.append(get_mean(model[food_review_sample.review_tokens[i]]))\n",
    "    \n",
    "df_model_avg = pd.DataFrame(df_model_avg)    "
   ]
  },
  {
   "cell_type": "code",
   "execution_count": 250,
   "metadata": {
    "_uuid": "e078d9fa657cbf98fdda1c499c965a6c3a923dd3"
   },
   "outputs": [
    {
     "name": "stderr",
     "output_type": "stream",
     "text": [
      "C:\\ProgramData\\Anaconda3\\lib\\site-packages\\ipykernel_launcher.py:3: DeprecationWarning: Call to deprecated `__getitem__` (Method will be removed in 4.0.0, use self.wv.__getitem__() instead).\n",
      "  This is separate from the ipykernel package so we can avoid doing imports until\n"
     ]
    }
   ],
   "source": [
    "df_model_sum = []\n",
    "for i in range(0, len(food_review_sample)):\n",
    "    df_model_sum.append(get_sum(model[food_review_sample.review_tokens[i]]))\n",
    "    \n",
    "df_model_sum = pd.DataFrame(df_model_sum)    "
   ]
  },
  {
   "cell_type": "code",
   "execution_count": 251,
   "metadata": {
    "_uuid": "bb5d38610b64fd0b5ac8071ae5c5055c3c573970"
   },
   "outputs": [
    {
     "name": "stdout",
     "output_type": "stream",
     "text": [
      "0.8497527577025485\n"
     ]
    }
   ],
   "source": [
    "#Performing logistic regression with 10-fold CV\n",
    "predicted = cross_validation.cross_val_predict(LogisticRegression(), df_model_avg, food_review_sample['sentiment'], cv=10)\n",
    "print(metrics.accuracy_score(food_review_sample['sentiment'], predicted))"
   ]
  },
  {
   "cell_type": "markdown",
   "metadata": {
    "_uuid": "049b3c48b227f97946b93d4bd94ad29165dfbe1b"
   },
   "source": [
    "Accuracy of this is 84.97%."
   ]
  },
  {
   "cell_type": "code",
   "execution_count": 252,
   "metadata": {
    "_uuid": "330463d0148bccea6fd8f1cf5a4275cc2aa3cad9"
   },
   "outputs": [
    {
     "name": "stdout",
     "output_type": "stream",
     "text": [
      "0.8488018257892734\n"
     ]
    }
   ],
   "source": [
    "#Performing logistic regression with 10-fold CV\n",
    "predicted = cross_validation.cross_val_predict(LogisticRegression(), df_model_sum, food_review_sample['sentiment'], cv=10)\n",
    "print(metrics.accuracy_score(food_review_sample['sentiment'], predicted))"
   ]
  },
  {
   "cell_type": "markdown",
   "metadata": {
    "_uuid": "049b3c48b227f97946b93d4bd94ad29165dfbe1b"
   },
   "source": [
    "Accuracy of this is 84.88%."
   ]
  },
  {
   "cell_type": "markdown",
   "metadata": {},
   "source": [
    "#### Combining TF-IDF, Word2Vec and LDA"
   ]
  },
  {
   "cell_type": "code",
   "execution_count": 253,
   "metadata": {},
   "outputs": [
    {
     "name": "stdout",
     "output_type": "stream",
     "text": [
      "0.8879802206162039\n"
     ]
    }
   ],
   "source": [
    "#Performing logistic regression with 10-fold CV\n",
    "predicted = cross_validation.cross_val_predict(LogisticRegression(), pd.concat([tfidf_df.reset_index(drop=True), lda_df, df_model_avg], axis=1), food_review_sample['sentiment'], cv=10)\n",
    "print(metrics.accuracy_score(food_review_sample['sentiment'], predicted))"
   ]
  },
  {
   "cell_type": "markdown",
   "metadata": {
    "_uuid": "049b3c48b227f97946b93d4bd94ad29165dfbe1b"
   },
   "source": [
    "Accuracy of this is 88.79%."
   ]
  },
  {
   "cell_type": "markdown",
   "metadata": {},
   "source": [
    "#### Combining TF-IDF and Word2Vec"
   ]
  },
  {
   "cell_type": "code",
   "execution_count": 255,
   "metadata": {},
   "outputs": [
    {
     "name": "stdout",
     "output_type": "stream",
     "text": [
      "0.8887409661468239\n"
     ]
    }
   ],
   "source": [
    "#Performing logistic regression with 10-fold CV\n",
    "predicted = cross_validation.cross_val_predict(LogisticRegression(), pd.concat([tfidf_df.reset_index(drop=True), df_model_avg], axis=1), food_review_sample['sentiment'], cv=10)\n",
    "print(metrics.accuracy_score(food_review_sample['sentiment'], predicted))"
   ]
  },
  {
   "cell_type": "markdown",
   "metadata": {
    "_uuid": "049b3c48b227f97946b93d4bd94ad29165dfbe1b"
   },
   "source": [
    "Accuracy of this is 88.87%."
   ]
  },
  {
   "cell_type": "markdown",
   "metadata": {},
   "source": [
    "#### Combining LDA and Word2Vec"
   ]
  },
  {
   "cell_type": "code",
   "execution_count": 256,
   "metadata": {},
   "outputs": [
    {
     "name": "stdout",
     "output_type": "stream",
     "text": [
      "0.8489920121719285\n"
     ]
    }
   ],
   "source": [
    "#Performing logistic regression with 10-fold CV\n",
    "predicted = cross_validation.cross_val_predict(LogisticRegression(), pd.concat([lda_df.reset_index(drop=True), df_model_avg], axis=1), food_review_sample['sentiment'], cv=10)\n",
    "print(metrics.accuracy_score(food_review_sample['sentiment'], predicted))"
   ]
  },
  {
   "cell_type": "markdown",
   "metadata": {
    "_uuid": "049b3c48b227f97946b93d4bd94ad29165dfbe1b"
   },
   "source": [
    "Accuracy of this is 84.89%."
   ]
  },
  {
   "cell_type": "code",
   "execution_count": null,
   "metadata": {
    "_uuid": "6c9b4ab4f4f05e45c2e9b245540db731485b6648"
   },
   "outputs": [],
   "source": [
    "import pyLDAvis.gensim\n",
    "pyLDAvis.enable_notebook()\n",
    "\n",
    "import warnings\n",
    "warnings.filterwarnings(\"ignore\", category=DeprecationWarning) \n",
    "pyLDAvis.gensim.prepare(ldamodel, bow_corpus, dictionary)\n",
    "\n",
    "'''\n",
    "What do we see here?\n",
    "\n",
    "The left panel, labeld Intertopic Distance Map, circles represent different topics and the distance between them. \n",
    "Similar topics appear closer and the dissimilar topics farther. The relative size of a topic's circle in the plot \n",
    "corresponds to the relative frequency of the topic in the corpus. An individual topic may be selected for closer \n",
    "scrutiny by clicking on its circle, or entering its number in the \"selected topic\" box in the upper-left.\n",
    "\n",
    "The right panel, include the bar chart of the top 30 terms. When no topic is selected in the plot on the left,\n",
    "the bar chart shows the top-30 most \"salient\" terms in the corpus. A term's saliency is a measure of both how \n",
    "frequent the term is in the corpus and how \"distinctive\" it is in distinguishing between different topics. \n",
    "Selecting each topic on the right, modifies the bar chart to show the \"relevant\" terms for the selected topic. \n",
    "Relevence is defined as in footer 2 and can be tuned by parameter  λ , smaller  λ  gives higher weight to the term's \n",
    "distinctiveness while larger  λ s corresponds to probablity of the term occurance per topics.\n",
    "\n",
    "Therefore, to get a better sense of terms per topic use  λ =0.\n",
    "\n",
    "'''"
   ]
  },
  {
   "cell_type": "code",
   "execution_count": null,
   "metadata": {
    "_uuid": "cf3029b47564731d9a2cbec2102cc8e3686b1a15"
   },
   "outputs": [],
   "source": []
  }
 ],
 "metadata": {
  "kernelspec": {
   "display_name": "Python 3",
   "language": "python",
   "name": "python3"
  },
  "language_info": {
   "codemirror_mode": {
    "name": "ipython",
    "version": 3
   },
   "file_extension": ".py",
   "mimetype": "text/x-python",
   "name": "python",
   "nbconvert_exporter": "python",
   "pygments_lexer": "ipython3",
   "version": "3.6.5"
  }
 },
 "nbformat": 4,
 "nbformat_minor": 1
}
